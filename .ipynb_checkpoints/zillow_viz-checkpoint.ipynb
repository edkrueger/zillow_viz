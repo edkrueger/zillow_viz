{
 "cells": [
  {
   "cell_type": "markdown",
   "metadata": {},
   "source": [
    "# Zillow Data Visualizer\n",
    "## *Edward Krueger*"
   ]
  },
  {
   "cell_type": "markdown",
   "metadata": {},
   "source": [
    "This notebook uses Quandl's API client to pull data from the Zillow Real Estate Research from Quandl.\n",
    "It loads that data into a ```pandas``` DataFrame and visualizes it using the ```bokeh``` package. "
   ]
  },
  {
   "cell_type": "markdown",
   "metadata": {},
   "source": [
    "There are many locations available. For a complete list, or to search for a location, I have build the documentation in ```build_zillow_docs.ipynb```. There are also many types of data available. I will focus on Median Rental Price and Median Listing Price, but my visualizer will work with other codes."
   ]
  },
  {
   "cell_type": "markdown",
   "metadata": {
    "collapsed": true
   },
   "source": [
    "Here is a list of indicator code prefixes and their descriptions.\n",
    "These correspond to types of data.\n",
    "* AOI - Age of Inventory\n",
    "* BSI - Buyer Seller Index\n",
    "* SALES - Volume of Sale\n",
    "* SASALES - Volume of Sales Seasonally Adj.\n",
    "* LPC - Listings Price Cuts\n",
    "* MHI - Market Health Index \n",
    "* MLP - Median Listing Price\n",
    "* MLPF - Median Listing Price Per Square Foot\n",
    "* MPC - Median Price Cut\n",
    "* MPPR - Median Price Of Reduction\n",
    "* MRP - Median Rental Price\n",
    "* MRPF - Median Rental Price Per Square Foot\n",
    "* MSP - Median Sold Price\n",
    "* MSPF - Median Sold Price Per Square Foot\n",
    "* MVALF - Median Value Per Square Foot\n",
    "* PHDV - Percent Of Homes Decreasing In Values\n",
    "* PDIV - Percent Of Homes Increasing In Values\n",
    "* PHS - Percent Of Homes Selling For Gain/Loss\n",
    "* PLPR - Percent Of Listings With Price Reductions\n",
    "* PTPFH - Percent Transactions That Are Previously Foreclosured Homes\n",
    "* PRR - Price To Rent Ratio\n",
    "* TURN - Turnover\n",
    "* USR - Unsold Renos\n",
    "* ZHVI - Zillow Home Value Index\n",
    "* ZRI - Zillow Rental Index"
   ]
  },
  {
   "cell_type": "markdown",
   "metadata": {},
   "source": [
    "## Setup"
   ]
  },
  {
   "cell_type": "markdown",
   "metadata": {},
   "source": [
    "### Import and configure packages"
   ]
  },
  {
   "cell_type": "code",
   "execution_count": 1,
   "metadata": {},
   "outputs": [
    {
     "data": {
      "text/html": [
       "\n",
       "    <div class=\"bk-root\">\n",
       "        <a href=\"https://bokeh.pydata.org\" target=\"_blank\" class=\"bk-logo bk-logo-small bk-logo-notebook\"></a>\n",
       "        <span id=\"ed835017-fab3-45b0-a8d6-eefa0c1f228b\">Loading BokehJS ...</span>\n",
       "    </div>"
      ]
     },
     "metadata": {},
     "output_type": "display_data"
    },
    {
     "data": {
      "application/javascript": [
       "\n",
       "(function(root) {\n",
       "  function now() {\n",
       "    return new Date();\n",
       "  }\n",
       "\n",
       "  var force = true;\n",
       "\n",
       "  if (typeof (root._bokeh_onload_callbacks) === \"undefined\" || force === true) {\n",
       "    root._bokeh_onload_callbacks = [];\n",
       "    root._bokeh_is_loading = undefined;\n",
       "  }\n",
       "\n",
       "  var JS_MIME_TYPE = 'application/javascript';\n",
       "  var HTML_MIME_TYPE = 'text/html';\n",
       "  var EXEC_MIME_TYPE = 'application/vnd.bokehjs_exec.v0+json';\n",
       "  var CLASS_NAME = 'output_bokeh rendered_html';\n",
       "\n",
       "  /**\n",
       "   * Render data to the DOM node\n",
       "   */\n",
       "  function render(props, node) {\n",
       "    var script = document.createElement(\"script\");\n",
       "    node.appendChild(script);\n",
       "  }\n",
       "\n",
       "  /**\n",
       "   * Handle when an output is cleared or removed\n",
       "   */\n",
       "  function handleClearOutput(event, handle) {\n",
       "    var cell = handle.cell;\n",
       "\n",
       "    var id = cell.output_area._bokeh_element_id;\n",
       "    var server_id = cell.output_area._bokeh_server_id;\n",
       "    // Clean up Bokeh references\n",
       "    if (id !== undefined) {\n",
       "      Bokeh.index[id].model.document.clear();\n",
       "      delete Bokeh.index[id];\n",
       "    }\n",
       "\n",
       "    if (server_id !== undefined) {\n",
       "      // Clean up Bokeh references\n",
       "      var cmd = \"from bokeh.io.state import curstate; print(curstate().uuid_to_server['\" + server_id + \"'].get_sessions()[0].document.roots[0]._id)\";\n",
       "      cell.notebook.kernel.execute(cmd, {\n",
       "        iopub: {\n",
       "          output: function(msg) {\n",
       "            var element_id = msg.content.text.trim();\n",
       "            Bokeh.index[element_id].model.document.clear();\n",
       "            delete Bokeh.index[element_id];\n",
       "          }\n",
       "        }\n",
       "      });\n",
       "      // Destroy server and session\n",
       "      var cmd = \"import bokeh.io.notebook as ion; ion.destroy_server('\" + server_id + \"')\";\n",
       "      cell.notebook.kernel.execute(cmd);\n",
       "    }\n",
       "  }\n",
       "\n",
       "  /**\n",
       "   * Handle when a new output is added\n",
       "   */\n",
       "  function handleAddOutput(event, handle) {\n",
       "    var output_area = handle.output_area;\n",
       "    var output = handle.output;\n",
       "\n",
       "    // limit handleAddOutput to display_data with EXEC_MIME_TYPE content only\n",
       "    if ((output.output_type != \"display_data\") || (!output.data.hasOwnProperty(EXEC_MIME_TYPE))) {\n",
       "      return\n",
       "    }\n",
       "\n",
       "    var toinsert = output_area.element.find(\".\" + CLASS_NAME.split(' ')[0]);\n",
       "\n",
       "    if (output.metadata[EXEC_MIME_TYPE][\"id\"] !== undefined) {\n",
       "      toinsert[0].firstChild.textContent = output.data[JS_MIME_TYPE];\n",
       "      // store reference to embed id on output_area\n",
       "      output_area._bokeh_element_id = output.metadata[EXEC_MIME_TYPE][\"id\"];\n",
       "    }\n",
       "    if (output.metadata[EXEC_MIME_TYPE][\"server_id\"] !== undefined) {\n",
       "      var bk_div = document.createElement(\"div\");\n",
       "      bk_div.innerHTML = output.data[HTML_MIME_TYPE];\n",
       "      var script_attrs = bk_div.children[0].attributes;\n",
       "      for (var i = 0; i < script_attrs.length; i++) {\n",
       "        toinsert[0].firstChild.setAttribute(script_attrs[i].name, script_attrs[i].value);\n",
       "      }\n",
       "      // store reference to server id on output_area\n",
       "      output_area._bokeh_server_id = output.metadata[EXEC_MIME_TYPE][\"server_id\"];\n",
       "    }\n",
       "  }\n",
       "\n",
       "  function register_renderer(events, OutputArea) {\n",
       "\n",
       "    function append_mime(data, metadata, element) {\n",
       "      // create a DOM node to render to\n",
       "      var toinsert = this.create_output_subarea(\n",
       "        metadata,\n",
       "        CLASS_NAME,\n",
       "        EXEC_MIME_TYPE\n",
       "      );\n",
       "      this.keyboard_manager.register_events(toinsert);\n",
       "      // Render to node\n",
       "      var props = {data: data, metadata: metadata[EXEC_MIME_TYPE]};\n",
       "      render(props, toinsert[0]);\n",
       "      element.append(toinsert);\n",
       "      return toinsert\n",
       "    }\n",
       "\n",
       "    /* Handle when an output is cleared or removed */\n",
       "    events.on('clear_output.CodeCell', handleClearOutput);\n",
       "    events.on('delete.Cell', handleClearOutput);\n",
       "\n",
       "    /* Handle when a new output is added */\n",
       "    events.on('output_added.OutputArea', handleAddOutput);\n",
       "\n",
       "    /**\n",
       "     * Register the mime type and append_mime function with output_area\n",
       "     */\n",
       "    OutputArea.prototype.register_mime_type(EXEC_MIME_TYPE, append_mime, {\n",
       "      /* Is output safe? */\n",
       "      safe: true,\n",
       "      /* Index of renderer in `output_area.display_order` */\n",
       "      index: 0\n",
       "    });\n",
       "  }\n",
       "\n",
       "  // register the mime type if in Jupyter Notebook environment and previously unregistered\n",
       "  if (root.Jupyter !== undefined) {\n",
       "    var events = require('base/js/events');\n",
       "    var OutputArea = require('notebook/js/outputarea').OutputArea;\n",
       "\n",
       "    if (OutputArea.prototype.mime_types().indexOf(EXEC_MIME_TYPE) == -1) {\n",
       "      register_renderer(events, OutputArea);\n",
       "    }\n",
       "  }\n",
       "\n",
       "  \n",
       "  if (typeof (root._bokeh_timeout) === \"undefined\" || force === true) {\n",
       "    root._bokeh_timeout = Date.now() + 5000;\n",
       "    root._bokeh_failed_load = false;\n",
       "  }\n",
       "\n",
       "  var NB_LOAD_WARNING = {'data': {'text/html':\n",
       "     \"<div style='background-color: #fdd'>\\n\"+\n",
       "     \"<p>\\n\"+\n",
       "     \"BokehJS does not appear to have successfully loaded. If loading BokehJS from CDN, this \\n\"+\n",
       "     \"may be due to a slow or bad network connection. Possible fixes:\\n\"+\n",
       "     \"</p>\\n\"+\n",
       "     \"<ul>\\n\"+\n",
       "     \"<li>re-rerun `output_notebook()` to attempt to load from CDN again, or</li>\\n\"+\n",
       "     \"<li>use INLINE resources instead, as so:</li>\\n\"+\n",
       "     \"</ul>\\n\"+\n",
       "     \"<code>\\n\"+\n",
       "     \"from bokeh.resources import INLINE\\n\"+\n",
       "     \"output_notebook(resources=INLINE)\\n\"+\n",
       "     \"</code>\\n\"+\n",
       "     \"</div>\"}};\n",
       "\n",
       "  function display_loaded() {\n",
       "    var el = document.getElementById(\"ed835017-fab3-45b0-a8d6-eefa0c1f228b\");\n",
       "    if (el != null) {\n",
       "      el.textContent = \"BokehJS is loading...\";\n",
       "    }\n",
       "    if (root.Bokeh !== undefined) {\n",
       "      if (el != null) {\n",
       "        el.textContent = \"BokehJS \" + root.Bokeh.version + \" successfully loaded.\";\n",
       "      }\n",
       "    } else if (Date.now() < root._bokeh_timeout) {\n",
       "      setTimeout(display_loaded, 100)\n",
       "    }\n",
       "  }\n",
       "\n",
       "\n",
       "  function run_callbacks() {\n",
       "    try {\n",
       "      root._bokeh_onload_callbacks.forEach(function(callback) { callback() });\n",
       "    }\n",
       "    finally {\n",
       "      delete root._bokeh_onload_callbacks\n",
       "    }\n",
       "    console.info(\"Bokeh: all callbacks have finished\");\n",
       "  }\n",
       "\n",
       "  function load_libs(js_urls, callback) {\n",
       "    root._bokeh_onload_callbacks.push(callback);\n",
       "    if (root._bokeh_is_loading > 0) {\n",
       "      console.log(\"Bokeh: BokehJS is being loaded, scheduling callback at\", now());\n",
       "      return null;\n",
       "    }\n",
       "    if (js_urls == null || js_urls.length === 0) {\n",
       "      run_callbacks();\n",
       "      return null;\n",
       "    }\n",
       "    console.log(\"Bokeh: BokehJS not loaded, scheduling load and callback at\", now());\n",
       "    root._bokeh_is_loading = js_urls.length;\n",
       "    for (var i = 0; i < js_urls.length; i++) {\n",
       "      var url = js_urls[i];\n",
       "      var s = document.createElement('script');\n",
       "      s.src = url;\n",
       "      s.async = false;\n",
       "      s.onreadystatechange = s.onload = function() {\n",
       "        root._bokeh_is_loading--;\n",
       "        if (root._bokeh_is_loading === 0) {\n",
       "          console.log(\"Bokeh: all BokehJS libraries loaded\");\n",
       "          run_callbacks()\n",
       "        }\n",
       "      };\n",
       "      s.onerror = function() {\n",
       "        console.warn(\"failed to load library \" + url);\n",
       "      };\n",
       "      console.log(\"Bokeh: injecting script tag for BokehJS library: \", url);\n",
       "      document.getElementsByTagName(\"head\")[0].appendChild(s);\n",
       "    }\n",
       "  };var element = document.getElementById(\"ed835017-fab3-45b0-a8d6-eefa0c1f228b\");\n",
       "  if (element == null) {\n",
       "    console.log(\"Bokeh: ERROR: autoload.js configured with elementid 'ed835017-fab3-45b0-a8d6-eefa0c1f228b' but no matching script tag was found. \")\n",
       "    return false;\n",
       "  }\n",
       "\n",
       "  var js_urls = [\"https://cdn.pydata.org/bokeh/release/bokeh-0.12.13.min.js\", \"https://cdn.pydata.org/bokeh/release/bokeh-widgets-0.12.13.min.js\", \"https://cdn.pydata.org/bokeh/release/bokeh-tables-0.12.13.min.js\", \"https://cdn.pydata.org/bokeh/release/bokeh-gl-0.12.13.min.js\"];\n",
       "\n",
       "  var inline_js = [\n",
       "    function(Bokeh) {\n",
       "      Bokeh.set_log_level(\"info\");\n",
       "    },\n",
       "    \n",
       "    function(Bokeh) {\n",
       "      \n",
       "    },\n",
       "    function(Bokeh) {\n",
       "      console.log(\"Bokeh: injecting CSS: https://cdn.pydata.org/bokeh/release/bokeh-0.12.13.min.css\");\n",
       "      Bokeh.embed.inject_css(\"https://cdn.pydata.org/bokeh/release/bokeh-0.12.13.min.css\");\n",
       "      console.log(\"Bokeh: injecting CSS: https://cdn.pydata.org/bokeh/release/bokeh-widgets-0.12.13.min.css\");\n",
       "      Bokeh.embed.inject_css(\"https://cdn.pydata.org/bokeh/release/bokeh-widgets-0.12.13.min.css\");\n",
       "      console.log(\"Bokeh: injecting CSS: https://cdn.pydata.org/bokeh/release/bokeh-tables-0.12.13.min.css\");\n",
       "      Bokeh.embed.inject_css(\"https://cdn.pydata.org/bokeh/release/bokeh-tables-0.12.13.min.css\");\n",
       "    }\n",
       "  ];\n",
       "\n",
       "  function run_inline_js() {\n",
       "    \n",
       "    if ((root.Bokeh !== undefined) || (force === true)) {\n",
       "      for (var i = 0; i < inline_js.length; i++) {\n",
       "        inline_js[i].call(root, root.Bokeh);\n",
       "      }if (force === true) {\n",
       "        display_loaded();\n",
       "      }} else if (Date.now() < root._bokeh_timeout) {\n",
       "      setTimeout(run_inline_js, 100);\n",
       "    } else if (!root._bokeh_failed_load) {\n",
       "      console.log(\"Bokeh: BokehJS failed to load within specified timeout.\");\n",
       "      root._bokeh_failed_load = true;\n",
       "    } else if (force !== true) {\n",
       "      var cell = $(document.getElementById(\"ed835017-fab3-45b0-a8d6-eefa0c1f228b\")).parents('.cell').data().cell;\n",
       "      cell.output_area.append_execute_result(NB_LOAD_WARNING)\n",
       "    }\n",
       "\n",
       "  }\n",
       "\n",
       "  if (root._bokeh_is_loading === 0) {\n",
       "    console.log(\"Bokeh: BokehJS loaded, going straight to plotting\");\n",
       "    run_inline_js();\n",
       "  } else {\n",
       "    load_libs(js_urls, function() {\n",
       "      console.log(\"Bokeh: BokehJS plotting callback run at\", now());\n",
       "      run_inline_js();\n",
       "    });\n",
       "  }\n",
       "}(window));"
      ],
      "application/vnd.bokehjs_load.v0+json": "\n(function(root) {\n  function now() {\n    return new Date();\n  }\n\n  var force = true;\n\n  if (typeof (root._bokeh_onload_callbacks) === \"undefined\" || force === true) {\n    root._bokeh_onload_callbacks = [];\n    root._bokeh_is_loading = undefined;\n  }\n\n  \n\n  \n  if (typeof (root._bokeh_timeout) === \"undefined\" || force === true) {\n    root._bokeh_timeout = Date.now() + 5000;\n    root._bokeh_failed_load = false;\n  }\n\n  var NB_LOAD_WARNING = {'data': {'text/html':\n     \"<div style='background-color: #fdd'>\\n\"+\n     \"<p>\\n\"+\n     \"BokehJS does not appear to have successfully loaded. If loading BokehJS from CDN, this \\n\"+\n     \"may be due to a slow or bad network connection. Possible fixes:\\n\"+\n     \"</p>\\n\"+\n     \"<ul>\\n\"+\n     \"<li>re-rerun `output_notebook()` to attempt to load from CDN again, or</li>\\n\"+\n     \"<li>use INLINE resources instead, as so:</li>\\n\"+\n     \"</ul>\\n\"+\n     \"<code>\\n\"+\n     \"from bokeh.resources import INLINE\\n\"+\n     \"output_notebook(resources=INLINE)\\n\"+\n     \"</code>\\n\"+\n     \"</div>\"}};\n\n  function display_loaded() {\n    var el = document.getElementById(\"ed835017-fab3-45b0-a8d6-eefa0c1f228b\");\n    if (el != null) {\n      el.textContent = \"BokehJS is loading...\";\n    }\n    if (root.Bokeh !== undefined) {\n      if (el != null) {\n        el.textContent = \"BokehJS \" + root.Bokeh.version + \" successfully loaded.\";\n      }\n    } else if (Date.now() < root._bokeh_timeout) {\n      setTimeout(display_loaded, 100)\n    }\n  }\n\n\n  function run_callbacks() {\n    try {\n      root._bokeh_onload_callbacks.forEach(function(callback) { callback() });\n    }\n    finally {\n      delete root._bokeh_onload_callbacks\n    }\n    console.info(\"Bokeh: all callbacks have finished\");\n  }\n\n  function load_libs(js_urls, callback) {\n    root._bokeh_onload_callbacks.push(callback);\n    if (root._bokeh_is_loading > 0) {\n      console.log(\"Bokeh: BokehJS is being loaded, scheduling callback at\", now());\n      return null;\n    }\n    if (js_urls == null || js_urls.length === 0) {\n      run_callbacks();\n      return null;\n    }\n    console.log(\"Bokeh: BokehJS not loaded, scheduling load and callback at\", now());\n    root._bokeh_is_loading = js_urls.length;\n    for (var i = 0; i < js_urls.length; i++) {\n      var url = js_urls[i];\n      var s = document.createElement('script');\n      s.src = url;\n      s.async = false;\n      s.onreadystatechange = s.onload = function() {\n        root._bokeh_is_loading--;\n        if (root._bokeh_is_loading === 0) {\n          console.log(\"Bokeh: all BokehJS libraries loaded\");\n          run_callbacks()\n        }\n      };\n      s.onerror = function() {\n        console.warn(\"failed to load library \" + url);\n      };\n      console.log(\"Bokeh: injecting script tag for BokehJS library: \", url);\n      document.getElementsByTagName(\"head\")[0].appendChild(s);\n    }\n  };var element = document.getElementById(\"ed835017-fab3-45b0-a8d6-eefa0c1f228b\");\n  if (element == null) {\n    console.log(\"Bokeh: ERROR: autoload.js configured with elementid 'ed835017-fab3-45b0-a8d6-eefa0c1f228b' but no matching script tag was found. \")\n    return false;\n  }\n\n  var js_urls = [\"https://cdn.pydata.org/bokeh/release/bokeh-0.12.13.min.js\", \"https://cdn.pydata.org/bokeh/release/bokeh-widgets-0.12.13.min.js\", \"https://cdn.pydata.org/bokeh/release/bokeh-tables-0.12.13.min.js\", \"https://cdn.pydata.org/bokeh/release/bokeh-gl-0.12.13.min.js\"];\n\n  var inline_js = [\n    function(Bokeh) {\n      Bokeh.set_log_level(\"info\");\n    },\n    \n    function(Bokeh) {\n      \n    },\n    function(Bokeh) {\n      console.log(\"Bokeh: injecting CSS: https://cdn.pydata.org/bokeh/release/bokeh-0.12.13.min.css\");\n      Bokeh.embed.inject_css(\"https://cdn.pydata.org/bokeh/release/bokeh-0.12.13.min.css\");\n      console.log(\"Bokeh: injecting CSS: https://cdn.pydata.org/bokeh/release/bokeh-widgets-0.12.13.min.css\");\n      Bokeh.embed.inject_css(\"https://cdn.pydata.org/bokeh/release/bokeh-widgets-0.12.13.min.css\");\n      console.log(\"Bokeh: injecting CSS: https://cdn.pydata.org/bokeh/release/bokeh-tables-0.12.13.min.css\");\n      Bokeh.embed.inject_css(\"https://cdn.pydata.org/bokeh/release/bokeh-tables-0.12.13.min.css\");\n    }\n  ];\n\n  function run_inline_js() {\n    \n    if ((root.Bokeh !== undefined) || (force === true)) {\n      for (var i = 0; i < inline_js.length; i++) {\n        inline_js[i].call(root, root.Bokeh);\n      }if (force === true) {\n        display_loaded();\n      }} else if (Date.now() < root._bokeh_timeout) {\n      setTimeout(run_inline_js, 100);\n    } else if (!root._bokeh_failed_load) {\n      console.log(\"Bokeh: BokehJS failed to load within specified timeout.\");\n      root._bokeh_failed_load = true;\n    } else if (force !== true) {\n      var cell = $(document.getElementById(\"ed835017-fab3-45b0-a8d6-eefa0c1f228b\")).parents('.cell').data().cell;\n      cell.output_area.append_execute_result(NB_LOAD_WARNING)\n    }\n\n  }\n\n  if (root._bokeh_is_loading === 0) {\n    console.log(\"Bokeh: BokehJS loaded, going straight to plotting\");\n    run_inline_js();\n  } else {\n    load_libs(js_urls, function() {\n      console.log(\"Bokeh: BokehJS plotting callback run at\", now());\n      run_inline_js();\n    });\n  }\n}(window));"
     },
     "metadata": {},
     "output_type": "display_data"
    }
   ],
   "source": [
    "# import packages to unzip the list of Quandl Codes\n",
    "from io import BytesIO\n",
    "from zipfile import ZipFile\n",
    "import urllib.request\n",
    "\n",
    "# import and configure pandas\n",
    "import pandas as pd\n",
    "pd.options.display.max_colwidth = 100\n",
    "pd.set_option('display.max_rows', 1000)\n",
    "\n",
    "# import quandl and configure API key\n",
    "import quandl\n",
    "quandl.ApiConfig.api_key = \"qTtZzvXVi7jgbHx5tng8\"\n",
    "\n",
    "# import functions to visualize the data and set Bokeh to output to the notebook\n",
    "from bokeh.plotting import figure, output_file, show\n",
    "from bokeh.models import NumeralTickFormatter\n",
    "from bokeh.io import output_notebook\n",
    "output_notebook()"
   ]
  },
  {
   "cell_type": "markdown",
   "metadata": {},
   "source": [
    "### Create functions to load and visualize the data"
   ]
  },
  {
   "cell_type": "code",
   "execution_count": 2,
   "metadata": {},
   "outputs": [],
   "source": [
    "# takes the url (as a string) to the location of the zipped Quandl Codes .csv, uzips and loads it as a pd DataFrame\n",
    "def get_quandl_codes(url_str = \"https://www.quandl.com/api/v3/databases/ZILLOW/codes?api_key=qTtZzvXVi7jgbHx5tng8\"):\n",
    "    \n",
    "    # open the zip file as a ZipFile\n",
    "    url = urllib.request.urlopen(url_str)\n",
    "    zip_file = ZipFile(BytesIO(url.read()))\n",
    "    \n",
    "    # find the name of the only file and open it\n",
    "    names = zip_file.namelist()\n",
    "    name = names[0]\n",
    "    \n",
    "    # load into pandas\n",
    "    df = pd.read_csv(zip_file.open(name), header = None, low_memory = False)\n",
    "    \n",
    "    # rename to columns\n",
    "    df.columns = [\"code\", \"description\"]\n",
    "    \n",
    "    # strip the first par of the description\n",
    "    df[\"description\"] = df[\"description\"].apply(lambda x : x.split(\":\")[1])\n",
    "    \n",
    "    # \n",
    "    df[\"zillow_code\"] = df[\"code\"].apply(lambda x : x.split(\"/\")[1])\n",
    "    df[\"area_cat_code\"] = df[\"zillow_code\"].apply(lambda x : x.split(\"_\")[0])\n",
    "    df[\"indicator_code\"] = df[\"zillow_code\"].apply(lambda x : x.split(\"_\")[1])\n",
    "    \n",
    "    return df\n",
    "\n",
    "# Gets a dictionary of all timeseries given a area_cat_code, a ind_prefix and a DataFrame of quandl codes.\n",
    "# area_cat_code is a combination of the area category and the area code: {AREA_CATEGORY}{AREA_CODE} (ex. Z77079)\n",
    "# ind_prefix is the prefix of the {INDICATOR_CODE} of the series: (ex. \"MLP\")\n",
    "# df  is a DataFrame of quandl codes generated by load_quandl_codes()\n",
    "def filter_by_area_prefix(area_cat_code, ind_prefix, df):\n",
    "    \n",
    "    # subset\n",
    "    df = df[df[\"area_cat_code\"] == area_cat_code]\n",
    "    df = df[df[\"code\"].str.contains(ind_prefix) & ~ df[\"code\"].str.contains(ind_prefix + \"F\")]\n",
    "    \n",
    "    # create columns\n",
    "    df[\"series_type\"] = df[\"description\"].apply(lambda x : x.split(\"-\")[0].strip())\n",
    "    df[\"property_type\"] = df[\"description\"].apply(lambda x : x.split(\"-\")[1].strip())\n",
    "    df[\"area\"] = df[\"description\"].apply(lambda x : x.split(\"-\")[2].strip())\n",
    "\n",
    "    # convert to dictionary\n",
    "    #dct = pd.Series(df[\"description\"].values, index = df[\"code\"]).to_dict()\n",
    "    \n",
    "    df = df.set_index(\"code\")\n",
    "    \n",
    "    return df\n",
    "\n",
    "# Takes a list (or dict_keys) of Quandl Codes and returns a pd DataFrame containing all of the data\n",
    "def get_data(quandl_codes):\n",
    "    \n",
    "    data_keys = list(quandl_codes)\n",
    "    \n",
    "    out_df = pd.DataFrame()\n",
    "    \n",
    "    for code in quandl_codes:\n",
    "        out_df[code] = quandl.get(code)[\"Value\"]\n",
    "\n",
    "    return out_df\n",
    "\n",
    "# creates the plot\n",
    "def create_plot(s_codes):\n",
    "    \n",
    "    # filter the codes\n",
    "    s_codes_info = s_codes\n",
    "    s_codes_list = list(s_codes_info.index)\n",
    "    \n",
    "    # get the data\n",
    "    df = get_data(s_codes_list)\n",
    "\n",
    "    # create a color iterator\n",
    "    # this palette only has 10 colors, but we won't want to visualize more series than that\n",
    "    from bokeh.palettes import Category10 as palette\n",
    "    palette = palette[10]\n",
    "    colors = iter(palette)\n",
    "\n",
    "    # find the title\n",
    "    idx_0 = df.columns[0]\n",
    "    title = s_codes_info.loc[idx_0][\"series_type\"] + \" - \" + s_codes_info.loc[idx_0][\"area\"]\n",
    "\n",
    "    # get the scaling for the y axis\n",
    "    y_max = df.dropna(how = \"any\").values.max() * 1.5\n",
    "    y_min = df.dropna(how = \"any\").values.min() * .7\n",
    "\n",
    "    #create the plot\n",
    "    p = figure(width = 800, height = 500,\n",
    "               tools = \"pan,wheel_zoom,box_zoom,reset\", title =  title,\n",
    "               x_axis_label = \"Date\", x_axis_type = \"datetime\",\n",
    "               y_axis_label = \"Value\", y_range =(y_min, y_max))\n",
    "\n",
    "    # format the y-axis\n",
    "    p.yaxis[0].formatter = NumeralTickFormatter(format= \"$0,0\")\n",
    "\n",
    "    # add the line\n",
    "    for code in s_codes_list:\n",
    "        p.line(df.index, df[code], legend = s_codes_info.loc[code][\"property_type\"], line_color = next(colors))\n",
    "\n",
    "    # move the ledgend\n",
    "    p.legend.location = \"top_left\"\n",
    "\n",
    "    return p"
   ]
  },
  {
   "cell_type": "markdown",
   "metadata": {},
   "source": [
    "## Load and Visualize the Data"
   ]
  },
  {
   "cell_type": "code",
   "execution_count": 3,
   "metadata": {},
   "outputs": [],
   "source": [
    "# load all of the codes\n",
    "codes = get_quandl_codes()"
   ]
  },
  {
   "cell_type": "markdown",
   "metadata": {},
   "source": [
    "I'm interested in seeing how hurricane Harvey of August and September 2017 effected house prices in the flood-prone Meyerland neighborhood. I found that the code is \"N11814\" using ```build_zillow_docs.ipynb```."
   ]
  },
  {
   "cell_type": "markdown",
   "metadata": {},
   "source": [
    "### Visualize Median Listing Price for Meyerland, Houston TX"
   ]
  },
  {
   "cell_type": "code",
   "execution_count": 4,
   "metadata": {},
   "outputs": [
    {
     "data": {
      "text/html": [
       "\n",
       "<div class=\"bk-root\">\n",
       "    <div class=\"bk-plotdiv\" id=\"0825e1a7-9936-4e51-a19e-92e7b84624e3\"></div>\n",
       "</div>"
      ]
     },
     "metadata": {},
     "output_type": "display_data"
    },
    {
     "data": {
      "application/javascript": [
       "(function(root) {\n",
       "  function embed_document(root) {\n",
       "    \n",
       "  var docs_json = {\"341db92c-eb4d-47f3-a3c4-28e31a5d0939\":{\"roots\":{\"references\":[{\"attributes\":{\"days\":[1,8,15,22]},\"id\":\"17079df9-7909-4a9d-9149-7809fe88bdf0\",\"type\":\"DaysTicker\"},{\"attributes\":{\"active_drag\":\"auto\",\"active_inspect\":\"auto\",\"active_scroll\":\"auto\",\"active_tap\":\"auto\",\"tools\":[{\"id\":\"16e9f2aa-614e-4684-bdde-f31cb70350e7\",\"type\":\"PanTool\"},{\"id\":\"093cfce0-337c-452a-8492-2cf0b0cb7578\",\"type\":\"WheelZoomTool\"},{\"id\":\"72c24a31-c8e7-44fa-981a-b9d7ccfdd3f6\",\"type\":\"BoxZoomTool\"},{\"id\":\"b1b9534c-1599-4fbf-97e6-e772c60ebc07\",\"type\":\"ResetTool\"}]},\"id\":\"d4145580-82f1-457b-bfb3-3fd37433f489\",\"type\":\"Toolbar\"},{\"attributes\":{\"days\":[1,4,7,10,13,16,19,22,25,28]},\"id\":\"e0150303-d07e-495d-84cb-24620038df89\",\"type\":\"DaysTicker\"},{\"attributes\":{\"plot\":null,\"text\":\"Median Listing Price - Meyerland Area, Houston, TX\"},\"id\":\"2c1cb824-a507-414f-9a49-c11ac4b660c2\",\"type\":\"Title\"},{\"attributes\":{\"label\":{\"value\":\"Three Bedrooms\"},\"renderers\":[{\"id\":\"42494354-3208-4490-bb51-3e69d2085c3c\",\"type\":\"GlyphRenderer\"}]},\"id\":\"ba3947f6-e539-450f-8675-4a870fe593f7\",\"type\":\"LegendItem\"},{\"attributes\":{\"days\":[1,15]},\"id\":\"117dd233-f7bb-4fef-a496-9aa94e8591a4\",\"type\":\"DaysTicker\"},{\"attributes\":{},\"id\":\"563ee1b9-780b-4412-a133-cecdc55c8961\",\"type\":\"LinearScale\"},{\"attributes\":{\"months\":[0,1,2,3,4,5,6,7,8,9,10,11]},\"id\":\"e9dcce0b-b907-40b4-a1db-4e8855901fdf\",\"type\":\"MonthsTicker\"},{\"attributes\":{\"callback\":null,\"end\":816750.0,\"start\":234429.99999999997},\"id\":\"2fe1dc36-a3fb-4a18-96ca-be252268d905\",\"type\":\"Range1d\"},{\"attributes\":{\"months\":[0,2,4,6,8,10]},\"id\":\"50286a58-c156-4bad-9407-279c9a556cb9\",\"type\":\"MonthsTicker\"},{\"attributes\":{},\"id\":\"6171c576-95bc-496a-b669-c110c496e400\",\"type\":\"LinearScale\"},{\"attributes\":{\"months\":[0,4,8]},\"id\":\"7a20c4f4-6f02-415e-8502-133ca35a6547\",\"type\":\"MonthsTicker\"},{\"attributes\":{\"format\":\"$0,0\"},\"id\":\"555455d8-dde9-449f-9890-b5a02fde549d\",\"type\":\"NumeralTickFormatter\"},{\"attributes\":{\"months\":[0,6]},\"id\":\"e376e75a-f988-4cc5-b8dd-de349a1c1643\",\"type\":\"MonthsTicker\"},{\"attributes\":{\"axis_label\":\"Date\",\"formatter\":{\"id\":\"c32fb680-2ba4-450b-b0f5-5670a4059bf4\",\"type\":\"DatetimeTickFormatter\"},\"plot\":{\"id\":\"bacefadb-0f06-4fbc-84de-46aee1c5fe46\",\"subtype\":\"Figure\",\"type\":\"Plot\"},\"ticker\":{\"id\":\"2e84ffe9-e322-4b66-ad98-9f7a534fc278\",\"type\":\"DatetimeTicker\"}},\"id\":\"474469c5-3d40-448f-9ebc-872d0e675599\",\"type\":\"DatetimeAxis\"},{\"attributes\":{},\"id\":\"91db2431-e061-4dcb-acc4-c19164ac5d1b\",\"type\":\"YearsTicker\"},{\"attributes\":{\"num_minor_ticks\":5,\"tickers\":[{\"id\":\"68a0a8e2-e4f3-48f3-bc52-bee517756355\",\"type\":\"AdaptiveTicker\"},{\"id\":\"5a31eab9-16fd-4c10-ba6e-f5c8e10de3b4\",\"type\":\"AdaptiveTicker\"},{\"id\":\"ceba7707-c126-4353-83c8-57e2cf0d60a3\",\"type\":\"AdaptiveTicker\"},{\"id\":\"d479fcd4-6dca-4263-a4c5-c8d340fc04f8\",\"type\":\"DaysTicker\"},{\"id\":\"e0150303-d07e-495d-84cb-24620038df89\",\"type\":\"DaysTicker\"},{\"id\":\"17079df9-7909-4a9d-9149-7809fe88bdf0\",\"type\":\"DaysTicker\"},{\"id\":\"117dd233-f7bb-4fef-a496-9aa94e8591a4\",\"type\":\"DaysTicker\"},{\"id\":\"e9dcce0b-b907-40b4-a1db-4e8855901fdf\",\"type\":\"MonthsTicker\"},{\"id\":\"50286a58-c156-4bad-9407-279c9a556cb9\",\"type\":\"MonthsTicker\"},{\"id\":\"7a20c4f4-6f02-415e-8502-133ca35a6547\",\"type\":\"MonthsTicker\"},{\"id\":\"e376e75a-f988-4cc5-b8dd-de349a1c1643\",\"type\":\"MonthsTicker\"},{\"id\":\"91db2431-e061-4dcb-acc4-c19164ac5d1b\",\"type\":\"YearsTicker\"}]},\"id\":\"2e84ffe9-e322-4b66-ad98-9f7a534fc278\",\"type\":\"DatetimeTicker\"},{\"attributes\":{\"items\":[{\"id\":\"ba3947f6-e539-450f-8675-4a870fe593f7\",\"type\":\"LegendItem\"},{\"id\":\"53bbc600-060b-4eca-ab39-b8101197c37b\",\"type\":\"LegendItem\"},{\"id\":\"25469568-21a8-4028-b888-02608f1f007f\",\"type\":\"LegendItem\"},{\"id\":\"02994dab-a07d-4962-b3f4-1d765f962f73\",\"type\":\"LegendItem\"}],\"location\":\"top_left\",\"plot\":{\"id\":\"bacefadb-0f06-4fbc-84de-46aee1c5fe46\",\"subtype\":\"Figure\",\"type\":\"Plot\"}},\"id\":\"c285e852-7f30-4555-a215-8f2f004c65fd\",\"type\":\"Legend\"},{\"attributes\":{\"callback\":null},\"id\":\"20b059ce-5bab-49a2-95b1-deda48f17ccb\",\"type\":\"DataRange1d\"},{\"attributes\":{\"axis_label\":\"Value\",\"formatter\":{\"id\":\"555455d8-dde9-449f-9890-b5a02fde549d\",\"type\":\"NumeralTickFormatter\"},\"plot\":{\"id\":\"bacefadb-0f06-4fbc-84de-46aee1c5fe46\",\"subtype\":\"Figure\",\"type\":\"Plot\"},\"ticker\":{\"id\":\"5e180a54-ec42-4832-b4c7-ceed8db88aa1\",\"type\":\"BasicTicker\"}},\"id\":\"84b4f0b9-9552-4dbf-8a01-8f761913db85\",\"type\":\"LinearAxis\"},{\"attributes\":{\"plot\":{\"id\":\"bacefadb-0f06-4fbc-84de-46aee1c5fe46\",\"subtype\":\"Figure\",\"type\":\"Plot\"},\"ticker\":{\"id\":\"2e84ffe9-e322-4b66-ad98-9f7a534fc278\",\"type\":\"DatetimeTicker\"}},\"id\":\"dd4a5084-e9ae-46fd-ad56-a9ede00fb406\",\"type\":\"Grid\"},{\"attributes\":{\"line_color\":\"#ff7f0e\",\"x\":{\"field\":\"x\"},\"y\":{\"field\":\"y\"}},\"id\":\"212c16b0-b8e1-4950-9c3f-0ed0273cc746\",\"type\":\"Line\"},{\"attributes\":{},\"id\":\"5e180a54-ec42-4832-b4c7-ceed8db88aa1\",\"type\":\"BasicTicker\"},{\"attributes\":{},\"id\":\"16e9f2aa-614e-4684-bdde-f31cb70350e7\",\"type\":\"PanTool\"},{\"attributes\":{\"callback\":null,\"column_names\":[\"x\",\"y\"],\"data\":{\"x\":{\"__ndarray__\":\"AAAA1BpockIAAAD1HXFyQgAAQEcYe3JCAADAM8CEckIAAACGuo5yQgAAgHJimHJCAADAxFyickIAAAAXV6xyQgAAgAP/tXJCAADAVfm/ckIAAEBCoclyQgAAgJSb03JCAADA5pXdckIAAMAHmeZyQgAAAFqT8HJCAACARjv6ckIAAMCYNQRzQgAAQIXdDXNCAACA19cXc0IAAMAp0iFzQgAAQBZ6K3NCAACAaHQ1c0IAAABVHD9zQgAAQKcWSXNCAACA+RBTc0IAAECAZlxzQgAAgNJgZnNCAAAAvwhwc0IAAEARA3pzQgAAwP2qg3NCAAAAUKWNc0IAAECin5dzQgAAwI5HoXNCAAAA4UGrc0IAAIDN6bRzQgAAwB/kvnNCAAAAct7Ic0IAAACT4dFzQgAAQOXb23NCAADA0YPlc0IAAAAkfu9zQgAAgBAm+XNCAADAYiADdEIAAAC1Gg10QgAAgKHCFnRCAADA87wgdEIAAEDgZCp0QgAAgDJfNHRCAADAhFk+dEIAAMClXEd0QgAAAPhWUXRCAACA5P5adEIAAMA2+WR0QgAAQCOhbnRCAACAdZt4dEIAAMDHlYJ0QgAAQLQ9jHRCAACABjiWdEIAAADz3590QgAAQEXaqXRCAACAl9SzdEIAAIC417x0QgAAwArSxnRCAABA93nQdEIAAIBJdNp0QgAAADYc5HRCAABAiBbudEIAAIDaEPh0QgAAAMe4AXVCAABAGbMLdUIAAMAFWxV1QgAAAFhVH3VCAABAqk8pdUIAAAAxpTJ1QgAAQIOfPHVCAADAb0dGdUIAAADCQVB1QgAAgK7pWXVCAADAAORjdUIAAABT3m11QgAAgD+Gd3VCAADAkYCBdUIAAEB+KIt1QgAAgNAilXVCAADAIh2fdUIAAMBDIKh1QgAAAJYasnVCAACAgsK7dUIAAMDUvMV1QgAAQMFkz3VCAACAE1/ZdUIAAMBlWeN1QgAAQFIB7XVCAACApPv2dUIAAACRowB2QgAAQOOdCnZCAACANZgUdkI=\",\"dtype\":\"float64\",\"shape\":[97]},\"y\":{\"__ndarray__\":\"AAAAAAAA+H8AAAAAAAD4fwAAAAAAAPh/AAAAAAAA+H8AAAAAAAD4fwAAAAAAAPh/AAAAAAAA+H8AAAAAAAD4fwAAAAAAAPh/AAAAAAAA+H8AAAAAAAD4fwAAAAAAAPh/AAAAAAAA+H8AAAAAAAD4fwAAAAAAAPh/AAAAAAAA+H8AAAAAAAD4fwAAAAAAAPh/AAAAAAAA+H8AAAAAAAD4fwAAAAAAAPh/AAAAAAAA+H8AAAAAAAD4fwAAAAAAAPh/AAAAAAAA+H8AAAAAAAD4fwAAAAAAAPh/AAAAAAAA+H8AAAAAAAD4fwAAAAAAAPh/AAAAAAAA+H8AAAAAAAD4fwAAAAAAAPh/AAAAAAAA+H8AAAAAAAD4fwAAAAAAAPh/AAAAAAAA+H8AAAAAAAD4fwAAAADotxRBAAAAAGDpFUEAAAAAsOQVQQAAAADwQhhBAAAAACAvGkEAAAAAkNUXQQAAAACgfxdBAAAAABgPGkEAAAAAMFwZQQAAAAD4wBlBAAAAABDvGUEAAAAAuKEZQQAAAADISxlBAAAAACAvGkEAAAAAoPYYQQAAAACg9hhBAAAAAKBzGUEAAAAA4JIZQQAAAADAuxpBAAAAAIAlGUEAAAAAoGcbQQAAAACgZxtBAAAAAPihGUEAAAAAUu4dQQAAAACiNB5BAAAAABD2HEEAAAAA4HQeQQAAAAAQ9hxBAAAAABj9HEEAAAAA4P0cQQAAAABwSh1BAAAAADJlHUEAAAAAqK0dQQAAAADwgh5BAAAAAHC7H0EAAAAA0H8eQQAAAAAQ0R5BAAAAAGA2HkEAAAAA0NYcQQAAAADgdB5BAAAAAOidIEEAAAAAEHMdQQAAAABgiiBBAAAAAHBKHUEAAAAAwK8cQQAAAABowB1BAAAAADCuHEEAAAAAMMccQQAAAAAgoBxBAAAAACApG0EAAAAA4IwaQQAAAAAgLxpBAAAAAOCMGkEAAAAAoGEcQQAAAACAohlBAAAAAGBmFkEAAAAAIEcWQQAAAADA0xZBAAAAALCsFkE=\",\"dtype\":\"float64\",\"shape\":[97]}}},\"id\":\"a6fd6a5a-a41b-4673-9297-2a92f6a87cda\",\"type\":\"ColumnDataSource\"},{\"attributes\":{\"dimension\":1,\"plot\":{\"id\":\"bacefadb-0f06-4fbc-84de-46aee1c5fe46\",\"subtype\":\"Figure\",\"type\":\"Plot\"},\"ticker\":{\"id\":\"5e180a54-ec42-4832-b4c7-ceed8db88aa1\",\"type\":\"BasicTicker\"}},\"id\":\"d18c0e59-76f4-4bbd-ac42-8a93c08cb51c\",\"type\":\"Grid\"},{\"attributes\":{\"line_alpha\":0.1,\"line_color\":\"#1f77b4\",\"x\":{\"field\":\"x\"},\"y\":{\"field\":\"y\"}},\"id\":\"f4a02c8b-fc60-4dc9-be09-6a56b547012b\",\"type\":\"Line\"},{\"attributes\":{},\"id\":\"093cfce0-337c-452a-8492-2cf0b0cb7578\",\"type\":\"WheelZoomTool\"},{\"attributes\":{\"label\":{\"value\":\"Four Bedrooms\"},\"renderers\":[{\"id\":\"826e44cc-c485-47e0-a713-51308f54047e\",\"type\":\"GlyphRenderer\"}]},\"id\":\"53bbc600-060b-4eca-ab39-b8101197c37b\",\"type\":\"LegendItem\"},{\"attributes\":{\"data_source\":{\"id\":\"7b40c45d-966c-4354-acc2-ce66957fd182\",\"type\":\"ColumnDataSource\"},\"glyph\":{\"id\":\"5cd867a2-cb44-4c2d-b9de-df981a33e769\",\"type\":\"Line\"},\"hover_glyph\":null,\"muted_glyph\":null,\"nonselection_glyph\":{\"id\":\"9ee90be3-f85a-48d3-b203-71a687e0de25\",\"type\":\"Line\"},\"selection_glyph\":null,\"view\":{\"id\":\"6335d35b-370b-4cb9-a1b0-046e9c428a72\",\"type\":\"CDSView\"}},\"id\":\"42494354-3208-4490-bb51-3e69d2085c3c\",\"type\":\"GlyphRenderer\"},{\"attributes\":{\"data_source\":{\"id\":\"a6fd6a5a-a41b-4673-9297-2a92f6a87cda\",\"type\":\"ColumnDataSource\"},\"glyph\":{\"id\":\"212c16b0-b8e1-4950-9c3f-0ed0273cc746\",\"type\":\"Line\"},\"hover_glyph\":null,\"muted_glyph\":null,\"nonselection_glyph\":{\"id\":\"f4a02c8b-fc60-4dc9-be09-6a56b547012b\",\"type\":\"Line\"},\"selection_glyph\":null,\"view\":{\"id\":\"4ad5653a-618f-418a-9b90-bf5639c4ebd4\",\"type\":\"CDSView\"}},\"id\":\"826e44cc-c485-47e0-a713-51308f54047e\",\"type\":\"GlyphRenderer\"},{\"attributes\":{\"line_alpha\":0.1,\"line_color\":\"#1f77b4\",\"x\":{\"field\":\"x\"},\"y\":{\"field\":\"y\"}},\"id\":\"9ee90be3-f85a-48d3-b203-71a687e0de25\",\"type\":\"Line\"},{\"attributes\":{\"source\":{\"id\":\"a6fd6a5a-a41b-4673-9297-2a92f6a87cda\",\"type\":\"ColumnDataSource\"}},\"id\":\"4ad5653a-618f-418a-9b90-bf5639c4ebd4\",\"type\":\"CDSView\"},{\"attributes\":{\"callback\":null,\"column_names\":[\"x\",\"y\"],\"data\":{\"x\":{\"__ndarray__\":\"AAAA1BpockIAAAD1HXFyQgAAQEcYe3JCAADAM8CEckIAAACGuo5yQgAAgHJimHJCAADAxFyickIAAAAXV6xyQgAAgAP/tXJCAADAVfm/ckIAAEBCoclyQgAAgJSb03JCAADA5pXdckIAAMAHmeZyQgAAAFqT8HJCAACARjv6ckIAAMCYNQRzQgAAQIXdDXNCAACA19cXc0IAAMAp0iFzQgAAQBZ6K3NCAACAaHQ1c0IAAABVHD9zQgAAQKcWSXNCAACA+RBTc0IAAECAZlxzQgAAgNJgZnNCAAAAvwhwc0IAAEARA3pzQgAAwP2qg3NCAAAAUKWNc0IAAECin5dzQgAAwI5HoXNCAAAA4UGrc0IAAIDN6bRzQgAAwB/kvnNCAAAAct7Ic0IAAACT4dFzQgAAQOXb23NCAADA0YPlc0IAAAAkfu9zQgAAgBAm+XNCAADAYiADdEIAAAC1Gg10QgAAgKHCFnRCAADA87wgdEIAAEDgZCp0QgAAgDJfNHRCAADAhFk+dEIAAMClXEd0QgAAAPhWUXRCAACA5P5adEIAAMA2+WR0QgAAQCOhbnRCAACAdZt4dEIAAMDHlYJ0QgAAQLQ9jHRCAACABjiWdEIAAADz3590QgAAQEXaqXRCAACAl9SzdEIAAIC417x0QgAAwArSxnRCAABA93nQdEIAAIBJdNp0QgAAADYc5HRCAABAiBbudEIAAIDaEPh0QgAAAMe4AXVCAABAGbMLdUIAAMAFWxV1QgAAAFhVH3VCAABAqk8pdUIAAAAxpTJ1QgAAQIOfPHVCAADAb0dGdUIAAADCQVB1QgAAgK7pWXVCAADAAORjdUIAAABT3m11QgAAgD+Gd3VCAADAkYCBdUIAAEB+KIt1QgAAgNAilXVCAADAIh2fdUIAAMBDIKh1QgAAAJYasnVCAACAgsK7dUIAAMDUvMV1QgAAQMFkz3VCAACAE1/ZdUIAAMBlWeN1QgAAQFIB7XVCAACApPv2dUIAAACRowB2QgAAQOOdCnZCAACANZgUdkI=\",\"dtype\":\"float64\",\"shape\":[97]},\"y\":{\"__ndarray__\":\"AAAAAGABEkEAAAAAsLERQQAAAADoRhJBAAAAAJhLEkEAAAAA4D8SQQAAAACwsRFBAAAAAKiqEUEAAAAAoKMRQQAAAABgBxFBAAAAAGAHEUEAAAAA4MgQQQAAAADgyBBBAAAAAODIEEEAAAAAqKoRQQAAAACgoxFBAAAAAHAVEUEAAAAA+HMRQQAAAACgBRFBAAAAAHAVEUEAAAAAoAURQQAAAABwFRFBAAAAAODIEEEAAAAAQOcQQQAAAAA4FhFBAAAAACBlEUEAAAAAIGURQQAAAABANhFBAAAAACDoEEEAAAAAQDYRQQAAAACA0hFBAAAAADAPEUEAAAAAIGURQQAAAAAOPhFBAAAAAKCjEUEAAAAA4DkTQQAAAAAg3BJBAAAAAEh8E0EAAAAAYPUTQQAAAADQcBRBAAAAAOCwFEEAAAAA4LAUQQAAAABg6RVBAAAAAGjwFUEAAAAAwFwVQQAAAACwkxZBAAAAAMBQF0EAAAAAoH8XQQAAAACAtBZBAAAAAHD3FUEAAAAAwNMWQQAAAADgIRdBAAAAAABqGEEAAAAA4JIZQQAAAADgkhlBAAAAAJg+GkEAAAAAMN8YQQAAAABgVBlBAAAAAGDLGkEAAAAAeMEbQQAAAACwdRtBAAAAAOgWGkEAAAAAcG8bQQAAAACgZxtBAAAAADA9GkEAAAAAoPAZQQAAAAAgLxpBAAAAALw+GkEAAAAAoPAZQQAAAACg8BlBAAAAAICiGUEAAAAAAOEZQQAAAACg8BlBAAAAAAjuGEEAAAAAEHIZQQAAAACQTBlBAAAAAIh3GUEAAAAAAOEZQQAAAABYfxlBAAAAALCaGUEAAAAAMGIYQQAAAABgWhhBAAAAAGBUGUEAAAAAwEoYQQAAAACgfxdBAAAAAJBSGEEAAAAANmkYQQAAAADomRlBAAAAAICiGUEAAAAAYFQZQQAAAAAguBhBAAAAAHBoGEEAAAAAcGgYQQAAAACgfxdBAAAAAMCnFUEAAAAAIE0VQQAAAAAgTRVBAAAAACBNFUE=\",\"dtype\":\"float64\",\"shape\":[97]}}},\"id\":\"7b40c45d-966c-4354-acc2-ce66957fd182\",\"type\":\"ColumnDataSource\"},{\"attributes\":{\"callback\":null,\"column_names\":[\"x\",\"y\"],\"data\":{\"x\":{\"__ndarray__\":\"AAAA1BpockIAAAD1HXFyQgAAQEcYe3JCAADAM8CEckIAAACGuo5yQgAAgHJimHJCAADAxFyickIAAAAXV6xyQgAAgAP/tXJCAADAVfm/ckIAAEBCoclyQgAAgJSb03JCAADA5pXdckIAAMAHmeZyQgAAAFqT8HJCAACARjv6ckIAAMCYNQRzQgAAQIXdDXNCAACA19cXc0IAAMAp0iFzQgAAQBZ6K3NCAACAaHQ1c0IAAABVHD9zQgAAQKcWSXNCAACA+RBTc0IAAECAZlxzQgAAgNJgZnNCAAAAvwhwc0IAAEARA3pzQgAAwP2qg3NCAAAAUKWNc0IAAECin5dzQgAAwI5HoXNCAAAA4UGrc0IAAIDN6bRzQgAAwB/kvnNCAAAAct7Ic0IAAACT4dFzQgAAQOXb23NCAADA0YPlc0IAAAAkfu9zQgAAgBAm+XNCAADAYiADdEIAAAC1Gg10QgAAgKHCFnRCAADA87wgdEIAAEDgZCp0QgAAgDJfNHRCAADAhFk+dEIAAMClXEd0QgAAAPhWUXRCAACA5P5adEIAAMA2+WR0QgAAQCOhbnRCAACAdZt4dEIAAMDHlYJ0QgAAQLQ9jHRCAACABjiWdEIAAADz3590QgAAQEXaqXRCAACAl9SzdEIAAIC417x0QgAAwArSxnRCAABA93nQdEIAAIBJdNp0QgAAADYc5HRCAABAiBbudEIAAIDaEPh0QgAAAMe4AXVCAABAGbMLdUIAAMAFWxV1QgAAAFhVH3VCAABAqk8pdUIAAAAxpTJ1QgAAQIOfPHVCAADAb0dGdUIAAADCQVB1QgAAgK7pWXVCAADAAORjdUIAAABT3m11QgAAgD+Gd3VCAADAkYCBdUIAAEB+KIt1QgAAgNAilXVCAADAIh2fdUIAAMBDIKh1QgAAAJYasnVCAACAgsK7dUIAAMDUvMV1QgAAQMFkz3VCAACAE1/ZdUIAAMBlWeN1QgAAQFIB7XVCAACApPv2dUIAAACRowB2QgAAQOOdCnZCAACANZgUdkI=\",\"dtype\":\"float64\",\"shape\":[97]},\"y\":{\"__ndarray__\":\"AAAAABCvE0EAAAAA8MQTQQAAAACAQxRBAAAAAGByFEEAAAAAoBQUQQAAAABg9RNBAAAAAHAcFEEAAAAAINYTQQAAAABwhhNBAAAAAGh/E0EAAAAAwGgTQQAAAAAYvBJBAAAAAPBNEkEAAAAAINwSQQAAAADw4xJBAAAAAGB4E0EAAAAAEDITQQAAAACAzBJBAAAAAPBNEkEAAAAAoCASQQAAAABAsxFBAAAAAECzEUEAAAAAQLMRQQAAAAAIGBJBAAAAAGABEkEAAAAAgE8SQQAAAADgPxJBAAAAALxFEkEAAAAAYHgTQQAAAABg+xJBAAAAACjjEkEAAAAA7DcTQQAAAACATxJBAAAAAIBPEkEAAAAAYHgTQQAAAAAg1hNBAAAAADwkFEEAAAAAIE0VQQAAAAAwWxVBAAAAAEiiFUEAAAAAGKoVQQAAAADYfhdBAAAAANh+F0EAAAAAyNoWQQAAAACAMRdBAAAAAOAbGEEAAAAA4BsYQQAAAAAAahhBAAAAAABqGEEAAAAASF4YQQAAAADkjxhBAAAAACAvGkEAAAAASNUZQQAAAABQJxpBAAAAACx9GkEAAAAA5D0aQQAAAAAw0xpBAAAAAEhMG0EAAAAAaJobQQAAAACwdRtBAAAAAGDLGkEAAAAAgBMcQQAAAACAih1BAAAAAOADHEEAAAAA8BEcQQAAAADwERxBAAAAALCOG0EAAAAA+LQbQQAAAABAdxtBAAAAAPAwG0EAAAAAPGcbQQAAAABAdxtBAAAAAOgKHEEAAAAAaJQcQQAAAAAQ9hxBAAAAABhOHEEAAAAAuOAbQQAAAABoSRxBAAAAAGhDHUEAAAAA4IAcQQAAAACwiBxBAAAAAKBhHEEAAAAA7J0bQQAAAABgyxpBAAAAACCsGkEAAAAAANsaQQAAAACwdRtBAAAAAADbGkEAAAAA4IwaQQAAAADAPhpBAAAAAKDwGUEAAAAAWC4aQQAAAAD8aRhBAAAAACBHFkEAAAAAAPkVQQAAAABo8BVBAAAAAOCqFUE=\",\"dtype\":\"float64\",\"shape\":[97]}}},\"id\":\"cf1a349e-fef6-495b-a794-75d157e1d82a\",\"type\":\"ColumnDataSource\"},{\"attributes\":{\"overlay\":{\"id\":\"4ace1032-9eaf-4073-a41e-045e4d3943ed\",\"type\":\"BoxAnnotation\"}},\"id\":\"72c24a31-c8e7-44fa-981a-b9d7ccfdd3f6\",\"type\":\"BoxZoomTool\"},{\"attributes\":{},\"id\":\"b1b9534c-1599-4fbf-97e6-e772c60ebc07\",\"type\":\"ResetTool\"},{\"attributes\":{\"line_alpha\":0.1,\"line_color\":\"#1f77b4\",\"x\":{\"field\":\"x\"},\"y\":{\"field\":\"y\"}},\"id\":\"5385f31a-c66a-4c12-8b5e-7cb54ff1cc49\",\"type\":\"Line\"},{\"attributes\":{\"bottom_units\":\"screen\",\"fill_alpha\":{\"value\":0.5},\"fill_color\":{\"value\":\"lightgrey\"},\"left_units\":\"screen\",\"level\":\"overlay\",\"line_alpha\":{\"value\":1.0},\"line_color\":{\"value\":\"black\"},\"line_dash\":[4,4],\"line_width\":{\"value\":2},\"plot\":null,\"render_mode\":\"css\",\"right_units\":\"screen\",\"top_units\":\"screen\"},\"id\":\"4ace1032-9eaf-4073-a41e-045e4d3943ed\",\"type\":\"BoxAnnotation\"},{\"attributes\":{\"callback\":null,\"column_names\":[\"x\",\"y\"],\"data\":{\"x\":{\"__ndarray__\":\"AAAA1BpockIAAAD1HXFyQgAAQEcYe3JCAADAM8CEckIAAACGuo5yQgAAgHJimHJCAADAxFyickIAAAAXV6xyQgAAgAP/tXJCAADAVfm/ckIAAEBCoclyQgAAgJSb03JCAADA5pXdckIAAMAHmeZyQgAAAFqT8HJCAACARjv6ckIAAMCYNQRzQgAAQIXdDXNCAACA19cXc0IAAMAp0iFzQgAAQBZ6K3NCAACAaHQ1c0IAAABVHD9zQgAAQKcWSXNCAACA+RBTc0IAAECAZlxzQgAAgNJgZnNCAAAAvwhwc0IAAEARA3pzQgAAwP2qg3NCAAAAUKWNc0IAAECin5dzQgAAwI5HoXNCAAAA4UGrc0IAAIDN6bRzQgAAwB/kvnNCAAAAct7Ic0IAAACT4dFzQgAAQOXb23NCAADA0YPlc0IAAAAkfu9zQgAAgBAm+XNCAADAYiADdEIAAAC1Gg10QgAAgKHCFnRCAADA87wgdEIAAEDgZCp0QgAAgDJfNHRCAADAhFk+dEIAAMClXEd0QgAAAPhWUXRCAACA5P5adEIAAMA2+WR0QgAAQCOhbnRCAACAdZt4dEIAAMDHlYJ0QgAAQLQ9jHRCAACABjiWdEIAAADz3590QgAAQEXaqXRCAACAl9SzdEIAAIC417x0QgAAwArSxnRCAABA93nQdEIAAIBJdNp0QgAAADYc5HRCAABAiBbudEIAAIDaEPh0QgAAAMe4AXVCAABAGbMLdUIAAMAFWxV1QgAAAFhVH3VCAABAqk8pdUIAAAAxpTJ1QgAAQIOfPHVCAADAb0dGdUIAAADCQVB1QgAAgK7pWXVCAADAAORjdUIAAABT3m11QgAAgD+Gd3VCAADAkYCBdUIAAEB+KIt1QgAAgNAilXVCAADAIh2fdUIAAMBDIKh1QgAAAJYasnVCAACAgsK7dUIAAMDUvMV1QgAAQMFkz3VCAACAE1/ZdUIAAMBlWeN1QgAAQFIB7XVCAACApPv2dUIAAACRowB2QgAAQOOdCnZCAACANZgUdkI=\",\"dtype\":\"float64\",\"shape\":[97]},\"y\":{\"__ndarray__\":\"AAAAAFijE0EAAAAAALoTQQAAAACgFBRBAAAAAGByFEEAAAAAoBQUQQAAAAAg1hNBAAAAAIgYFEEAAAAAINYTQQAAAABwhhNBAAAAAGB4E0EAAAAAIFkTQQAAAADcrBJBAAAAAOhGEkEAAAAAINwSQQAAAACAzBJBAAAAAMDrEkEAAAAAQCoTQQAAAADgvBJBAAAAAPBNEkEAAAAA8OkRQQAAAABAsxFBAAAAAHiyEUEAAAAAQLMRQQAAAABgARJBAAAAAGABEkEAAAAA8E0SQQAAAABAMBJBAAAAAKAgEkEAAAAAINwSQQAAAAAw6hJBAAAAAIBPEkEAAAAA3OMSQQAAAACI2RFBAAAAAOA/EkEAAAAA8GATQQAAAACwvhNBAAAAACDWE0EAAAAA8L4UQQAAAADQcBRBAAAAABiwFEEAAAAAIE0VQQAAAADgIRdBAAAAAPAvF0EAAAAAkJAWQQAAAACwkxZBAAAAAOCeF0EAAAAA4BsYQQAAAADgGxhBAAAAACA7GEEAAAAAwM0XQQAAAADAzRdBAAAAALgkGUEAAAAAoPYYQQAAAADgkhlBAAAAACAvGkEAAAAACOgZQQAAAAAoNhpBAAAAAIAZG0EAAAAAQHcbQQAAAACobhtBAAAAAOgWGkEAAAAAgBMcQQAAAAAwRB1BAAAAAEB3G0EAAAAAUJ4bQQAAAACwjhtBAAAAAHh2G0EAAAAAsI4bQQAAAACgZxtBAAAAAIAZG0EAAAAA2GYbQQAAAABAdxtBAAAAAPj/G0EAAAAAyIQcQQAAAAAgoBxBAAAAAOgKHEEAAAAAQHcbQQAAAACYDxxBAAAAAOD9HEEAAAAAQHcbQQAAAACAExxBAAAAAIATHEEAAAAAoGcbQQAAAABgyxpBAAAAABA6GkEAAAAA4IwaQQAAAACgZxtBAAAAAGDLGkEAAAAA4IwaQQAAAAAwPRpBAAAAAJDJGUEAAAAAoPAZQQAAAAA4aRhBAAAAACBHFkEAAAAAcPcVQQAAAADk7BVBAAAAAAJgFUE=\",\"dtype\":\"float64\",\"shape\":[97]}}},\"id\":\"04f6fcca-cd86-400e-bdc5-08131d0db3cd\",\"type\":\"ColumnDataSource\"},{\"attributes\":{\"mantissas\":[1,2,5],\"max_interval\":500.0,\"num_minor_ticks\":0},\"id\":\"68a0a8e2-e4f3-48f3-bc52-bee517756355\",\"type\":\"AdaptiveTicker\"},{\"attributes\":{\"label\":{\"value\":\"All Homes\"},\"renderers\":[{\"id\":\"4b6c2272-f3cb-4da1-aade-207a7b6b3340\",\"type\":\"GlyphRenderer\"}]},\"id\":\"25469568-21a8-4028-b888-02608f1f007f\",\"type\":\"LegendItem\"},{\"attributes\":{\"line_color\":\"#2ca02c\",\"x\":{\"field\":\"x\"},\"y\":{\"field\":\"y\"}},\"id\":\"7a500ccb-ef77-4cd1-bf20-e4fdb6ccc6dc\",\"type\":\"Line\"},{\"attributes\":{\"data_source\":{\"id\":\"04f6fcca-cd86-400e-bdc5-08131d0db3cd\",\"type\":\"ColumnDataSource\"},\"glyph\":{\"id\":\"7a500ccb-ef77-4cd1-bf20-e4fdb6ccc6dc\",\"type\":\"Line\"},\"hover_glyph\":null,\"muted_glyph\":null,\"nonselection_glyph\":{\"id\":\"5385f31a-c66a-4c12-8b5e-7cb54ff1cc49\",\"type\":\"Line\"},\"selection_glyph\":null,\"view\":{\"id\":\"9d6e31a0-7b2c-4118-b4f0-6ea807f3e51c\",\"type\":\"CDSView\"}},\"id\":\"4b6c2272-f3cb-4da1-aade-207a7b6b3340\",\"type\":\"GlyphRenderer\"},{\"attributes\":{\"below\":[{\"id\":\"474469c5-3d40-448f-9ebc-872d0e675599\",\"type\":\"DatetimeAxis\"}],\"left\":[{\"id\":\"84b4f0b9-9552-4dbf-8a01-8f761913db85\",\"type\":\"LinearAxis\"}],\"plot_height\":500,\"plot_width\":800,\"renderers\":[{\"id\":\"474469c5-3d40-448f-9ebc-872d0e675599\",\"type\":\"DatetimeAxis\"},{\"id\":\"dd4a5084-e9ae-46fd-ad56-a9ede00fb406\",\"type\":\"Grid\"},{\"id\":\"84b4f0b9-9552-4dbf-8a01-8f761913db85\",\"type\":\"LinearAxis\"},{\"id\":\"d18c0e59-76f4-4bbd-ac42-8a93c08cb51c\",\"type\":\"Grid\"},{\"id\":\"4ace1032-9eaf-4073-a41e-045e4d3943ed\",\"type\":\"BoxAnnotation\"},{\"id\":\"c285e852-7f30-4555-a215-8f2f004c65fd\",\"type\":\"Legend\"},{\"id\":\"42494354-3208-4490-bb51-3e69d2085c3c\",\"type\":\"GlyphRenderer\"},{\"id\":\"826e44cc-c485-47e0-a713-51308f54047e\",\"type\":\"GlyphRenderer\"},{\"id\":\"4b6c2272-f3cb-4da1-aade-207a7b6b3340\",\"type\":\"GlyphRenderer\"},{\"id\":\"e32cfbbb-0457-4204-9675-85fb632badfb\",\"type\":\"GlyphRenderer\"}],\"title\":{\"id\":\"2c1cb824-a507-414f-9a49-c11ac4b660c2\",\"type\":\"Title\"},\"toolbar\":{\"id\":\"d4145580-82f1-457b-bfb3-3fd37433f489\",\"type\":\"Toolbar\"},\"x_range\":{\"id\":\"20b059ce-5bab-49a2-95b1-deda48f17ccb\",\"type\":\"DataRange1d\"},\"x_scale\":{\"id\":\"563ee1b9-780b-4412-a133-cecdc55c8961\",\"type\":\"LinearScale\"},\"y_range\":{\"id\":\"2fe1dc36-a3fb-4a18-96ca-be252268d905\",\"type\":\"Range1d\"},\"y_scale\":{\"id\":\"6171c576-95bc-496a-b669-c110c496e400\",\"type\":\"LinearScale\"}},\"id\":\"bacefadb-0f06-4fbc-84de-46aee1c5fe46\",\"subtype\":\"Figure\",\"type\":\"Plot\"},{\"attributes\":{\"line_color\":\"#1f77b4\",\"x\":{\"field\":\"x\"},\"y\":{\"field\":\"y\"}},\"id\":\"5cd867a2-cb44-4c2d-b9de-df981a33e769\",\"type\":\"Line\"},{\"attributes\":{\"source\":{\"id\":\"04f6fcca-cd86-400e-bdc5-08131d0db3cd\",\"type\":\"ColumnDataSource\"}},\"id\":\"9d6e31a0-7b2c-4118-b4f0-6ea807f3e51c\",\"type\":\"CDSView\"},{\"attributes\":{\"base\":24,\"mantissas\":[1,2,4,6,8,12],\"max_interval\":43200000.0,\"min_interval\":3600000.0,\"num_minor_ticks\":0},\"id\":\"ceba7707-c126-4353-83c8-57e2cf0d60a3\",\"type\":\"AdaptiveTicker\"},{\"attributes\":{\"source\":{\"id\":\"cf1a349e-fef6-495b-a794-75d157e1d82a\",\"type\":\"ColumnDataSource\"}},\"id\":\"b0a6dd50-44a8-4fc1-941b-f768c4c9600f\",\"type\":\"CDSView\"},{\"attributes\":{\"line_alpha\":0.1,\"line_color\":\"#1f77b4\",\"x\":{\"field\":\"x\"},\"y\":{\"field\":\"y\"}},\"id\":\"359f04e1-a735-46d7-9af7-7be3b42c8675\",\"type\":\"Line\"},{\"attributes\":{\"source\":{\"id\":\"7b40c45d-966c-4354-acc2-ce66957fd182\",\"type\":\"ColumnDataSource\"}},\"id\":\"6335d35b-370b-4cb9-a1b0-046e9c428a72\",\"type\":\"CDSView\"},{\"attributes\":{\"label\":{\"value\":\"Single\"},\"renderers\":[{\"id\":\"e32cfbbb-0457-4204-9675-85fb632badfb\",\"type\":\"GlyphRenderer\"}]},\"id\":\"02994dab-a07d-4962-b3f4-1d765f962f73\",\"type\":\"LegendItem\"},{\"attributes\":{},\"id\":\"c32fb680-2ba4-450b-b0f5-5670a4059bf4\",\"type\":\"DatetimeTickFormatter\"},{\"attributes\":{\"line_color\":\"#d62728\",\"x\":{\"field\":\"x\"},\"y\":{\"field\":\"y\"}},\"id\":\"ba294547-6612-48d6-a755-b8ef272a7720\",\"type\":\"Line\"},{\"attributes\":{\"days\":[1,2,3,4,5,6,7,8,9,10,11,12,13,14,15,16,17,18,19,20,21,22,23,24,25,26,27,28,29,30,31]},\"id\":\"d479fcd4-6dca-4263-a4c5-c8d340fc04f8\",\"type\":\"DaysTicker\"},{\"attributes\":{\"data_source\":{\"id\":\"cf1a349e-fef6-495b-a794-75d157e1d82a\",\"type\":\"ColumnDataSource\"},\"glyph\":{\"id\":\"ba294547-6612-48d6-a755-b8ef272a7720\",\"type\":\"Line\"},\"hover_glyph\":null,\"muted_glyph\":null,\"nonselection_glyph\":{\"id\":\"359f04e1-a735-46d7-9af7-7be3b42c8675\",\"type\":\"Line\"},\"selection_glyph\":null,\"view\":{\"id\":\"b0a6dd50-44a8-4fc1-941b-f768c4c9600f\",\"type\":\"CDSView\"}},\"id\":\"e32cfbbb-0457-4204-9675-85fb632badfb\",\"type\":\"GlyphRenderer\"},{\"attributes\":{\"base\":60,\"mantissas\":[1,2,5,10,15,20,30],\"max_interval\":1800000.0,\"min_interval\":1000.0,\"num_minor_ticks\":0},\"id\":\"5a31eab9-16fd-4c10-ba6e-f5c8e10de3b4\",\"type\":\"AdaptiveTicker\"}],\"root_ids\":[\"bacefadb-0f06-4fbc-84de-46aee1c5fe46\"]},\"title\":\"Bokeh Application\",\"version\":\"0.12.13\"}};\n",
       "  var render_items = [{\"docid\":\"341db92c-eb4d-47f3-a3c4-28e31a5d0939\",\"elementid\":\"0825e1a7-9936-4e51-a19e-92e7b84624e3\",\"modelid\":\"bacefadb-0f06-4fbc-84de-46aee1c5fe46\"}];\n",
       "  root.Bokeh.embed.embed_items_notebook(docs_json, render_items);\n",
       "\n",
       "  }\n",
       "  if (root.Bokeh !== undefined) {\n",
       "    embed_document(root);\n",
       "  } else {\n",
       "    var attempts = 0;\n",
       "    var timer = setInterval(function(root) {\n",
       "      if (root.Bokeh !== undefined) {\n",
       "        embed_document(root);\n",
       "        clearInterval(timer);\n",
       "      }\n",
       "      attempts++;\n",
       "      if (attempts > 100) {\n",
       "        console.log(\"Bokeh: ERROR: Unable to run BokehJS code because BokehJS library is missing\")\n",
       "        clearInterval(timer);\n",
       "      }\n",
       "    }, 10, root)\n",
       "  }\n",
       "})(window);"
      ],
      "application/vnd.bokehjs_exec.v0+json": ""
     },
     "metadata": {
      "application/vnd.bokehjs_exec.v0+json": {
       "id": "bacefadb-0f06-4fbc-84de-46aee1c5fe46"
      }
     },
     "output_type": "display_data"
    }
   ],
   "source": [
    "# get and visualize all MLP data for N11814\n",
    "s_codes_info = filter_by_area_prefix(area_cat_code = \"N11814\", ind_prefix = \"MLP\", df = codes)\n",
    "s_codes_list = list(s_codes_info.index)\n",
    "p = create_plot(s_codes_info)\n",
    "show(p)"
   ]
  },
  {
   "cell_type": "markdown",
   "metadata": {},
   "source": [
    "As expected, there was a drop around the time of the flood. Prices continued to drop afterwards and may be stabilizing as of late 2017 / early 2018."
   ]
  },
  {
   "cell_type": "markdown",
   "metadata": {},
   "source": [
    "### Visualize Median Renal Price for Austin Metro"
   ]
  },
  {
   "cell_type": "markdown",
   "metadata": {},
   "source": [
    "We often hear that rental prices have increased in Austin in recent years. Lets first have a look at at the Austin metro area. I found the code using ```build_zillow_docs.ipynb``` to be \"M31\"."
   ]
  },
  {
   "cell_type": "code",
   "execution_count": 5,
   "metadata": {},
   "outputs": [
    {
     "data": {
      "text/html": [
       "\n",
       "<div class=\"bk-root\">\n",
       "    <div class=\"bk-plotdiv\" id=\"0fe024c5-1bc0-43e7-8a72-3be7ab1c4a0a\"></div>\n",
       "</div>"
      ]
     },
     "metadata": {},
     "output_type": "display_data"
    },
    {
     "data": {
      "application/javascript": [
       "(function(root) {\n",
       "  function embed_document(root) {\n",
       "    \n",
       "  var docs_json = {\"8734fca0-e609-439b-bdc1-83aa695e11e0\":{\"roots\":{\"references\":[{\"attributes\":{\"label\":{\"value\":\"Three Bedrooms\"},\"renderers\":[{\"id\":\"ef7cf85a-4684-470f-bfe2-1ee7cce0ec36\",\"type\":\"GlyphRenderer\"}]},\"id\":\"e0f03dff-b959-400c-8172-d042bd161ba6\",\"type\":\"LegendItem\"},{\"attributes\":{\"source\":{\"id\":\"e1b99e48-db53-4aeb-aadd-56fd4b8b25ff\",\"type\":\"ColumnDataSource\"}},\"id\":\"088825ca-96cf-4ff3-8164-4bb633507853\",\"type\":\"CDSView\"},{\"attributes\":{\"days\":[1,8,15,22]},\"id\":\"c54b0a7a-2ab6-4e5f-b57a-3f9c1f9cdb43\",\"type\":\"DaysTicker\"},{\"attributes\":{},\"id\":\"c4b969cb-a05d-489f-aca9-1fc711a10161\",\"type\":\"BasicTicker\"},{\"attributes\":{\"source\":{\"id\":\"17b4d95a-f113-4051-bacc-64d12e7bafba\",\"type\":\"ColumnDataSource\"}},\"id\":\"3f276187-82c8-49a9-941b-ae9723e0aa6d\",\"type\":\"CDSView\"},{\"attributes\":{\"line_alpha\":0.1,\"line_color\":\"#1f77b4\",\"x\":{\"field\":\"x\"},\"y\":{\"field\":\"y\"}},\"id\":\"3b0273f4-3b70-41e0-a4c7-c4e081b4e112\",\"type\":\"Line\"},{\"attributes\":{\"num_minor_ticks\":5,\"tickers\":[{\"id\":\"e2c313e9-e421-4f9a-b690-129059f03553\",\"type\":\"AdaptiveTicker\"},{\"id\":\"42709542-37df-4d46-81f4-10e7443e8889\",\"type\":\"AdaptiveTicker\"},{\"id\":\"7bfc52b0-ad2b-4261-bc2a-dca93b760c8c\",\"type\":\"AdaptiveTicker\"},{\"id\":\"99355e29-998f-46ca-975c-9dfa34c868a3\",\"type\":\"DaysTicker\"},{\"id\":\"6014992b-66ab-4b2f-9891-7420dcb63c8a\",\"type\":\"DaysTicker\"},{\"id\":\"c54b0a7a-2ab6-4e5f-b57a-3f9c1f9cdb43\",\"type\":\"DaysTicker\"},{\"id\":\"861f88af-f6b2-4249-9fed-5b1162dcef6b\",\"type\":\"DaysTicker\"},{\"id\":\"c954888e-8fba-4b32-8d60-bec54edadb89\",\"type\":\"MonthsTicker\"},{\"id\":\"ccfda3be-5c9a-48c9-bd71-551f8b08c1f6\",\"type\":\"MonthsTicker\"},{\"id\":\"503d851d-63db-46f1-9c86-1f018b0ed2c5\",\"type\":\"MonthsTicker\"},{\"id\":\"703e710c-9ae7-48df-94d5-8f54ce931981\",\"type\":\"MonthsTicker\"},{\"id\":\"4515682f-0dd8-4f8d-bf1b-e49926ea4541\",\"type\":\"YearsTicker\"}]},\"id\":\"4ddd8aa1-18ce-4011-8a12-20928194fa73\",\"type\":\"DatetimeTicker\"},{\"attributes\":{\"months\":[0,2,4,6,8,10]},\"id\":\"ccfda3be-5c9a-48c9-bd71-551f8b08c1f6\",\"type\":\"MonthsTicker\"},{\"attributes\":{\"callback\":null,\"end\":3817.5,\"start\":665.0},\"id\":\"6e38749f-aa34-4be8-8e42-f15aad6e3915\",\"type\":\"Range1d\"},{\"attributes\":{\"months\":[0,4,8]},\"id\":\"503d851d-63db-46f1-9c86-1f018b0ed2c5\",\"type\":\"MonthsTicker\"},{\"attributes\":{\"format\":\"$0,0\"},\"id\":\"a6da906e-d60d-4ac3-93a9-8cb78494789b\",\"type\":\"NumeralTickFormatter\"},{\"attributes\":{\"bottom_units\":\"screen\",\"fill_alpha\":{\"value\":0.5},\"fill_color\":{\"value\":\"lightgrey\"},\"left_units\":\"screen\",\"level\":\"overlay\",\"line_alpha\":{\"value\":1.0},\"line_color\":{\"value\":\"black\"},\"line_dash\":[4,4],\"line_width\":{\"value\":2},\"plot\":null,\"render_mode\":\"css\",\"right_units\":\"screen\",\"top_units\":\"screen\"},\"id\":\"d537159a-2e50-4209-a7b7-08a25891525c\",\"type\":\"BoxAnnotation\"},{\"attributes\":{\"source\":{\"id\":\"9cce692a-09e7-4908-ba8c-4e7d9fbad225\",\"type\":\"ColumnDataSource\"}},\"id\":\"d27c2fa1-896d-4a64-8099-94cc2dcce0fc\",\"type\":\"CDSView\"},{\"attributes\":{\"source\":{\"id\":\"c21d821f-bcd7-412e-990a-a9c3f10f0090\",\"type\":\"ColumnDataSource\"}},\"id\":\"097bb758-c625-4aed-8b30-0f004338e7db\",\"type\":\"CDSView\"},{\"attributes\":{\"line_color\":\"#bcbd22\",\"x\":{\"field\":\"x\"},\"y\":{\"field\":\"y\"}},\"id\":\"63b6687a-a07f-4223-b8c2-ee81a9069af9\",\"type\":\"Line\"},{\"attributes\":{\"data_source\":{\"id\":\"9cce692a-09e7-4908-ba8c-4e7d9fbad225\",\"type\":\"ColumnDataSource\"},\"glyph\":{\"id\":\"5cc0e277-56e8-4a49-9a53-ee162ff3ff42\",\"type\":\"Line\"},\"hover_glyph\":null,\"muted_glyph\":null,\"nonselection_glyph\":{\"id\":\"739f053d-274d-4362-b757-1f616ce90404\",\"type\":\"Line\"},\"selection_glyph\":null,\"view\":{\"id\":\"d27c2fa1-896d-4a64-8099-94cc2dcce0fc\",\"type\":\"CDSView\"}},\"id\":\"95da9418-6262-417b-8ef6-86a48f44f5da\",\"type\":\"GlyphRenderer\"},{\"attributes\":{\"callback\":null,\"column_names\":[\"x\",\"y\"],\"data\":{\"x\":{\"__ndarray__\":\"AABAQqHJckIAAICUm9NyQgAAwOaV3XJCAADAB5nmckIAAABak/ByQgAAgEY7+nJCAADAmDUEc0IAAECF3Q1zQgAAgNfXF3NCAADAKdIhc0IAAEAWeitzQgAAgGh0NXNCAAAAVRw/c0IAAECnFklzQgAAgPkQU3NCAABAgGZcc0IAAIDSYGZzQgAAAL8IcHNCAABAEQN6c0IAAMD9qoNzQgAAAFCljXNCAABAop+Xc0IAAMCOR6FzQgAAAOFBq3NCAACAzem0c0IAAMAf5L5zQgAAAHLeyHNCAAAAk+HRc0IAAEDl29tzQgAAwNGD5XNCAAAAJH7vc0IAAIAQJvlzQgAAwGIgA3RCAAAAtRoNdEIAAIChwhZ0QgAAwPO8IHRCAABA4GQqdEIAAIAyXzR0QgAAwIRZPnRCAADApVxHdEIAAAD4VlF0QgAAgOT+WnRCAADANvlkdEIAAEAjoW50QgAAgHWbeHRCAADAx5WCdEIAAEC0PYx0QgAAgAY4lnRCAAAA89+fdEIAAEBF2ql0QgAAgJfUs3RCAACAuNe8dEIAAMAK0sZ0QgAAQPd50HRCAACASXTadEIAAAA2HOR0QgAAQIgW7nRCAACA2hD4dEIAAADHuAF1QgAAQBmzC3VCAADABVsVdUIAAABYVR91QgAAQKpPKXVCAAAAMaUydUIAAECDnzx1QgAAwG9HRnVCAAAAwkFQdUIAAICu6Vl1QgAAwADkY3VCAAAAU95tdUIAAIA/hnd1QgAAwJGAgXVCAABAfiiLdUIAAIDQIpV1QgAAwCIdn3VCAADAQyCodUIAAACWGrJ1QgAAgILCu3VCAADA1LzFdUIAAEDBZM91QgAAgBNf2XVCAADAZVnjdUIAAEBSAe11QgAAgKT79nVCAAAAkaMAdkIAAEDjnQp2QgAAgDWYFHZC\",\"dtype\":\"float64\",\"shape\":[87]},\"y\":{\"__ndarray__\":\"AAAAAABmkkAAAAAAAIiTQAAAAAAAiJNAAAAAAACIk0AAAAAAAIiTQAAAAAAATJRAAAAAAADmlEAAAAAAABiVQAAAAAAAUJRAAAAAAACIk0AAAAAAAEKTQAAAAAAAiJNAAAAAAADkk0AAAAAAAOyTQAAAAAAAUJRAAAAAAAB0lEAAAAAAAASVQAAAAAAAPJRAAAAAAAA8lEAAAAAAAFCUQAAAAAAAUJRAAAAAAABQlEAAAAAAADyUQAAAAAAAPJRAAAAAAABIlEAAAAAAAFCUQAAAAAAAtJRAAAAAAADAlEAAAAAAALSUQAAAAAAAGJVAAAAAAAAYlUAAAAAAABiVQAAAAAAAkJVAAAAAAAA0lkAAAAAAAJKWQAAAAAAAkJZAAAAAAABcl0AAAAAAAACXQAAAAAAAUpdAAAAAAABAl0AAAAAAAEiXQAAAAAAAXJdAAAAAAABcl0AAAAAAAHCXQAAAAAAArJdAAAAAAACsl0AAAAAAAHCXQAAAAAAA1JdAAAAAAABwl0AAAAAAAIaXQAAAAAAAsJdAAAAAAADml0AAAAAAAKyXQAAAAAAAcJdAAAAAAADkl0AAAAAAANiYQAAAAAAAnJhAAAAAAADYmEAAAAAAAOyYQAAAAAAAAJlAAAAAAAAsmkAAAAAAACyaQAAAAAAAyJlAAAAAAADEmUAAAAAAADiaQAAAAAAA7JlAAAAAAADImUAAAAAAAK6ZQAAAAAAA7JhAAAAAAAD0mEAAAAAAAP6YQAAAAAAAOJhAAAAAAAA4mEAAAAAAAEyYQAAAAAAAuplAAAAAAADAmUAAAAAAACSaQAAAAAAAfJpAAAAAAABomkAAAAAAACyaQAAAAAAAyJlAAAAAAADImUAAAAAAALCZQAAAAAAAyJlAAAAAAADImUAAAAAAAMiZQAAAAAAAyJlA\",\"dtype\":\"float64\",\"shape\":[87]}}},\"id\":\"c408a2a0-3b4f-4e57-aaa4-16139a620161\",\"type\":\"ColumnDataSource\"},{\"attributes\":{\"days\":[1,2,3,4,5,6,7,8,9,10,11,12,13,14,15,16,17,18,19,20,21,22,23,24,25,26,27,28,29,30,31]},\"id\":\"99355e29-998f-46ca-975c-9dfa34c868a3\",\"type\":\"DaysTicker\"},{\"attributes\":{\"label\":{\"value\":\"One Bedroom\"},\"renderers\":[{\"id\":\"99152251-ef72-4d7f-8f57-52f3fa4fb6c9\",\"type\":\"GlyphRenderer\"}]},\"id\":\"adea24cc-1670-45b3-a037-222ca3e17d2a\",\"type\":\"LegendItem\"},{\"attributes\":{\"line_color\":\"#d62728\",\"x\":{\"field\":\"x\"},\"y\":{\"field\":\"y\"}},\"id\":\"e0c89897-3766-4a18-a232-706cefa7f74d\",\"type\":\"Line\"},{\"attributes\":{\"line_alpha\":0.1,\"line_color\":\"#1f77b4\",\"x\":{\"field\":\"x\"},\"y\":{\"field\":\"y\"}},\"id\":\"4c85cdad-b140-4f80-8e9a-53a424fb2112\",\"type\":\"Line\"},{\"attributes\":{\"line_alpha\":0.1,\"line_color\":\"#1f77b4\",\"x\":{\"field\":\"x\"},\"y\":{\"field\":\"y\"}},\"id\":\"6658b45a-9884-40ed-904a-8918c297f9f0\",\"type\":\"Line\"},{\"attributes\":{\"callback\":null},\"id\":\"d8f2a000-5676-46d2-ac23-79766534688a\",\"type\":\"DataRange1d\"},{\"attributes\":{\"line_alpha\":0.1,\"line_color\":\"#1f77b4\",\"x\":{\"field\":\"x\"},\"y\":{\"field\":\"y\"}},\"id\":\"e4c966ad-557c-4c6f-a021-6d37e72b93d9\",\"type\":\"Line\"},{\"attributes\":{\"line_alpha\":0.1,\"line_color\":\"#1f77b4\",\"x\":{\"field\":\"x\"},\"y\":{\"field\":\"y\"}},\"id\":\"93a05b31-9071-4501-b7f8-6c58a8cca151\",\"type\":\"Line\"},{\"attributes\":{\"line_color\":\"#1f77b4\",\"x\":{\"field\":\"x\"},\"y\":{\"field\":\"y\"}},\"id\":\"70da0860-70f5-4243-b828-93f9f3a078a5\",\"type\":\"Line\"},{\"attributes\":{\"callback\":null,\"column_names\":[\"x\",\"y\"],\"data\":{\"x\":{\"__ndarray__\":\"AABAQqHJckIAAICUm9NyQgAAwOaV3XJCAADAB5nmckIAAABak/ByQgAAgEY7+nJCAADAmDUEc0IAAECF3Q1zQgAAgNfXF3NCAADAKdIhc0IAAEAWeitzQgAAgGh0NXNCAAAAVRw/c0IAAECnFklzQgAAgPkQU3NCAABAgGZcc0IAAIDSYGZzQgAAAL8IcHNCAABAEQN6c0IAAMD9qoNzQgAAAFCljXNCAABAop+Xc0IAAMCOR6FzQgAAAOFBq3NCAACAzem0c0IAAMAf5L5zQgAAAHLeyHNCAAAAk+HRc0IAAEDl29tzQgAAwNGD5XNCAAAAJH7vc0IAAIAQJvlzQgAAwGIgA3RCAAAAtRoNdEIAAIChwhZ0QgAAwPO8IHRCAABA4GQqdEIAAIAyXzR0QgAAwIRZPnRCAADApVxHdEIAAAD4VlF0QgAAgOT+WnRCAADANvlkdEIAAEAjoW50QgAAgHWbeHRCAADAx5WCdEIAAEC0PYx0QgAAgAY4lnRCAAAA89+fdEIAAEBF2ql0QgAAgJfUs3RCAACAuNe8dEIAAMAK0sZ0QgAAQPd50HRCAACASXTadEIAAAA2HOR0QgAAQIgW7nRCAACA2hD4dEIAAADHuAF1QgAAQBmzC3VCAADABVsVdUIAAABYVR91QgAAQKpPKXVCAAAAMaUydUIAAECDnzx1QgAAwG9HRnVCAAAAwkFQdUIAAICu6Vl1QgAAwADkY3VCAAAAU95tdUIAAIA/hnd1QgAAwJGAgXVCAABAfiiLdUIAAIDQIpV1QgAAwCIdn3VCAADAQyCodUIAAACWGrJ1QgAAgILCu3VCAADA1LzFdUIAAEDBZM91QgAAgBNf2XVCAADAZVnjdUIAAEBSAe11QgAAgKT79nVCAAAAkaMAdkIAAEDjnQp2QgAAgDWYFHZC\",\"dtype\":\"float64\",\"shape\":[87]},\"y\":{\"__ndarray__\":\"AAAAAACIk0AAAAAAACSTQAAAAAAAiJNAAAAAAACIk0AAAAAAAOyTQAAAAAAAUJRAAAAAAAAYlUAAAAAAABiVQAAAAAAAGJVAAAAAAACIk0AAAAAAAIiTQAAAAAAAiJNAAAAAAABQlEAAAAAAAFCUQAAAAAAAUJRAAAAAAADwlEAAAAAAABiVQAAAAAAAGJVAAAAAAAB8lUAAAAAAAMyVQAAAAAAAzJVAAAAAAAAYlUAAAAAAABiVQAAAAAAAGJVAAAAAAABQlEAAAAAAAFCUQAAAAAAAzpJAAAAAAAAYlUAAAAAAADyUQAAAAAAAGJVAAAAAAAAYlUAAAAAAABiVQAAAAAAAGJVAAAAAAADMlUAAAAAAAOCVQAAAAAAA4JVAAAAAAADMlUAAAAAAAOCVQAAAAAAAqJZAAAAAAAAMl0AAAAAAAAyXQAAAAAAAXJdAAAAAAABwl0AAAAAAAHCXQAAAAAAAOJhAAAAAAAA4mEAAAAAAANSXQAAAAAAAcJdAAAAAAAAkmEAAAAAAADiYQAAAAAAA7JhAAAAAAACcmEAAAAAAAOyYQAAAAAAAAJlAAAAAAAAAmUAAAAAAAMiZQAAAAAAAtJlAAAAAAADImUAAAAAAAMiZQAAAAAAAyJlAAAAAAADsmEAAAAAAAOyYQAAAAAAA7JhAAAAAAADsmEAAAAAAAOyYQAAAAAAA2JhAAAAAAAAAmUAAAAAAAMiZQAAAAAAAyJlAAAAAAABkmUAAAAAAAACZQAAAAAAAnJhAAAAAAADsmEAAAAAAAP6YQAAAAAAAAJlAAAAAAADImUAAAAAAAMiZQAAAAAAAfJpAAAAAAAB8mkAAAAAAAHyaQAAAAAAAfJpAAAAAAADImUAAAAAAAMiZQAAAAAAAyJlAAAAAAAAAmUAAAAAAAACZQAAAAAAAAJlA\",\"dtype\":\"float64\",\"shape\":[87]}}},\"id\":\"e1b99e48-db53-4aeb-aadd-56fd4b8b25ff\",\"type\":\"ColumnDataSource\"},{\"attributes\":{\"months\":[0,1,2,3,4,5,6,7,8,9,10,11]},\"id\":\"c954888e-8fba-4b32-8d60-bec54edadb89\",\"type\":\"MonthsTicker\"},{\"attributes\":{\"days\":[1,4,7,10,13,16,19,22,25,28]},\"id\":\"6014992b-66ab-4b2f-9891-7420dcb63c8a\",\"type\":\"DaysTicker\"},{\"attributes\":{\"callback\":null,\"column_names\":[\"x\",\"y\"],\"data\":{\"x\":{\"__ndarray__\":\"AABAQqHJckIAAICUm9NyQgAAwOaV3XJCAADAB5nmckIAAABak/ByQgAAgEY7+nJCAADAmDUEc0IAAECF3Q1zQgAAgNfXF3NCAADAKdIhc0IAAEAWeitzQgAAgGh0NXNCAAAAVRw/c0IAAECnFklzQgAAgPkQU3NCAABAgGZcc0IAAIDSYGZzQgAAAL8IcHNCAABAEQN6c0IAAMD9qoNzQgAAAFCljXNCAABAop+Xc0IAAMCOR6FzQgAAAOFBq3NCAACAzem0c0IAAMAf5L5zQgAAAHLeyHNCAAAAk+HRc0IAAEDl29tzQgAAwNGD5XNCAAAAJH7vc0IAAIAQJvlzQgAAwGIgA3RCAAAAtRoNdEIAAIChwhZ0QgAAwPO8IHRCAABA4GQqdEIAAIAyXzR0QgAAwIRZPnRCAADApVxHdEIAAAD4VlF0QgAAgOT+WnRCAADANvlkdEIAAEAjoW50QgAAgHWbeHRCAADAx5WCdEIAAEC0PYx0QgAAgAY4lnRCAAAA89+fdEIAAEBF2ql0QgAAgJfUs3RCAACAuNe8dEIAAMAK0sZ0QgAAQPd50HRCAACASXTadEIAAAA2HOR0QgAAQIgW7nRCAACA2hD4dEIAAADHuAF1QgAAQBmzC3VCAADABVsVdUIAAABYVR91QgAAQKpPKXVCAAAAMaUydUIAAECDnzx1QgAAwG9HRnVCAAAAwkFQdUIAAICu6Vl1QgAAwADkY3VCAAAAU95tdUIAAIA/hnd1QgAAwJGAgXVCAABAfiiLdUIAAIDQIpV1QgAAwCIdn3VCAADAQyCodUIAAACWGrJ1QgAAgILCu3VCAADA1LzFdUIAAEDBZM91QgAAgBNf2XVCAADAZVnjdUIAAEBSAe11QgAAgKT79nVCAAAAkaMAdkIAAEDjnQp2QgAAgDWYFHZC\",\"dtype\":\"float64\",\"shape\":[87]},\"y\":{\"__ndarray__\":\"AAAAAAD0ikAAAAAAAPiLQAAAAAAARIxAAAAAAADgjEAAAAAAAGCOQAAAAAAAiI5AAAAAAAAYj0AAAAAAAJiOQAAAAAAAOI9AAAAAAADsjkAAAAAAABiPQAAAAAAAOI9AAAAAAAB8kEAAAAAAAFCQQAAAAAAAzJBAAAAAAAAMkUAAAAAAADCRQAAAAAAAzJBAAAAAAAAckUAAAAAAAGiQQAAAAAAAUpBAAAAAAACekEAAAAAAAHyQQAAAAAAAaJBAAAAAAABokEAAAAAAAGiQQAAAAAAAaJBAAAAAAABUkEAAAAAAAEyQQAAAAAAAaJBAAAAAAAC4kEAAAAAAAAiRQAAAAAAAWJFAAAAAAADkkUAAAAAAAJSRQAAAAAAA+JFAAAAAAACskkAAAAAAAKySQAAAAAAA5JJAAAAAAADAkkAAAAAAAPqSQAAAAAAAdJNAAAAAAABYk0AAAAAAAIiTQAAAAAAA/JNAAAAAAAC4k0AAAAAAAIiTQAAAAAAAXJNAAAAAAABKk0AAAAAAAOiSQAAAAAAA4JJAAAAAAAAsk0AAAAAAAFyTQAAAAAAAwpNAAAAAAACMk0AAAAAAAOqTQAAAAAAAPJRAAAAAAABQlEAAAAAAAFCUQAAAAAAAZJRAAAAAAAAYlUAAAAAAAAyVQAAAAAAAVJVAAAAAAAAYlUAAAAAAAKSVQAAAAAAAVpVAAAAAAAB8lUAAAAAAAHyVQAAAAAAAyJRAAAAAAAAUlUAAAAAAAKSUQAAAAAAARJRAAAAAAACOk0AAAAAAAIiTQAAAAAAASJRAAAAAAAB0lEAAAAAAABKVQAAAAAAAfJVAAAAAAADglUAAAAAAAOCVQAAAAAAA4JVAAAAAAAC0lUAAAAAAAFCVQAAAAAAAQJVAAAAAAACglUAAAAAAAMyVQAAAAAAAjJVA\",\"dtype\":\"float64\",\"shape\":[87]}}},\"id\":\"83e4cd69-8d75-471a-92eb-f810759cd20d\",\"type\":\"ColumnDataSource\"},{\"attributes\":{\"callback\":null,\"column_names\":[\"x\",\"y\"],\"data\":{\"x\":{\"__ndarray__\":\"AABAQqHJckIAAICUm9NyQgAAwOaV3XJCAADAB5nmckIAAABak/ByQgAAgEY7+nJCAADAmDUEc0IAAECF3Q1zQgAAgNfXF3NCAADAKdIhc0IAAEAWeitzQgAAgGh0NXNCAAAAVRw/c0IAAECnFklzQgAAgPkQU3NCAABAgGZcc0IAAIDSYGZzQgAAAL8IcHNCAABAEQN6c0IAAMD9qoNzQgAAAFCljXNCAABAop+Xc0IAAMCOR6FzQgAAAOFBq3NCAACAzem0c0IAAMAf5L5zQgAAAHLeyHNCAAAAk+HRc0IAAEDl29tzQgAAwNGD5XNCAAAAJH7vc0IAAIAQJvlzQgAAwGIgA3RCAAAAtRoNdEIAAIChwhZ0QgAAwPO8IHRCAABA4GQqdEIAAIAyXzR0QgAAwIRZPnRCAADApVxHdEIAAAD4VlF0QgAAgOT+WnRCAADANvlkdEIAAEAjoW50QgAAgHWbeHRCAADAx5WCdEIAAEC0PYx0QgAAgAY4lnRCAAAA89+fdEIAAEBF2ql0QgAAgJfUs3RCAACAuNe8dEIAAMAK0sZ0QgAAQPd50HRCAACASXTadEIAAAA2HOR0QgAAQIgW7nRCAACA2hD4dEIAAADHuAF1QgAAQBmzC3VCAADABVsVdUIAAABYVR91QgAAQKpPKXVCAAAAMaUydUIAAECDnzx1QgAAwG9HRnVCAAAAwkFQdUIAAICu6Vl1QgAAwADkY3VCAAAAU95tdUIAAIA/hnd1QgAAwJGAgXVCAABAfiiLdUIAAIDQIpV1QgAAwCIdn3VCAADAQyCodUIAAACWGrJ1QgAAgILCu3VCAADA1LzFdUIAAEDBZM91QgAAgBNf2XVCAADAZVnjdUIAAEBSAe11QgAAgKT79nVCAAAAkaMAdkIAAEDjnQp2QgAAgDWYFHZC\",\"dtype\":\"float64\",\"shape\":[87]},\"y\":{\"__ndarray__\":\"AAAAAAAA+H8AAAAAAAD4fwAAAAAAAPh/AAAAAAAA+H8AAAAAAAD4fwAAAAAAAPh/AAAAAAAA+H8AAAAAAAD4fwAAAAAAAPh/AAAAAAAA+H8AAAAAAAD4fwAAAAAAAPh/AAAAAAAA+H8AAAAAAAD4fwAAAAAAAPh/AAAAAAAA+H8AAAAAAAD4fwAAAAAAAPh/AAAAAAAA+H8AAAAAAAD4fwAAAAAAAPh/AAAAAAAA+H8AAAAAAAD4fwAAAAAAAPh/AAAAAAAA+H8AAAAAAAD4fwAAAAAAAPh/AAAAAAAwkUAAAAAAAACQQAAAAAAACJFAAAAAAABskUAAAAAAAAaUQAAAAAAA+JFAAAAAAAC8kkAAAAAAABSUQAAAAAAAEJVAAAAAAAAYlUAAAAAAALqUQAAAAAAAtJRAAAAAAAAYlUAAAAAAAMyVQAAAAAAALpZAAAAAAADglUAAAAAAAOCVQAAAAAAAqJZAAAAAAAColkAAAAAAAC6WQAAAAAAA4JVAAAAAAADMlUAAAAAAAMyVQAAAAAAA3JVAAAAAAADglUAAAAAAAOCVQAAAAAAAqJZAAAAAAABcl0AAAAAAAHCXQAAAAAAA1JdAAAAAAADUl0AAAAAAANSXQAAAAAAACphAAAAAAADol0AAAAAAAHCXQAAAAAAAcJdAAAAAAABwl0AAAAAAAHCXQAAAAAAAqJZAAAAAAAColkAAAAAAAFyXQAAAAAAAbJdAAAAAAABsl0AAAAAAAJSWQAAAAAAA4JVAAAAAAADglUAAAAAAAOCVQAAAAAAAcJdAAAAAAAA4mEAAAAAAAOyYQAAAAAAAZJlAAAAAAADImUAAAAAAAMiZQAAAAAAAyJlAAAAAAABkmUAAAAAAAACZQAAAAAAAAJlAAAAAAADsmEAAAAAAAOyYQAAAAAAA7JhA\",\"dtype\":\"float64\",\"shape\":[87]}}},\"id\":\"5f96fef2-b014-4516-bd4c-2b74ae6ce8e1\",\"type\":\"ColumnDataSource\"},{\"attributes\":{\"data_source\":{\"id\":\"c21d821f-bcd7-412e-990a-a9c3f10f0090\",\"type\":\"ColumnDataSource\"},\"glyph\":{\"id\":\"e0c89897-3766-4a18-a232-706cefa7f74d\",\"type\":\"Line\"},\"hover_glyph\":null,\"muted_glyph\":null,\"nonselection_glyph\":{\"id\":\"8497ab77-1db7-448b-975f-177003dded4c\",\"type\":\"Line\"},\"selection_glyph\":null,\"view\":{\"id\":\"097bb758-c625-4aed-8b30-0f004338e7db\",\"type\":\"CDSView\"}},\"id\":\"bd891731-535f-400f-9e60-8cfbc249f9d2\",\"type\":\"GlyphRenderer\"},{\"attributes\":{\"below\":[{\"id\":\"614db883-776f-43d9-952c-a9e2e897b4f1\",\"type\":\"DatetimeAxis\"}],\"left\":[{\"id\":\"aa7b4c71-a52a-48ea-97bc-04e0de5d9665\",\"type\":\"LinearAxis\"}],\"plot_height\":500,\"plot_width\":800,\"renderers\":[{\"id\":\"614db883-776f-43d9-952c-a9e2e897b4f1\",\"type\":\"DatetimeAxis\"},{\"id\":\"cbc01d8d-2bad-4a50-9992-b691443a2513\",\"type\":\"Grid\"},{\"id\":\"aa7b4c71-a52a-48ea-97bc-04e0de5d9665\",\"type\":\"LinearAxis\"},{\"id\":\"6858faa8-8130-4818-a79d-32d8b7184f2f\",\"type\":\"Grid\"},{\"id\":\"d537159a-2e50-4209-a7b7-08a25891525c\",\"type\":\"BoxAnnotation\"},{\"id\":\"1b96c917-36c6-481e-832a-f67d9ff90b5a\",\"type\":\"Legend\"},{\"id\":\"99152251-ef72-4d7f-8f57-52f3fa4fb6c9\",\"type\":\"GlyphRenderer\"},{\"id\":\"dfe4439b-80ba-4f3f-b687-97333954f41c\",\"type\":\"GlyphRenderer\"},{\"id\":\"ef7cf85a-4684-470f-bfe2-1ee7cce0ec36\",\"type\":\"GlyphRenderer\"},{\"id\":\"bd891731-535f-400f-9e60-8cfbc249f9d2\",\"type\":\"GlyphRenderer\"},{\"id\":\"168ae686-98d5-4d3c-835d-e9e738e9b90e\",\"type\":\"GlyphRenderer\"},{\"id\":\"2ce8b747-5e25-43e6-a78c-27dd2f4b056b\",\"type\":\"GlyphRenderer\"},{\"id\":\"95da9418-6262-417b-8ef6-86a48f44f5da\",\"type\":\"GlyphRenderer\"},{\"id\":\"2a8e3fd9-d52c-425f-82b9-a2f157bac860\",\"type\":\"GlyphRenderer\"},{\"id\":\"c15e648a-2e03-4839-9280-dada77faae82\",\"type\":\"GlyphRenderer\"},{\"id\":\"844f4c79-504b-4881-ad9d-a93eafd02bfc\",\"type\":\"GlyphRenderer\"}],\"title\":{\"id\":\"d4915d6e-d833-4487-a232-9116c70d1cd0\",\"type\":\"Title\"},\"toolbar\":{\"id\":\"89a222b2-2496-4b80-bb21-c717fccba242\",\"type\":\"Toolbar\"},\"x_range\":{\"id\":\"d8f2a000-5676-46d2-ac23-79766534688a\",\"type\":\"DataRange1d\"},\"x_scale\":{\"id\":\"b78b4e0d-ac77-431f-8944-90c6d913747c\",\"type\":\"LinearScale\"},\"y_range\":{\"id\":\"6e38749f-aa34-4be8-8e42-f15aad6e3915\",\"type\":\"Range1d\"},\"y_scale\":{\"id\":\"960420aa-80f3-4885-ac4c-c91f5ae658ac\",\"type\":\"LinearScale\"}},\"id\":\"ef95b6ca-1669-4a40-873a-ce146c624291\",\"subtype\":\"Figure\",\"type\":\"Plot\"},{\"attributes\":{\"months\":[0,6]},\"id\":\"703e710c-9ae7-48df-94d5-8f54ce931981\",\"type\":\"MonthsTicker\"},{\"attributes\":{\"callback\":null,\"column_names\":[\"x\",\"y\"],\"data\":{\"x\":{\"__ndarray__\":\"AABAQqHJckIAAICUm9NyQgAAwOaV3XJCAADAB5nmckIAAABak/ByQgAAgEY7+nJCAADAmDUEc0IAAECF3Q1zQgAAgNfXF3NCAADAKdIhc0IAAEAWeitzQgAAgGh0NXNCAAAAVRw/c0IAAECnFklzQgAAgPkQU3NCAABAgGZcc0IAAIDSYGZzQgAAAL8IcHNCAABAEQN6c0IAAMD9qoNzQgAAAFCljXNCAABAop+Xc0IAAMCOR6FzQgAAAOFBq3NCAACAzem0c0IAAMAf5L5zQgAAAHLeyHNCAAAAk+HRc0IAAEDl29tzQgAAwNGD5XNCAAAAJH7vc0IAAIAQJvlzQgAAwGIgA3RCAAAAtRoNdEIAAIChwhZ0QgAAwPO8IHRCAABA4GQqdEIAAIAyXzR0QgAAwIRZPnRCAADApVxHdEIAAAD4VlF0QgAAgOT+WnRCAADANvlkdEIAAEAjoW50QgAAgHWbeHRCAADAx5WCdEIAAEC0PYx0QgAAgAY4lnRCAAAA89+fdEIAAEBF2ql0QgAAgJfUs3RCAACAuNe8dEIAAMAK0sZ0QgAAQPd50HRCAACASXTadEIAAAA2HOR0QgAAQIgW7nRCAACA2hD4dEIAAADHuAF1QgAAQBmzC3VCAADABVsVdUIAAABYVR91QgAAQKpPKXVCAAAAMaUydUIAAECDnzx1QgAAwG9HRnVCAAAAwkFQdUIAAICu6Vl1QgAAwADkY3VCAAAAU95tdUIAAIA/hnd1QgAAwJGAgXVCAABAfiiLdUIAAIDQIpV1QgAAwCIdn3VCAADAQyCodUIAAACWGrJ1QgAAgILCu3VCAADA1LzFdUIAAEDBZM91QgAAgBNf2XVCAADAZVnjdUIAAEBSAe11QgAAgKT79nVCAAAAkaMAdkIAAEDjnQp2QgAAgDWYFHZC\",\"dtype\":\"float64\",\"shape\":[87]},\"y\":{\"__ndarray__\":\"AAAAAADAjkAAAAAAALCNQAAAAAAAkIpAAAAAAADQikAAAAAAAMSKQAAAAAAAZIpAAAAAAAAMjEAAAAAAADiKQAAAAAAAyIlAAAAAAAAAiUAAAAAAACiJQAAAAAAAGIpAAAAAAAAwi0AAAAAAAGiKQAAAAAAACItAAAAAAABYi0AAAAAAAMiLQAAAAAAACItAAAAAAACgi0AAAAAAAFiLQAAAAAAAiIpAAAAAAABAikAAAAAAAJyLQAAAAAAAMItAAAAAAADgikAAAAAAAJCKQAAAAAAAaIpAAAAAAACQikAAAAAAAJCKQAAAAAAAuIpAAAAAAADgikAAAAAAAOCKQAAAAAAAWItAAAAAAADYi0AAAAAAACCMQAAAAAAAuIxAAAAAAACwjUAAAAAAADCOQAAAAAAASI5AAAAAAACwjUAAAAAAACyPQAAAAAAAaJBAAAAAAACYjkAAAAAAAFCOQAAAAAAAGI9AAAAAAAAYj0AAAAAAABiPQAAAAAAAMI9AAAAAAABwj0AAAAAAAHiOQAAAAAAAKI5AAAAAAAAYj0AAAAAAAFCOQAAAAAAAQI9AAAAAAACYjkAAAAAAAMiOQAAAAAAAOI9AAAAAAAAEkEAAAAAAAByQQAAAAAAANJBAAAAAAAB4kEAAAAAAAIyQQAAAAAAAjJBAAAAAAACSkEAAAAAAAOyQQAAAAAAAzJBAAAAAAACAkEAAAAAAAK6QQAAAAAAAMJBAAAAAAAAwkEAAAAAAAGiQQAAAAAAA0I9AAAAAAAAYj0AAAAAAAHiOQAAAAAAAQJBAAAAAAACEkEAAAAAAAKSQQAAAAAAA/pBAAAAAAAAwkUAAAAAAAASRQAAAAAAAGJFAAAAAAAAckUAAAAAAADCRQAAAAAAACJFAAAAAAAAskUAAAAAAAESRQAAAAAAAMJFA\",\"dtype\":\"float64\",\"shape\":[87]}}},\"id\":\"a588c07b-a1e4-453c-a756-253bbaecdc55\",\"type\":\"ColumnDataSource\"},{\"attributes\":{\"label\":{\"value\":\"Duplex/Triplex\"},\"renderers\":[{\"id\":\"95da9418-6262-417b-8ef6-86a48f44f5da\",\"type\":\"GlyphRenderer\"}]},\"id\":\"d307ab7e-a075-454f-8112-734ec7ad15b0\",\"type\":\"LegendItem\"},{\"attributes\":{\"line_color\":\"#e377c2\",\"x\":{\"field\":\"x\"},\"y\":{\"field\":\"y\"}},\"id\":\"5cc0e277-56e8-4a49-9a53-ee162ff3ff42\",\"type\":\"Line\"},{\"attributes\":{\"line_alpha\":0.1,\"line_color\":\"#1f77b4\",\"x\":{\"field\":\"x\"},\"y\":{\"field\":\"y\"}},\"id\":\"8497ab77-1db7-448b-975f-177003dded4c\",\"type\":\"Line\"},{\"attributes\":{\"label\":{\"value\":\"Two Bedrooms\"},\"renderers\":[{\"id\":\"dfe4439b-80ba-4f3f-b687-97333954f41c\",\"type\":\"GlyphRenderer\"}]},\"id\":\"295314ba-0901-481b-80ad-0dc4d5586908\",\"type\":\"LegendItem\"},{\"attributes\":{\"line_alpha\":0.1,\"line_color\":\"#1f77b4\",\"x\":{\"field\":\"x\"},\"y\":{\"field\":\"y\"}},\"id\":\"3c5c33c9-3ed5-4ee5-88a5-889db23f1c08\",\"type\":\"Line\"},{\"attributes\":{\"callback\":null,\"column_names\":[\"x\",\"y\"],\"data\":{\"x\":{\"__ndarray__\":\"AABAQqHJckIAAICUm9NyQgAAwOaV3XJCAADAB5nmckIAAABak/ByQgAAgEY7+nJCAADAmDUEc0IAAECF3Q1zQgAAgNfXF3NCAADAKdIhc0IAAEAWeitzQgAAgGh0NXNCAAAAVRw/c0IAAECnFklzQgAAgPkQU3NCAABAgGZcc0IAAIDSYGZzQgAAAL8IcHNCAABAEQN6c0IAAMD9qoNzQgAAAFCljXNCAABAop+Xc0IAAMCOR6FzQgAAAOFBq3NCAACAzem0c0IAAMAf5L5zQgAAAHLeyHNCAAAAk+HRc0IAAEDl29tzQgAAwNGD5XNCAAAAJH7vc0IAAIAQJvlzQgAAwGIgA3RCAAAAtRoNdEIAAIChwhZ0QgAAwPO8IHRCAABA4GQqdEIAAIAyXzR0QgAAwIRZPnRCAADApVxHdEIAAAD4VlF0QgAAgOT+WnRCAADANvlkdEIAAEAjoW50QgAAgHWbeHRCAADAx5WCdEIAAEC0PYx0QgAAgAY4lnRCAAAA89+fdEIAAEBF2ql0QgAAgJfUs3RCAACAuNe8dEIAAMAK0sZ0QgAAQPd50HRCAACASXTadEIAAAA2HOR0QgAAQIgW7nRCAACA2hD4dEIAAADHuAF1QgAAQBmzC3VCAADABVsVdUIAAABYVR91QgAAQKpPKXVCAAAAMaUydUIAAECDnzx1QgAAwG9HRnVCAAAAwkFQdUIAAICu6Vl1QgAAwADkY3VCAAAAU95tdUIAAIA/hnd1QgAAwJGAgXVCAABAfiiLdUIAAIDQIpV1QgAAwCIdn3VCAADAQyCodUIAAACWGrJ1QgAAgILCu3VCAADA1LzFdUIAAEDBZM91QgAAgBNf2XVCAADAZVnjdUIAAEBSAe11QgAAgKT79nVCAAAAkaMAdkIAAEDjnQp2QgAAgDWYFHZC\",\"dtype\":\"float64\",\"shape\":[87]},\"y\":{\"__ndarray__\":\"AAAAAABYi0AAAAAAAJCKQAAAAAAAWItAAAAAAABYi0AAAAAAAOyLQAAAAAAA+ItAAAAAAACwjUAAAAAAAOiMQAAAAAAAIIxAAAAAAABIjEAAAAAAAOiMQAAAAAAA6IxAAAAAAAAgjEAAAAAAAKyMQAAAAAAAQI9AAAAAAACQkUAAAAAAAGiRQAAAAAAAMJFAAAAAAAAwkUAAAAAAAGiPQAAAAAAAeI5AAAAAAAAojkAAAAAAABiPQAAAAAAAGI9AAAAAAAAYj0AAAAAAAFCOQAAAAAAAGI9AAAAAAACIjUAAAAAAAOiMQAAAAAAAsI1AAAAAAAAYj0AAAAAAAECPQAAAAAAABJBAAAAAAACEj0AAAAAAAECPQAAAAAAAQI9AAAAAAAAEkEAAAAAAADiPQAAAAAAAmI9AAAAAAABokEAAAAAAAMaRQAAAAAAAOJJAAAAAAAAMkkAAAAAAAGiQQAAAAAAA2JFAAAAAAAD4kUAAAAAAAOSRQAAAAAAAYpFAAAAAAAAwkUAAAAAAADCRQAAAAAAAMJFAAAAAAAAwkUAAAAAAADCRQAAAAAAAwJJAAAAAAAD2kUAAAAAAAFiRQAAAAAAA+JFAAAAAAADAkkAAAAAAAFyTQAAAAAAA7JNAAAAAAADsk0AAAAAAAIiTQAAAAAAAUJRAAAAAAACIk0AAAAAAADyUQAAAAAAAPJRAAAAAAADYk0AAAAAAAH6TQAAAAAAAiJNAAAAAAACIk0AAAAAAAMCSQAAAAAAAwJJAAAAAAAC0kkAAAAAAADiTQAAAAAAAiJNAAAAAAACIk0AAAAAAAOyTQAAAAAAATJRAAAAAAABQlEAAAAAAADyUQAAAAAAAUJRAAAAAAAAUlEAAAAAAAIiTQAAAAAAAPJRAAAAAAADsk0AAAAAAALSUQAAAAAAAFpVA\",\"dtype\":\"float64\",\"shape\":[87]}}},\"id\":\"9cce692a-09e7-4908-ba8c-4e7d9fbad225\",\"type\":\"ColumnDataSource\"},{\"attributes\":{\"overlay\":{\"id\":\"d537159a-2e50-4209-a7b7-08a25891525c\",\"type\":\"BoxAnnotation\"}},\"id\":\"0c670324-0683-47f3-904f-52e4cfca5f2a\",\"type\":\"BoxZoomTool\"},{\"attributes\":{\"line_color\":\"#17becf\",\"x\":{\"field\":\"x\"},\"y\":{\"field\":\"y\"}},\"id\":\"3d4b8a9d-3fee-4373-af2e-3b12042e87c8\",\"type\":\"Line\"},{\"attributes\":{},\"id\":\"d87d2e62-6446-4a6c-831b-a7e726233cdb\",\"type\":\"DatetimeTickFormatter\"},{\"attributes\":{\"data_source\":{\"id\":\"e1b99e48-db53-4aeb-aadd-56fd4b8b25ff\",\"type\":\"ColumnDataSource\"},\"glyph\":{\"id\":\"3d4b8a9d-3fee-4373-af2e-3b12042e87c8\",\"type\":\"Line\"},\"hover_glyph\":null,\"muted_glyph\":null,\"nonselection_glyph\":{\"id\":\"6658b45a-9884-40ed-904a-8918c297f9f0\",\"type\":\"Line\"},\"selection_glyph\":null,\"view\":{\"id\":\"088825ca-96cf-4ff3-8164-4bb633507853\",\"type\":\"CDSView\"}},\"id\":\"844f4c79-504b-4881-ad9d-a93eafd02bfc\",\"type\":\"GlyphRenderer\"},{\"attributes\":{\"axis_label\":\"Date\",\"formatter\":{\"id\":\"d87d2e62-6446-4a6c-831b-a7e726233cdb\",\"type\":\"DatetimeTickFormatter\"},\"plot\":{\"id\":\"ef95b6ca-1669-4a40-873a-ce146c624291\",\"subtype\":\"Figure\",\"type\":\"Plot\"},\"ticker\":{\"id\":\"4ddd8aa1-18ce-4011-8a12-20928194fa73\",\"type\":\"DatetimeTicker\"}},\"id\":\"614db883-776f-43d9-952c-a9e2e897b4f1\",\"type\":\"DatetimeAxis\"},{\"attributes\":{\"active_drag\":\"auto\",\"active_inspect\":\"auto\",\"active_scroll\":\"auto\",\"active_tap\":\"auto\",\"tools\":[{\"id\":\"c6f2c66c-eb44-498c-b141-62c35d30d05f\",\"type\":\"PanTool\"},{\"id\":\"3ae1b16b-61ac-44d3-8af2-6702e2b04c8c\",\"type\":\"WheelZoomTool\"},{\"id\":\"0c670324-0683-47f3-904f-52e4cfca5f2a\",\"type\":\"BoxZoomTool\"},{\"id\":\"3211d6c8-dd72-474d-ae93-9313d8148fda\",\"type\":\"ResetTool\"}]},\"id\":\"89a222b2-2496-4b80-bb21-c717fccba242\",\"type\":\"Toolbar\"},{\"attributes\":{\"line_color\":\"#7f7f7f\",\"x\":{\"field\":\"x\"},\"y\":{\"field\":\"y\"}},\"id\":\"dc9a0a92-6cd8-414e-8959-2dde70a284ee\",\"type\":\"Line\"},{\"attributes\":{},\"id\":\"c6f2c66c-eb44-498c-b141-62c35d30d05f\",\"type\":\"PanTool\"},{\"attributes\":{\"days\":[1,15]},\"id\":\"861f88af-f6b2-4249-9fed-5b1162dcef6b\",\"type\":\"DaysTicker\"},{\"attributes\":{\"callback\":null,\"column_names\":[\"x\",\"y\"],\"data\":{\"x\":{\"__ndarray__\":\"AABAQqHJckIAAICUm9NyQgAAwOaV3XJCAADAB5nmckIAAABak/ByQgAAgEY7+nJCAADAmDUEc0IAAECF3Q1zQgAAgNfXF3NCAADAKdIhc0IAAEAWeitzQgAAgGh0NXNCAAAAVRw/c0IAAECnFklzQgAAgPkQU3NCAABAgGZcc0IAAIDSYGZzQgAAAL8IcHNCAABAEQN6c0IAAMD9qoNzQgAAAFCljXNCAABAop+Xc0IAAMCOR6FzQgAAAOFBq3NCAACAzem0c0IAAMAf5L5zQgAAAHLeyHNCAAAAk+HRc0IAAEDl29tzQgAAwNGD5XNCAAAAJH7vc0IAAIAQJvlzQgAAwGIgA3RCAAAAtRoNdEIAAIChwhZ0QgAAwPO8IHRCAABA4GQqdEIAAIAyXzR0QgAAwIRZPnRCAADApVxHdEIAAAD4VlF0QgAAgOT+WnRCAADANvlkdEIAAEAjoW50QgAAgHWbeHRCAADAx5WCdEIAAEC0PYx0QgAAgAY4lnRCAAAA89+fdEIAAEBF2ql0QgAAgJfUs3RCAACAuNe8dEIAAMAK0sZ0QgAAQPd50HRCAACASXTadEIAAAA2HOR0QgAAQIgW7nRCAACA2hD4dEIAAADHuAF1QgAAQBmzC3VCAADABVsVdUIAAABYVR91QgAAQKpPKXVCAAAAMaUydUIAAECDnzx1QgAAwG9HRnVCAAAAwkFQdUIAAICu6Vl1QgAAwADkY3VCAAAAU95tdUIAAIA/hnd1QgAAwJGAgXVCAABAfiiLdUIAAIDQIpV1QgAAwCIdn3VCAADAQyCodUIAAACWGrJ1QgAAgILCu3VCAADA1LzFdUIAAEDBZM91QgAAgBNf2XVCAADAZVnjdUIAAEBSAe11QgAAgKT79nVCAAAAkaMAdkIAAEDjnQp2QgAAgDWYFHZC\",\"dtype\":\"float64\",\"shape\":[87]},\"y\":{\"__ndarray__\":\"AAAAAAAA+H8AAAAAAAD4fwAAAAAAAPh/AAAAAAAA+H8AAAAAAAD4fwAAAAAAAPh/AAAAAAAA+H8AAAAAAAD4fwAAAAAAAPh/AAAAAAAA+H8AAAAAAAD4fwAAAAAAAPh/AAAAAAAA+H8AAAAAAAD4fwAAAAAAAPh/AAAAAAAA+H8AAAAAAAD4fwAAAAAAAPh/AAAAAAAA+H8AAAAAAAD4fwAAAAAAAPh/AAAAAAAA+H8AAAAAAAD4fwAAAAAAAPh/AAAAAAAA+H8AAAAAAAD4fwAAAAAAAPh/AAAAAAAA+H8AAAAAAAD4fwAAAAAAAPh/AAAAAAAA+H8AAAAAAAD4fwAAAAAAAPh/AAAAAAAA+H8AAAAAAAD4fwAAAAAAAPh/AAAAAADMlUAAAAAAAEqVQAAAAAAAzJVAAAAAAADMlUAAAAAAAOCVQAAAAAAAIpZAAAAAAAColkAAAAAAAKiWQAAAAAAAqJZAAAAAAADglUAAAAAAAOCVQAAAAAAAzJVAAAAAAACslUAAAAAAABiVQAAAAAAA4JVAAAAAAADUlUAAAAAAAOCVQAAAAAAAIpZAAAAAAADMlUAAAAAAAOCVQAAAAAAAqJZAAAAAAAColkAAAAAAAKiWQAAAAAAAcJdAAAAAAABwl0AAAAAAAD6XQAAAAAAAcJdAAAAAAADIl0AAAAAAAGyXQAAAAAAARJZAAAAAAADglUAAAAAAAHSWQAAAAAAA+JZAAAAAAAColkAAAAAAAHyVQAAAAAAA9JVAAAAAAAAAlkAAAAAAAMyVQAAAAAAAcJdAAAAAAABcl0AAAAAAAHCXQAAAAAAAcJdAAAAAAABwl0AAAAAAANSXQAAAAAAAXJdAAAAAAAColkAAAAAAAESWQAAAAAAAqJZAAAAAAABcl0AAAAAAADSXQAAAAAAASJdA\",\"dtype\":\"float64\",\"shape\":[87]}}},\"id\":\"17b4d95a-f113-4051-bacc-64d12e7bafba\",\"type\":\"ColumnDataSource\"},{\"attributes\":{\"data_source\":{\"id\":\"a588c07b-a1e4-453c-a756-253bbaecdc55\",\"type\":\"ColumnDataSource\"},\"glyph\":{\"id\":\"70da0860-70f5-4243-b828-93f9f3a078a5\",\"type\":\"Line\"},\"hover_glyph\":null,\"muted_glyph\":null,\"nonselection_glyph\":{\"id\":\"3c5c33c9-3ed5-4ee5-88a5-889db23f1c08\",\"type\":\"Line\"},\"selection_glyph\":null,\"view\":{\"id\":\"9141a47d-ede0-4127-9040-356d21b1a7f9\",\"type\":\"CDSView\"}},\"id\":\"99152251-ef72-4d7f-8f57-52f3fa4fb6c9\",\"type\":\"GlyphRenderer\"},{\"attributes\":{\"base\":60,\"mantissas\":[1,2,5,10,15,20,30],\"max_interval\":1800000.0,\"min_interval\":1000.0,\"num_minor_ticks\":0},\"id\":\"42709542-37df-4d46-81f4-10e7443e8889\",\"type\":\"AdaptiveTicker\"},{\"attributes\":{\"label\":{\"value\":\"Single\"},\"renderers\":[{\"id\":\"c15e648a-2e03-4839-9280-dada77faae82\",\"type\":\"GlyphRenderer\"}]},\"id\":\"457f07a5-aeab-43f8-9e60-fe042657c875\",\"type\":\"LegendItem\"},{\"attributes\":{\"line_color\":\"#2ca02c\",\"x\":{\"field\":\"x\"},\"y\":{\"field\":\"y\"}},\"id\":\"5d29b1cc-1224-49ff-80a6-205a7c71063a\",\"type\":\"Line\"},{\"attributes\":{\"dimension\":1,\"plot\":{\"id\":\"ef95b6ca-1669-4a40-873a-ce146c624291\",\"subtype\":\"Figure\",\"type\":\"Plot\"},\"ticker\":{\"id\":\"c4b969cb-a05d-489f-aca9-1fc711a10161\",\"type\":\"BasicTicker\"}},\"id\":\"6858faa8-8130-4818-a79d-32d8b7184f2f\",\"type\":\"Grid\"},{\"attributes\":{\"label\":{\"value\":\"Condo/Co\"},\"renderers\":[{\"id\":\"2ce8b747-5e25-43e6-a78c-27dd2f4b056b\",\"type\":\"GlyphRenderer\"}]},\"id\":\"d1cd019d-bd11-40c6-ae5f-c95b14c5c863\",\"type\":\"LegendItem\"},{\"attributes\":{\"source\":{\"id\":\"83e4cd69-8d75-471a-92eb-f810759cd20d\",\"type\":\"ColumnDataSource\"}},\"id\":\"7d81c0c8-ff38-4c7e-8901-c5cb48b10350\",\"type\":\"CDSView\"},{\"attributes\":{\"data_source\":{\"id\":\"5f96fef2-b014-4516-bd4c-2b74ae6ce8e1\",\"type\":\"ColumnDataSource\"},\"glyph\":{\"id\":\"b3e8d60c-8920-41dd-80fe-44d27a565609\",\"type\":\"Line\"},\"hover_glyph\":null,\"muted_glyph\":null,\"nonselection_glyph\":{\"id\":\"0e164d5b-4b50-4e40-a40f-4c6cd911f75b\",\"type\":\"Line\"},\"selection_glyph\":null,\"view\":{\"id\":\"a12ed1ac-2ea4-4b60-b268-19a6005abfb3\",\"type\":\"CDSView\"}},\"id\":\"168ae686-98d5-4d3c-835d-e9e738e9b90e\",\"type\":\"GlyphRenderer\"},{\"attributes\":{\"data_source\":{\"id\":\"17b4d95a-f113-4051-bacc-64d12e7bafba\",\"type\":\"ColumnDataSource\"},\"glyph\":{\"id\":\"ff37f789-6a20-4399-849e-2958d00627bc\",\"type\":\"Line\"},\"hover_glyph\":null,\"muted_glyph\":null,\"nonselection_glyph\":{\"id\":\"3b0273f4-3b70-41e0-a4c7-c4e081b4e112\",\"type\":\"Line\"},\"selection_glyph\":null,\"view\":{\"id\":\"3f276187-82c8-49a9-941b-ae9723e0aa6d\",\"type\":\"CDSView\"}},\"id\":\"2ce8b747-5e25-43e6-a78c-27dd2f4b056b\",\"type\":\"GlyphRenderer\"},{\"attributes\":{\"callback\":null,\"column_names\":[\"x\",\"y\"],\"data\":{\"x\":{\"__ndarray__\":\"AABAQqHJckIAAICUm9NyQgAAwOaV3XJCAADAB5nmckIAAABak/ByQgAAgEY7+nJCAADAmDUEc0IAAECF3Q1zQgAAgNfXF3NCAADAKdIhc0IAAEAWeitzQgAAgGh0NXNCAAAAVRw/c0IAAECnFklzQgAAgPkQU3NCAABAgGZcc0IAAIDSYGZzQgAAAL8IcHNCAABAEQN6c0IAAMD9qoNzQgAAAFCljXNCAABAop+Xc0IAAMCOR6FzQgAAAOFBq3NCAACAzem0c0IAAMAf5L5zQgAAAHLeyHNCAAAAk+HRc0IAAEDl29tzQgAAwNGD5XNCAAAAJH7vc0IAAIAQJvlzQgAAwGIgA3RCAAAAtRoNdEIAAIChwhZ0QgAAwPO8IHRCAABA4GQqdEIAAIAyXzR0QgAAwIRZPnRCAADApVxHdEIAAAD4VlF0QgAAgOT+WnRCAADANvlkdEIAAEAjoW50QgAAgHWbeHRCAADAx5WCdEIAAEC0PYx0QgAAgAY4lnRCAAAA89+fdEIAAEBF2ql0QgAAgJfUs3RCAACAuNe8dEIAAMAK0sZ0QgAAQPd50HRCAACASXTadEIAAAA2HOR0QgAAQIgW7nRCAACA2hD4dEIAAADHuAF1QgAAQBmzC3VCAADABVsVdUIAAABYVR91QgAAQKpPKXVCAAAAMaUydUIAAECDnzx1QgAAwG9HRnVCAAAAwkFQdUIAAICu6Vl1QgAAwADkY3VCAAAAU95tdUIAAIA/hnd1QgAAwJGAgXVCAABAfiiLdUIAAIDQIpV1QgAAwCIdn3VCAADAQyCodUIAAACWGrJ1QgAAgILCu3VCAADA1LzFdUIAAEDBZM91QgAAgBNf2XVCAADAZVnjdUIAAEBSAe11QgAAgKT79nVCAAAAkaMAdkIAAEDjnQp2QgAAgDWYFHZC\",\"dtype\":\"float64\",\"shape\":[87]},\"y\":{\"__ndarray__\":\"AAAAAAA4mEAAAAAAAMiZQAAAAAAAIJxAAAAAAACQmkAAAAAAAJCaQAAAAAAAFJ5AAAAAAABCnUAAAAAAACCcQAAAAAAADJxAAAAAAACWmUAAAAAAAMiZQAAAAAAAvplAAAAAAAAAmUAAAAAAAACZQAAAAAAAWJtAAAAAAAAMnEAAAAAAAHieQAAAAAAAsJ1AAAAAAAAgnEAAAAAAAHieQAAAAAAAXJxAAAAAAAAMnEAAAAAAAJCaQAAAAAAAOJhAAAAAAAAAmUAAAAAAAHyaQAAAAAAAZpdAAAAAAACkmkAAAAAAAIyaQAAAAAAAkJpAAAAAAAAWnEAAAAAAAEydQAAAAAAAyJ1AAAAAAADonEAAAAAAALqdQAAAAAAAIJxAAAAAAAAgnEAAAAAAACCcQAAAAAAAhJxAAAAAAADYnUAAAAAAAK6dQAAAAAAA2J1AAAAAAABAn0AAAAAAAECfQAAAAAAALJ9AAAAAAABooEAAAAAAAMygQAAAAAAAzKBAAAAAAABooEAAAAAAAGigQAAAAAAA3J5AAAAAAACwnUAAAAAAACyfQAAAAAAAMKFAAAAAAACUoUAAAAAAADChQAAAAAAAzKBAAAAAAADuoUAAAAAAAHaiQAAAAAAA+KFAAAAAAAB+o0AAAAAAAIijQAAAAAAA4qNAAAAAAAD4oUAAAAAAAFyiQAAAAAAAXKJAAAAAAACUoUAAAAAAACahQAAAAAAA+aBAAAAAAAAEoEAAAAAAAECfQAAAAAAALJ9AAAAAAAAmoUAAAAAAAMKgQAAAAAAAaqBAAAAAAABooEAAAAAAACuhQAAAAAAAMKFAAAAAAACUoUAAAAAAAGigQAAAAAAAaKBAAAAAAABioEAAAAAAAGigQAAAAAAA/p9AAAAAAABAn0AAAAAAACyfQAAAAAAA3J5A\",\"dtype\":\"float64\",\"shape\":[87]}}},\"id\":\"c21d821f-bcd7-412e-990a-a9c3f10f0090\",\"type\":\"ColumnDataSource\"},{\"attributes\":{\"data_source\":{\"id\":\"cca3a1e0-8a0e-4e71-9de3-a5e385eb15ee\",\"type\":\"ColumnDataSource\"},\"glyph\":{\"id\":\"dc9a0a92-6cd8-414e-8959-2dde70a284ee\",\"type\":\"Line\"},\"hover_glyph\":null,\"muted_glyph\":null,\"nonselection_glyph\":{\"id\":\"93a05b31-9071-4501-b7f8-6c58a8cca151\",\"type\":\"Line\"},\"selection_glyph\":null,\"view\":{\"id\":\"e3b75639-11c9-40eb-9c37-0ef026b153a5\",\"type\":\"CDSView\"}},\"id\":\"2a8e3fd9-d52c-425f-82b9-a2f157bac860\",\"type\":\"GlyphRenderer\"},{\"attributes\":{\"source\":{\"id\":\"a588c07b-a1e4-453c-a756-253bbaecdc55\",\"type\":\"ColumnDataSource\"}},\"id\":\"9141a47d-ede0-4127-9040-356d21b1a7f9\",\"type\":\"CDSView\"},{\"attributes\":{\"label\":{\"value\":\"All Homes\"},\"renderers\":[{\"id\":\"168ae686-98d5-4d3c-835d-e9e738e9b90e\",\"type\":\"GlyphRenderer\"}]},\"id\":\"ca5c0e27-057b-4b51-9ff9-75c83c8451ce\",\"type\":\"LegendItem\"},{\"attributes\":{\"line_color\":\"#ff7f0e\",\"x\":{\"field\":\"x\"},\"y\":{\"field\":\"y\"}},\"id\":\"ffea4220-8dd4-4bf4-8474-5d6f1a4da0dd\",\"type\":\"Line\"},{\"attributes\":{\"callback\":null,\"column_names\":[\"x\",\"y\"],\"data\":{\"x\":{\"__ndarray__\":\"AABAQqHJckIAAICUm9NyQgAAwOaV3XJCAADAB5nmckIAAABak/ByQgAAgEY7+nJCAADAmDUEc0IAAECF3Q1zQgAAgNfXF3NCAADAKdIhc0IAAEAWeitzQgAAgGh0NXNCAAAAVRw/c0IAAECnFklzQgAAgPkQU3NCAABAgGZcc0IAAIDSYGZzQgAAAL8IcHNCAABAEQN6c0IAAMD9qoNzQgAAAFCljXNCAABAop+Xc0IAAMCOR6FzQgAAAOFBq3NCAACAzem0c0IAAMAf5L5zQgAAAHLeyHNCAAAAk+HRc0IAAEDl29tzQgAAwNGD5XNCAAAAJH7vc0IAAIAQJvlzQgAAwGIgA3RCAAAAtRoNdEIAAIChwhZ0QgAAwPO8IHRCAABA4GQqdEIAAIAyXzR0QgAAwIRZPnRCAADApVxHdEIAAAD4VlF0QgAAgOT+WnRCAADANvlkdEIAAEAjoW50QgAAgHWbeHRCAADAx5WCdEIAAEC0PYx0QgAAgAY4lnRCAAAA89+fdEIAAEBF2ql0QgAAgJfUs3RCAACAuNe8dEIAAMAK0sZ0QgAAQPd50HRCAACASXTadEIAAAA2HOR0QgAAQIgW7nRCAACA2hD4dEIAAADHuAF1QgAAQBmzC3VCAADABVsVdUIAAABYVR91QgAAQKpPKXVCAAAAMaUydUIAAECDnzx1QgAAwG9HRnVCAAAAwkFQdUIAAICu6Vl1QgAAwADkY3VCAAAAU95tdUIAAIA/hnd1QgAAwJGAgXVCAABAfiiLdUIAAIDQIpV1QgAAwCIdn3VCAADAQyCodUIAAACWGrJ1QgAAgILCu3VCAADA1LzFdUIAAEDBZM91QgAAgBNf2XVCAADAZVnjdUIAAEBSAe11QgAAgKT79nVCAAAAkaMAdkIAAEDjnQp2QgAAgDWYFHZC\",\"dtype\":\"float64\",\"shape\":[87]},\"y\":{\"__ndarray__\":\"AAAAAAAA+H8AAAAAAAD4fwAAAAAAAPh/AAAAAAAA+H8AAAAAAAD4fwAAAAAAAPh/AAAAAAAA+H8AAAAAAAD4fwAAAAAAAPh/AAAAAAAA+H8AAAAAAAD4fwAAAAAAAPh/AAAAAAAA+H8AAAAAAAD4fwAAAAAAAPh/AAAAAAAA+H8AAAAAAAD4fwAAAAAAAPh/AAAAAAAA+H8AAAAAAAD4fwAAAAAAAPh/AAAAAAAA+H8AAAAAAAD4fwAAAAAAAPh/AAAAAAAA+H8AAAAAAAD4fwAAAAAAAPh/AAAAAAAA+H8AAAAAAAD4fwAAAAAAAPh/AAAAAAAA+H8AAAAAAAD4fwAAAAAAwJJAAAAAAAAYlUAAAAAAABiVQAAAAAAABJVAAAAAAAAYlUAAAAAAALSUQAAAAAAAtJRAAAAAAAAYlUAAAAAAAMyVQAAAAAAALpZAAAAAAADMlUAAAAAAAOCVQAAAAAAAqJZAAAAAAAColkAAAAAAAESWQAAAAAAA4JVAAAAAAADMlUAAAAAAAMyVQAAAAAAAzJVAAAAAAADglUAAAAAAAOCVQAAAAAAAqJZAAAAAAABkl0AAAAAAAOiXQAAAAAAAOJhAAAAAAAA4mEAAAAAAADiYQAAAAAAAOJhAAAAAAAA2mEAAAAAAAHCXQAAAAAAAcJdAAAAAAABwl0AAAAAAAHCXQAAAAAAAqJZAAAAAAAColkAAAAAAAHCXQAAAAAAAcJdAAAAAAABwl0AAAAAAAKiWQAAAAAAA4JVAAAAAAADglUAAAAAAAOCVQAAAAAAAcJdAAAAAAACcmEAAAAAAAACZQAAAAAAAyJlAAAAAAADImUAAAAAAAGiaQAAAAAAALJpAAAAAAADImUAAAAAAAMSZQAAAAAAAAJlAAAAAAAAAmUAAAAAAAACZQAAAAAAAAJlA\",\"dtype\":\"float64\",\"shape\":[87]}}},\"id\":\"d0a689b6-f11e-4d8c-b9ac-7a1cd5e72cc7\",\"type\":\"ColumnDataSource\"},{\"attributes\":{\"line_color\":\"#9467bd\",\"x\":{\"field\":\"x\"},\"y\":{\"field\":\"y\"}},\"id\":\"b3e8d60c-8920-41dd-80fe-44d27a565609\",\"type\":\"Line\"},{\"attributes\":{\"data_source\":{\"id\":\"83e4cd69-8d75-471a-92eb-f810759cd20d\",\"type\":\"ColumnDataSource\"},\"glyph\":{\"id\":\"ffea4220-8dd4-4bf4-8474-5d6f1a4da0dd\",\"type\":\"Line\"},\"hover_glyph\":null,\"muted_glyph\":null,\"nonselection_glyph\":{\"id\":\"4c85cdad-b140-4f80-8e9a-53a424fb2112\",\"type\":\"Line\"},\"selection_glyph\":null,\"view\":{\"id\":\"7d81c0c8-ff38-4c7e-8901-c5cb48b10350\",\"type\":\"CDSView\"}},\"id\":\"dfe4439b-80ba-4f3f-b687-97333954f41c\",\"type\":\"GlyphRenderer\"},{\"attributes\":{\"data_source\":{\"id\":\"d0a689b6-f11e-4d8c-b9ac-7a1cd5e72cc7\",\"type\":\"ColumnDataSource\"},\"glyph\":{\"id\":\"63b6687a-a07f-4223-b8c2-ee81a9069af9\",\"type\":\"Line\"},\"hover_glyph\":null,\"muted_glyph\":null,\"nonselection_glyph\":{\"id\":\"e4c966ad-557c-4c6f-a021-6d37e72b93d9\",\"type\":\"Line\"},\"selection_glyph\":null,\"view\":{\"id\":\"5e392039-3b7f-4711-88f7-0ec16b848683\",\"type\":\"CDSView\"}},\"id\":\"c15e648a-2e03-4839-9280-dada77faae82\",\"type\":\"GlyphRenderer\"},{\"attributes\":{\"axis_label\":\"Value\",\"formatter\":{\"id\":\"a6da906e-d60d-4ac3-93a9-8cb78494789b\",\"type\":\"NumeralTickFormatter\"},\"plot\":{\"id\":\"ef95b6ca-1669-4a40-873a-ce146c624291\",\"subtype\":\"Figure\",\"type\":\"Plot\"},\"ticker\":{\"id\":\"c4b969cb-a05d-489f-aca9-1fc711a10161\",\"type\":\"BasicTicker\"}},\"id\":\"aa7b4c71-a52a-48ea-97bc-04e0de5d9665\",\"type\":\"LinearAxis\"},{\"attributes\":{\"label\":{\"value\":\"Multi\"},\"renderers\":[{\"id\":\"2a8e3fd9-d52c-425f-82b9-a2f157bac860\",\"type\":\"GlyphRenderer\"}]},\"id\":\"af7da388-3497-47a5-b65b-a42f957f66a5\",\"type\":\"LegendItem\"},{\"attributes\":{\"base\":24,\"mantissas\":[1,2,4,6,8,12],\"max_interval\":43200000.0,\"min_interval\":3600000.0,\"num_minor_ticks\":0},\"id\":\"7bfc52b0-ad2b-4261-bc2a-dca93b760c8c\",\"type\":\"AdaptiveTicker\"},{\"attributes\":{\"label\":{\"value\":\"Four Bedrooms\"},\"renderers\":[{\"id\":\"bd891731-535f-400f-9e60-8cfbc249f9d2\",\"type\":\"GlyphRenderer\"}]},\"id\":\"7d8430c6-c9e3-4e1e-8cce-1679dfa42d61\",\"type\":\"LegendItem\"},{\"attributes\":{\"line_alpha\":0.1,\"line_color\":\"#1f77b4\",\"x\":{\"field\":\"x\"},\"y\":{\"field\":\"y\"}},\"id\":\"739f053d-274d-4362-b757-1f616ce90404\",\"type\":\"Line\"},{\"attributes\":{\"mantissas\":[1,2,5],\"max_interval\":500.0,\"num_minor_ticks\":0},\"id\":\"e2c313e9-e421-4f9a-b690-129059f03553\",\"type\":\"AdaptiveTicker\"},{\"attributes\":{\"source\":{\"id\":\"cca3a1e0-8a0e-4e71-9de3-a5e385eb15ee\",\"type\":\"ColumnDataSource\"}},\"id\":\"e3b75639-11c9-40eb-9c37-0ef026b153a5\",\"type\":\"CDSView\"},{\"attributes\":{\"line_color\":\"#8c564b\",\"x\":{\"field\":\"x\"},\"y\":{\"field\":\"y\"}},\"id\":\"ff37f789-6a20-4399-849e-2958d00627bc\",\"type\":\"Line\"},{\"attributes\":{\"source\":{\"id\":\"c408a2a0-3b4f-4e57-aaa4-16139a620161\",\"type\":\"ColumnDataSource\"}},\"id\":\"7d6f90e1-c3aa-4fed-8aee-35ff06d6915e\",\"type\":\"CDSView\"},{\"attributes\":{\"label\":{\"value\":\"Studio\"},\"renderers\":[{\"id\":\"844f4c79-504b-4881-ad9d-a93eafd02bfc\",\"type\":\"GlyphRenderer\"}]},\"id\":\"1f3d0391-03eb-40c4-b839-b34c772db29c\",\"type\":\"LegendItem\"},{\"attributes\":{\"line_alpha\":0.1,\"line_color\":\"#1f77b4\",\"x\":{\"field\":\"x\"},\"y\":{\"field\":\"y\"}},\"id\":\"d007d12c-5e64-48fe-98e0-e8e61d3c070b\",\"type\":\"Line\"},{\"attributes\":{\"line_alpha\":0.1,\"line_color\":\"#1f77b4\",\"x\":{\"field\":\"x\"},\"y\":{\"field\":\"y\"}},\"id\":\"0e164d5b-4b50-4e40-a40f-4c6cd911f75b\",\"type\":\"Line\"},{\"attributes\":{\"source\":{\"id\":\"d0a689b6-f11e-4d8c-b9ac-7a1cd5e72cc7\",\"type\":\"ColumnDataSource\"}},\"id\":\"5e392039-3b7f-4711-88f7-0ec16b848683\",\"type\":\"CDSView\"},{\"attributes\":{},\"id\":\"3ae1b16b-61ac-44d3-8af2-6702e2b04c8c\",\"type\":\"WheelZoomTool\"},{\"attributes\":{\"callback\":null,\"column_names\":[\"x\",\"y\"],\"data\":{\"x\":{\"__ndarray__\":\"AABAQqHJckIAAICUm9NyQgAAwOaV3XJCAADAB5nmckIAAABak/ByQgAAgEY7+nJCAADAmDUEc0IAAECF3Q1zQgAAgNfXF3NCAADAKdIhc0IAAEAWeitzQgAAgGh0NXNCAAAAVRw/c0IAAECnFklzQgAAgPkQU3NCAABAgGZcc0IAAIDSYGZzQgAAAL8IcHNCAABAEQN6c0IAAMD9qoNzQgAAAFCljXNCAABAop+Xc0IAAMCOR6FzQgAAAOFBq3NCAACAzem0c0IAAMAf5L5zQgAAAHLeyHNCAAAAk+HRc0IAAEDl29tzQgAAwNGD5XNCAAAAJH7vc0IAAIAQJvlzQgAAwGIgA3RCAAAAtRoNdEIAAIChwhZ0QgAAwPO8IHRCAABA4GQqdEIAAIAyXzR0QgAAwIRZPnRCAADApVxHdEIAAAD4VlF0QgAAgOT+WnRCAADANvlkdEIAAEAjoW50QgAAgHWbeHRCAADAx5WCdEIAAEC0PYx0QgAAgAY4lnRCAAAA89+fdEIAAEBF2ql0QgAAgJfUs3RCAACAuNe8dEIAAMAK0sZ0QgAAQPd50HRCAACASXTadEIAAAA2HOR0QgAAQIgW7nRCAACA2hD4dEIAAADHuAF1QgAAQBmzC3VCAADABVsVdUIAAABYVR91QgAAQKpPKXVCAAAAMaUydUIAAECDnzx1QgAAwG9HRnVCAAAAwkFQdUIAAICu6Vl1QgAAwADkY3VCAAAAU95tdUIAAIA/hnd1QgAAwJGAgXVCAABAfiiLdUIAAIDQIpV1QgAAwCIdn3VCAADAQyCodUIAAACWGrJ1QgAAgILCu3VCAADA1LzFdUIAAEDBZM91QgAAgBNf2XVCAADAZVnjdUIAAEBSAe11QgAAgKT79nVCAAAAkaMAdkIAAEDjnQp2QgAAgDWYFHZC\",\"dtype\":\"float64\",\"shape\":[87]},\"y\":{\"__ndarray__\":\"AAAAAAB4jkAAAAAAALCNQAAAAAAAsI1AAAAAAACwjUAAAAAAAMiOQAAAAAAAaJBAAAAAAADQkEAAAAAAAECPQAAAAAAAQI9AAAAAAAD4i0AAAAAAAPiLQAAAAAAAEI1AAAAAAABAj0AAAAAAAMiOQAAAAAAAQI9AAAAAAAAAkEAAAAAAAASQQAAAAAAAGI9AAAAAAAAAkEAAAAAAABiPQAAAAAAA8I5AAAAAAADQjkAAAAAAAICPQAAAAAAAYI9AAAAAAABAj0AAAAAAAOiOQAAAAAAA3I5AAAAAAAAAj0AAAAAAABiPQAAAAAAAGI9AAAAAAABAj0AAAAAAAECPQAAAAAAAGJBAAAAAAABokEAAAAAAAMyQQAAAAAAAAJFAAAAAAACAkUAAAAAAAOSRQAAAAAAAwJJAAAAAAACYkkAAAAAAAGiSQAAAAAAAqJJAAAAAAAAkk0AAAAAAAEyTQAAAAAAAsJNAAAAAAAC8k0AAAAAAAIiTQAAAAAAArJNAAAAAAABQlEAAAAAAAIiTQAAAAAAAiJNAAAAAAADok0AAAAAAAKyTQAAAAAAAPJRAAAAAAACck0AAAAAAAByUQAAAAAAATpRAAAAAAAC0lEAAAAAAABiVQAAAAAAALJVAAAAAAAAklEAAAAAAAPSTQAAAAAAAPJRAAAAAAABQlEAAAAAAAKCUQAAAAAAAeJRAAAAAAAB4lEAAAAAAAHSUQAAAAAAAFJRAAAAAAAA0lEAAAAAAABSUQAAAAAAAQpRAAAAAAAB6k0AAAAAAADSTQAAAAAAAKJRAAAAAAABMlEAAAAAAACyUQAAAAAAAVJRAAAAAAAB4lEAAAAAAAGSUQAAAAAAAZJRAAAAAAABQlEAAAAAAAPyTQAAAAAAA7JNAAAAAAAAolEAAAAAAAFCUQAAAAAAATJRA\",\"dtype\":\"float64\",\"shape\":[87]}}},\"id\":\"cca3a1e0-8a0e-4e71-9de3-a5e385eb15ee\",\"type\":\"ColumnDataSource\"},{\"attributes\":{},\"id\":\"4515682f-0dd8-4f8d-bf1b-e49926ea4541\",\"type\":\"YearsTicker\"},{\"attributes\":{\"data_source\":{\"id\":\"c408a2a0-3b4f-4e57-aaa4-16139a620161\",\"type\":\"ColumnDataSource\"},\"glyph\":{\"id\":\"5d29b1cc-1224-49ff-80a6-205a7c71063a\",\"type\":\"Line\"},\"hover_glyph\":null,\"muted_glyph\":null,\"nonselection_glyph\":{\"id\":\"d007d12c-5e64-48fe-98e0-e8e61d3c070b\",\"type\":\"Line\"},\"selection_glyph\":null,\"view\":{\"id\":\"7d6f90e1-c3aa-4fed-8aee-35ff06d6915e\",\"type\":\"CDSView\"}},\"id\":\"ef7cf85a-4684-470f-bfe2-1ee7cce0ec36\",\"type\":\"GlyphRenderer\"},{\"attributes\":{},\"id\":\"b78b4e0d-ac77-431f-8944-90c6d913747c\",\"type\":\"LinearScale\"},{\"attributes\":{\"plot\":null,\"text\":\"Median Rental Price - Austin, TX\"},\"id\":\"d4915d6e-d833-4487-a232-9116c70d1cd0\",\"type\":\"Title\"},{\"attributes\":{\"source\":{\"id\":\"5f96fef2-b014-4516-bd4c-2b74ae6ce8e1\",\"type\":\"ColumnDataSource\"}},\"id\":\"a12ed1ac-2ea4-4b60-b268-19a6005abfb3\",\"type\":\"CDSView\"},{\"attributes\":{\"plot\":{\"id\":\"ef95b6ca-1669-4a40-873a-ce146c624291\",\"subtype\":\"Figure\",\"type\":\"Plot\"},\"ticker\":{\"id\":\"4ddd8aa1-18ce-4011-8a12-20928194fa73\",\"type\":\"DatetimeTicker\"}},\"id\":\"cbc01d8d-2bad-4a50-9992-b691443a2513\",\"type\":\"Grid\"},{\"attributes\":{},\"id\":\"3211d6c8-dd72-474d-ae93-9313d8148fda\",\"type\":\"ResetTool\"},{\"attributes\":{\"items\":[{\"id\":\"adea24cc-1670-45b3-a037-222ca3e17d2a\",\"type\":\"LegendItem\"},{\"id\":\"295314ba-0901-481b-80ad-0dc4d5586908\",\"type\":\"LegendItem\"},{\"id\":\"e0f03dff-b959-400c-8172-d042bd161ba6\",\"type\":\"LegendItem\"},{\"id\":\"7d8430c6-c9e3-4e1e-8cce-1679dfa42d61\",\"type\":\"LegendItem\"},{\"id\":\"ca5c0e27-057b-4b51-9ff9-75c83c8451ce\",\"type\":\"LegendItem\"},{\"id\":\"d1cd019d-bd11-40c6-ae5f-c95b14c5c863\",\"type\":\"LegendItem\"},{\"id\":\"d307ab7e-a075-454f-8112-734ec7ad15b0\",\"type\":\"LegendItem\"},{\"id\":\"af7da388-3497-47a5-b65b-a42f957f66a5\",\"type\":\"LegendItem\"},{\"id\":\"457f07a5-aeab-43f8-9e60-fe042657c875\",\"type\":\"LegendItem\"},{\"id\":\"1f3d0391-03eb-40c4-b839-b34c772db29c\",\"type\":\"LegendItem\"}],\"location\":\"top_left\",\"plot\":{\"id\":\"ef95b6ca-1669-4a40-873a-ce146c624291\",\"subtype\":\"Figure\",\"type\":\"Plot\"}},\"id\":\"1b96c917-36c6-481e-832a-f67d9ff90b5a\",\"type\":\"Legend\"},{\"attributes\":{},\"id\":\"960420aa-80f3-4885-ac4c-c91f5ae658ac\",\"type\":\"LinearScale\"}],\"root_ids\":[\"ef95b6ca-1669-4a40-873a-ce146c624291\"]},\"title\":\"Bokeh Application\",\"version\":\"0.12.13\"}};\n",
       "  var render_items = [{\"docid\":\"8734fca0-e609-439b-bdc1-83aa695e11e0\",\"elementid\":\"0fe024c5-1bc0-43e7-8a72-3be7ab1c4a0a\",\"modelid\":\"ef95b6ca-1669-4a40-873a-ce146c624291\"}];\n",
       "  root.Bokeh.embed.embed_items_notebook(docs_json, render_items);\n",
       "\n",
       "  }\n",
       "  if (root.Bokeh !== undefined) {\n",
       "    embed_document(root);\n",
       "  } else {\n",
       "    var attempts = 0;\n",
       "    var timer = setInterval(function(root) {\n",
       "      if (root.Bokeh !== undefined) {\n",
       "        embed_document(root);\n",
       "        clearInterval(timer);\n",
       "      }\n",
       "      attempts++;\n",
       "      if (attempts > 100) {\n",
       "        console.log(\"Bokeh: ERROR: Unable to run BokehJS code because BokehJS library is missing\")\n",
       "        clearInterval(timer);\n",
       "      }\n",
       "    }, 10, root)\n",
       "  }\n",
       "})(window);"
      ],
      "application/vnd.bokehjs_exec.v0+json": ""
     },
     "metadata": {
      "application/vnd.bokehjs_exec.v0+json": {
       "id": "ef95b6ca-1669-4a40-873a-ce146c624291"
      }
     },
     "output_type": "display_data"
    }
   ],
   "source": [
    "# get and visualize all MRP data for N11814\n",
    "s_codes_info = filter_by_area_prefix(area_cat_code = \"M31\", ind_prefix = \"MRP\", df = codes)\n",
    "s_codes_list = list(s_codes_info.index)\n",
    "p = create_plot(s_codes_info)\n",
    "show(p)"
   ]
  },
  {
   "cell_type": "markdown",
   "metadata": {},
   "source": [
    "Now lets have a look at the City of Austin. I found the code is \"C11734\"."
   ]
  },
  {
   "cell_type": "code",
   "execution_count": 6,
   "metadata": {},
   "outputs": [
    {
     "data": {
      "text/html": [
       "\n",
       "<div class=\"bk-root\">\n",
       "    <div class=\"bk-plotdiv\" id=\"3b73cdd9-85cf-4139-8f30-371cab3e86c0\"></div>\n",
       "</div>"
      ]
     },
     "metadata": {},
     "output_type": "display_data"
    },
    {
     "data": {
      "application/javascript": [
       "(function(root) {\n",
       "  function embed_document(root) {\n",
       "    \n",
       "  var docs_json = {\"04bf73c2-1b5c-458e-a05f-bfcbf093e5e3\":{\"roots\":{\"references\":[{\"attributes\":{\"line_color\":\"#e377c2\",\"x\":{\"field\":\"x\"},\"y\":{\"field\":\"y\"}},\"id\":\"112fbd65-465b-4fb9-bfb6-40dd11f041d1\",\"type\":\"Line\"},{\"attributes\":{\"months\":[0,2,4,6,8,10]},\"id\":\"fa345f82-7528-4556-9586-83a08fc921e5\",\"type\":\"MonthsTicker\"},{\"attributes\":{\"source\":{\"id\":\"c29510e6-94b9-4695-9519-81a163394d2b\",\"type\":\"ColumnDataSource\"}},\"id\":\"526dbca7-2e57-4d9c-8fcc-4d2a5f314aea\",\"type\":\"CDSView\"},{\"attributes\":{\"line_color\":\"#d62728\",\"x\":{\"field\":\"x\"},\"y\":{\"field\":\"y\"}},\"id\":\"87aa4fe7-4cf3-4d8e-babe-e2af3f008b08\",\"type\":\"Line\"},{\"attributes\":{\"label\":{\"value\":\"Four Bedrooms\"},\"renderers\":[{\"id\":\"5c4ac1c9-a87b-423e-ae70-a57140a96292\",\"type\":\"GlyphRenderer\"}]},\"id\":\"256c63dd-75bb-4cff-ab1f-61d6f1582332\",\"type\":\"LegendItem\"},{\"attributes\":{\"days\":[1,8,15,22]},\"id\":\"8f658d8d-f6b9-49ea-b7c2-ac062fabd23f\",\"type\":\"DaysTicker\"},{\"attributes\":{\"callback\":null,\"column_names\":[\"x\",\"y\"],\"data\":{\"x\":{\"__ndarray__\":\"AABAQqHJckIAAICUm9NyQgAAwOaV3XJCAADAB5nmckIAAABak/ByQgAAgEY7+nJCAADAmDUEc0IAAECF3Q1zQgAAgNfXF3NCAADAKdIhc0IAAEAWeitzQgAAgGh0NXNCAAAAVRw/c0IAAECnFklzQgAAgPkQU3NCAABAgGZcc0IAAIDSYGZzQgAAAL8IcHNCAABAEQN6c0IAAMD9qoNzQgAAAFCljXNCAABAop+Xc0IAAMCOR6FzQgAAAOFBq3NCAACAzem0c0IAAMAf5L5zQgAAAHLeyHNCAAAAk+HRc0IAAEDl29tzQgAAwNGD5XNCAAAAJH7vc0IAAIAQJvlzQgAAwGIgA3RCAAAAtRoNdEIAAIChwhZ0QgAAwPO8IHRCAABA4GQqdEIAAIAyXzR0QgAAwIRZPnRCAADApVxHdEIAAAD4VlF0QgAAgOT+WnRCAADANvlkdEIAAEAjoW50QgAAgHWbeHRCAADAx5WCdEIAAEC0PYx0QgAAgAY4lnRCAAAA89+fdEIAAEBF2ql0QgAAgJfUs3RCAACAuNe8dEIAAMAK0sZ0QgAAQPd50HRCAACASXTadEIAAAA2HOR0QgAAQIgW7nRCAACA2hD4dEIAAADHuAF1QgAAQBmzC3VCAADABVsVdUIAAABYVR91QgAAQKpPKXVCAAAAMaUydUIAAECDnzx1QgAAwG9HRnVCAAAAwkFQdUIAAICu6Vl1QgAAwADkY3VCAAAAU95tdUIAAIA/hnd1QgAAwJGAgXVCAABAfiiLdUIAAIDQIpV1QgAAwCIdn3VCAADAQyCodUIAAACWGrJ1QgAAgILCu3VCAADA1LzFdUIAAEDBZM91QgAAgBNf2XVCAADAZVnjdUIAAEBSAe11QgAAgKT79nVCAAAAkaMAdkIAAEDjnQp2QgAAgDWYFHZC\",\"dtype\":\"float64\",\"shape\":[87]},\"y\":{\"__ndarray__\":\"AAAAAAAA+H8AAAAAAAD4fwAAAAAAAPh/AAAAAAAA+H8AAAAAAAD4fwAAAAAAAPh/AAAAAAAA+H8AAAAAAAD4fwAAAAAAAPh/AAAAAAAA+H8AAAAAAAD4fwAAAAAAAPh/AAAAAAAA+H8AAAAAAAD4fwAAAAAAAPh/AAAAAAAA+H8AAAAAAAD4fwAAAAAAAPh/AAAAAAAA+H8AAAAAAAD4fwAAAAAAAPh/AAAAAAAA+H8AAAAAAAD4fwAAAAAAAPh/AAAAAAAA+H8AAAAAAAD4fwAAAAAAAPh/AAAAAAAYhUAAAAAAAKySQAAAAAAAtJRAAAAAAAB8lUAAAAAAAOCVQAAAAAAA4JVAAAAAAADglUAAAAAAAKiWQAAAAAAAepZAAAAAAADglUAAAAAAAJKWQAAAAAAAZpdAAAAAAABwl0AAAAAAAHCXQAAAAAAAcJdAAAAAAAA4mEAAAAAAADiYQAAAAAAA7JhAAAAAAAAAmUAAAAAAAOyYQAAAAAAA7JhAAAAAAADsmEAAAAAAAOyYQAAAAAAAyJlAAAAAAABkmUAAAAAAAACZQAAAAAAAyJlAAAAAAADImUAAAAAAABKbQAAAAAAAfJpAAAAAAADgmkAAAAAAABybQAAAAAAAkJpAAAAAAAAAmUAAAAAAALyYQAAAAAAA7JhAAAAAAAAAmUAAAAAAAACZQAAAAAAAOJhAAAAAAADsmEAAAAAAAMiZQAAAAAAAfJpAAAAAAADGmUAAAAAAAMiZQAAAAAAA7JhAAAAAAAD2mEAAAAAAAMiZQAAAAAAAfJpAAAAAAAB8mkAAAAAAAHyaQAAAAAAAkJpAAAAAAACQmkAAAAAAAPSaQAAAAAAAkJpAAAAAAACQmkAAAAAAAHyaQAAAAAAAQJpAAAAAAADImUAAAAAAAMiZQAAAAAAAyJlA\",\"dtype\":\"float64\",\"shape\":[87]}}},\"id\":\"8d8c722d-23f1-41b0-977c-d8dd88cb1f03\",\"type\":\"ColumnDataSource\"},{\"attributes\":{\"data_source\":{\"id\":\"c29510e6-94b9-4695-9519-81a163394d2b\",\"type\":\"ColumnDataSource\"},\"glyph\":{\"id\":\"87aa4fe7-4cf3-4d8e-babe-e2af3f008b08\",\"type\":\"Line\"},\"hover_glyph\":null,\"muted_glyph\":null,\"nonselection_glyph\":{\"id\":\"0b7ace12-7c65-4ae8-afd8-ac660be7e14d\",\"type\":\"Line\"},\"selection_glyph\":null,\"view\":{\"id\":\"526dbca7-2e57-4d9c-8fcc-4d2a5f314aea\",\"type\":\"CDSView\"}},\"id\":\"5c4ac1c9-a87b-423e-ae70-a57140a96292\",\"type\":\"GlyphRenderer\"},{\"attributes\":{\"callback\":null,\"column_names\":[\"x\",\"y\"],\"data\":{\"x\":{\"__ndarray__\":\"AABAQqHJckIAAICUm9NyQgAAwOaV3XJCAADAB5nmckIAAABak/ByQgAAgEY7+nJCAADAmDUEc0IAAECF3Q1zQgAAgNfXF3NCAADAKdIhc0IAAEAWeitzQgAAgGh0NXNCAAAAVRw/c0IAAECnFklzQgAAgPkQU3NCAABAgGZcc0IAAIDSYGZzQgAAAL8IcHNCAABAEQN6c0IAAMD9qoNzQgAAAFCljXNCAABAop+Xc0IAAMCOR6FzQgAAAOFBq3NCAACAzem0c0IAAMAf5L5zQgAAAHLeyHNCAAAAk+HRc0IAAEDl29tzQgAAwNGD5XNCAAAAJH7vc0IAAIAQJvlzQgAAwGIgA3RCAAAAtRoNdEIAAIChwhZ0QgAAwPO8IHRCAABA4GQqdEIAAIAyXzR0QgAAwIRZPnRCAADApVxHdEIAAAD4VlF0QgAAgOT+WnRCAADANvlkdEIAAEAjoW50QgAAgHWbeHRCAADAx5WCdEIAAEC0PYx0QgAAgAY4lnRCAAAA89+fdEIAAEBF2ql0QgAAgJfUs3RCAACAuNe8dEIAAMAK0sZ0QgAAQPd50HRCAACASXTadEIAAAA2HOR0QgAAQIgW7nRCAACA2hD4dEIAAADHuAF1QgAAQBmzC3VCAADABVsVdUIAAABYVR91QgAAQKpPKXVCAAAAMaUydUIAAECDnzx1QgAAwG9HRnVCAAAAwkFQdUIAAICu6Vl1QgAAwADkY3VCAAAAU95tdUIAAIA/hnd1QgAAwJGAgXVCAABAfiiLdUIAAIDQIpV1QgAAwCIdn3VCAADAQyCodUIAAACWGrJ1QgAAgILCu3VCAADA1LzFdUIAAEDBZM91QgAAgBNf2XVCAADAZVnjdUIAAEBSAe11QgAAgKT79nVCAAAAkaMAdkIAAEDjnQp2QgAAgDWYFHZC\",\"dtype\":\"float64\",\"shape\":[87]},\"y\":{\"__ndarray__\":\"AAAAAAAA+H8AAAAAAAD4fwAAAAAAAPh/AAAAAAAA+H8AAAAAAAD4fwAAAAAAAPh/AAAAAAAA+H8AAAAAAAD4fwAAAAAAAPh/AAAAAAAA+H8AAAAAAAD4fwAAAAAAAPh/AAAAAAAA+H8AAAAAAAD4fwAAAAAAAPh/AAAAAAAA+H8AAAAAAAD4fwAAAAAAAPh/AAAAAAAA+H8AAAAAAAD4fwAAAAAAAPh/AAAAAAAA+H8AAAAAAAD4fwAAAAAAAPh/AAAAAAAA+H8AAAAAAAD4fwAAAAAAAPh/AAAAAAAA+H8AAAAAAAD4fwAAAAAAAPh/AAAAAAAA+H8AAAAAAAD4fwAAAAAAAPh/AAAAAAAA+H8AAAAAAAD4fwAAAAAAAPh/AAAAAADMlUAAAAAAAMyVQAAAAAAA4JVAAAAAAADMlUAAAAAAAOCVQAAAAAAA8JVAAAAAAABcl0AAAAAAAKiWQAAAAAAAqJZAAAAAAABalkAAAAAAAESWQAAAAAAA4JVAAAAAAADUlUAAAAAAABiVQAAAAAAA4JVAAAAAAADglUAAAAAAAIyWQAAAAAAAqJZAAAAAAADwlUAAAAAAAJSWQAAAAAAAXJdAAAAAAABcl0AAAAAAAAyXQAAAAAAAcJdAAAAAAABwl0AAAAAAAFyXQAAAAAAAqpdAAAAAAAA4mEAAAAAAAHCXQAAAAAAAcpZAAAAAAADwlUAAAAAAAKiWQAAAAAAA0JZAAAAAAAColkAAAAAAAMyVQAAAAAAA8JVAAAAAAADglUAAAAAAAOCVQAAAAAAAcJdAAAAAAABwl0AAAAAAAHCXQAAAAAAAcJdAAAAAAABwl0AAAAAAAHCXQAAAAAAAMJdAAAAAAADglUAAAAAAAPCVQAAAAAAAqJZAAAAAAABcl0AAAAAAABKXQAAAAAAAApdA\",\"dtype\":\"float64\",\"shape\":[87]}}},\"id\":\"c91f3d20-6891-4973-98b2-21acef511ba7\",\"type\":\"ColumnDataSource\"},{\"attributes\":{\"source\":{\"id\":\"3ec0ff35-7403-4da6-9820-d3d10a7f4f7b\",\"type\":\"ColumnDataSource\"}},\"id\":\"d829f6d9-a37d-42cf-accf-ef30ca161102\",\"type\":\"CDSView\"},{\"attributes\":{\"line_color\":\"#7f7f7f\",\"x\":{\"field\":\"x\"},\"y\":{\"field\":\"y\"}},\"id\":\"bf1d0ce4-3851-4928-b5a7-9f19282ec7a7\",\"type\":\"Line\"},{\"attributes\":{\"days\":[1,4,7,10,13,16,19,22,25,28]},\"id\":\"6783ceca-f0bf-4edf-b5c4-3510bc9e88f1\",\"type\":\"DaysTicker\"},{\"attributes\":{\"line_alpha\":0.1,\"line_color\":\"#1f77b4\",\"x\":{\"field\":\"x\"},\"y\":{\"field\":\"y\"}},\"id\":\"48612e99-cc31-4250-a316-eb5821aa27cd\",\"type\":\"Line\"},{\"attributes\":{\"data_source\":{\"id\":\"a4c078d8-d00b-409a-9ad4-a20030e823d0\",\"type\":\"ColumnDataSource\"},\"glyph\":{\"id\":\"5797d0a1-027b-473c-85f8-7005f81a84be\",\"type\":\"Line\"},\"hover_glyph\":null,\"muted_glyph\":null,\"nonselection_glyph\":{\"id\":\"c9a7044f-0a88-40ab-953b-71993cfecdb1\",\"type\":\"Line\"},\"selection_glyph\":null,\"view\":{\"id\":\"7e31e4c0-db3f-4805-a15b-e31b1d39453a\",\"type\":\"CDSView\"}},\"id\":\"18e16141-9e67-414b-8b93-6e7590f22cbc\",\"type\":\"GlyphRenderer\"},{\"attributes\":{\"line_color\":\"#17becf\",\"x\":{\"field\":\"x\"},\"y\":{\"field\":\"y\"}},\"id\":\"70edcbc0-8762-46a0-96d0-fe5eca0bafc2\",\"type\":\"Line\"},{\"attributes\":{\"data_source\":{\"id\":\"86f822f4-e1d3-4e5e-a9d3-2dce20598a30\",\"type\":\"ColumnDataSource\"},\"glyph\":{\"id\":\"112fbd65-465b-4fb9-bfb6-40dd11f041d1\",\"type\":\"Line\"},\"hover_glyph\":null,\"muted_glyph\":null,\"nonselection_glyph\":{\"id\":\"e6a2fa98-c11b-485b-8ff3-e74cf5becbba\",\"type\":\"Line\"},\"selection_glyph\":null,\"view\":{\"id\":\"8ff02e75-3b68-4c19-8b98-2265e6e79fe4\",\"type\":\"CDSView\"}},\"id\":\"d85ac5ac-0c97-4c3f-a4b7-f9c6fda309d1\",\"type\":\"GlyphRenderer\"},{\"attributes\":{\"source\":{\"id\":\"a4c078d8-d00b-409a-9ad4-a20030e823d0\",\"type\":\"ColumnDataSource\"}},\"id\":\"7e31e4c0-db3f-4805-a15b-e31b1d39453a\",\"type\":\"CDSView\"},{\"attributes\":{\"label\":{\"value\":\"Three Bedrooms\"},\"renderers\":[{\"id\":\"9d8b4291-ff55-48cc-af32-8dda2f2ce012\",\"type\":\"GlyphRenderer\"}]},\"id\":\"b3d72dc1-042e-421d-b3cc-f8dfd997e2c9\",\"type\":\"LegendItem\"},{\"attributes\":{\"line_alpha\":0.1,\"line_color\":\"#1f77b4\",\"x\":{\"field\":\"x\"},\"y\":{\"field\":\"y\"}},\"id\":\"c9a7044f-0a88-40ab-953b-71993cfecdb1\",\"type\":\"Line\"},{\"attributes\":{\"line_alpha\":0.1,\"line_color\":\"#1f77b4\",\"x\":{\"field\":\"x\"},\"y\":{\"field\":\"y\"}},\"id\":\"51eb191e-39d7-46bb-8d41-460641fc6f67\",\"type\":\"Line\"},{\"attributes\":{\"base\":60,\"mantissas\":[1,2,5,10,15,20,30],\"max_interval\":1800000.0,\"min_interval\":1000.0,\"num_minor_ticks\":0},\"id\":\"85812a8a-1304-4f3f-87a8-da6f88ac610f\",\"type\":\"AdaptiveTicker\"},{\"attributes\":{\"callback\":null,\"column_names\":[\"x\",\"y\"],\"data\":{\"x\":{\"__ndarray__\":\"AABAQqHJckIAAICUm9NyQgAAwOaV3XJCAADAB5nmckIAAABak/ByQgAAgEY7+nJCAADAmDUEc0IAAECF3Q1zQgAAgNfXF3NCAADAKdIhc0IAAEAWeitzQgAAgGh0NXNCAAAAVRw/c0IAAECnFklzQgAAgPkQU3NCAABAgGZcc0IAAIDSYGZzQgAAAL8IcHNCAABAEQN6c0IAAMD9qoNzQgAAAFCljXNCAABAop+Xc0IAAMCOR6FzQgAAAOFBq3NCAACAzem0c0IAAMAf5L5zQgAAAHLeyHNCAAAAk+HRc0IAAEDl29tzQgAAwNGD5XNCAAAAJH7vc0IAAIAQJvlzQgAAwGIgA3RCAAAAtRoNdEIAAIChwhZ0QgAAwPO8IHRCAABA4GQqdEIAAIAyXzR0QgAAwIRZPnRCAADApVxHdEIAAAD4VlF0QgAAgOT+WnRCAADANvlkdEIAAEAjoW50QgAAgHWbeHRCAADAx5WCdEIAAEC0PYx0QgAAgAY4lnRCAAAA89+fdEIAAEBF2ql0QgAAgJfUs3RCAACAuNe8dEIAAMAK0sZ0QgAAQPd50HRCAACASXTadEIAAAA2HOR0QgAAQIgW7nRCAACA2hD4dEIAAADHuAF1QgAAQBmzC3VCAADABVsVdUIAAABYVR91QgAAQKpPKXVCAAAAMaUydUIAAECDnzx1QgAAwG9HRnVCAAAAwkFQdUIAAICu6Vl1QgAAwADkY3VCAAAAU95tdUIAAIA/hnd1QgAAwJGAgXVCAABAfiiLdUIAAIDQIpV1QgAAwCIdn3VCAADAQyCodUIAAACWGrJ1QgAAgILCu3VCAADA1LzFdUIAAEDBZM91QgAAgBNf2XVCAADAZVnjdUIAAEBSAe11QgAAgKT79nVCAAAAkaMAdkIAAEDjnQp2QgAAgDWYFHZC\",\"dtype\":\"float64\",\"shape\":[87]},\"y\":{\"__ndarray__\":\"AAAAAABQjkAAAAAAAOSMQAAAAAAAKI5AAAAAAADojkAAAAAAAECPQAAAAAAAkJBAAAAAAADMkEAAAAAAAOCPQAAAAAAAaJBAAAAAAAAAkEAAAAAAAOCPQAAAAAAAaJBAAAAAAACYkUAAAAAAAKSRQAAAAAAApJFAAAAAAAAMkkAAAAAAACSSQAAAAAAAvJFAAAAAAACUkUAAAAAAAAiRQAAAAAAAzJBAAAAAAAAQkUAAAAAAABqRQAAAAAAABpFAAAAAAAAckUAAAAAAAP6QQAAAAAAAwJBAAAAAAADMkEAAAAAAAGiQQAAAAAAAuJBAAAAAAAD0kEAAAAAAADiRQAAAAAAA+JFAAAAAAACskkAAAAAAAFqSQAAAAAAAwJJAAAAAAACIk0AAAAAAAJaTQAAAAAAAopNAAAAAAACIk0AAAAAAAKyTQAAAAAAADJRAAAAAAADsk0AAAAAAACSUQAAAAAAAGJVAAAAAAADMlEAAAAAAAFCUQAAAAAAAJpRAAAAAAABQlEAAAAAAAPyTQAAAAAAAFJRAAAAAAABQlEAAAAAAAFCUQAAAAAAA8JRAAAAAAAC0lEAAAAAAABiVQAAAAAAAGJVAAAAAAAA2lUAAAAAAAHyVQAAAAAAAtJVAAAAAAADclUAAAAAAALSVQAAAAAAA9JVAAAAAAADglUAAAAAAAPaVQAAAAAAA4JVAAAAAAAAolkAAAAAAAESWQAAAAAAAlpVAAAAAAADMlUAAAAAAAJCVQAAAAAAAGJVAAAAAAABQlEAAAAAAADyUQAAAAAAA/JRAAAAAAAAYlUAAAAAAAHyVQAAAAAAAEJZAAAAAAADQlkAAAAAAANCWQAAAAAAAjJZAAAAAAADglUAAAAAAAKiVQAAAAAAAqJVAAAAAAADglUAAAAAAACSWQAAAAAAALJZA\",\"dtype\":\"float64\",\"shape\":[87]}}},\"id\":\"aaeecce5-5e40-4a08-bbf2-c3ce82771cc4\",\"type\":\"ColumnDataSource\"},{\"attributes\":{\"callback\":null,\"column_names\":[\"x\",\"y\"],\"data\":{\"x\":{\"__ndarray__\":\"AABAQqHJckIAAICUm9NyQgAAwOaV3XJCAADAB5nmckIAAABak/ByQgAAgEY7+nJCAADAmDUEc0IAAECF3Q1zQgAAgNfXF3NCAADAKdIhc0IAAEAWeitzQgAAgGh0NXNCAAAAVRw/c0IAAECnFklzQgAAgPkQU3NCAABAgGZcc0IAAIDSYGZzQgAAAL8IcHNCAABAEQN6c0IAAMD9qoNzQgAAAFCljXNCAABAop+Xc0IAAMCOR6FzQgAAAOFBq3NCAACAzem0c0IAAMAf5L5zQgAAAHLeyHNCAAAAk+HRc0IAAEDl29tzQgAAwNGD5XNCAAAAJH7vc0IAAIAQJvlzQgAAwGIgA3RCAAAAtRoNdEIAAIChwhZ0QgAAwPO8IHRCAABA4GQqdEIAAIAyXzR0QgAAwIRZPnRCAADApVxHdEIAAAD4VlF0QgAAgOT+WnRCAADANvlkdEIAAEAjoW50QgAAgHWbeHRCAADAx5WCdEIAAEC0PYx0QgAAgAY4lnRCAAAA89+fdEIAAEBF2ql0QgAAgJfUs3RCAACAuNe8dEIAAMAK0sZ0QgAAQPd50HRCAACASXTadEIAAAA2HOR0QgAAQIgW7nRCAACA2hD4dEIAAADHuAF1QgAAQBmzC3VCAADABVsVdUIAAABYVR91QgAAQKpPKXVCAAAAMaUydUIAAECDnzx1QgAAwG9HRnVCAAAAwkFQdUIAAICu6Vl1QgAAwADkY3VCAAAAU95tdUIAAIA/hnd1QgAAwJGAgXVCAABAfiiLdUIAAIDQIpV1QgAAwCIdn3VCAADAQyCodUIAAACWGrJ1QgAAgILCu3VCAADA1LzFdUIAAEDBZM91QgAAgBNf2XVCAADAZVnjdUIAAEBSAe11QgAAgKT79nVCAAAAkaMAdkIAAEDjnQp2QgAAgDWYFHZC\",\"dtype\":\"float64\",\"shape\":[87]},\"y\":{\"__ndarray__\":\"AAAAAACIk0AAAAAAALqTQAAAAAAAiJNAAAAAAABQlEAAAAAAAFCUQAAAAAAAzJVAAAAAAABElkAAAAAAAESWQAAAAAAAcpVAAAAAAABQlEAAAAAAADyUQAAAAAAAFJRAAAAAAABQlEAAAAAAABiVQAAAAAAAzJVAAAAAAADMlUAAAAAAAKiWQAAAAAAA4JVAAAAAAADAlUAAAAAAAMyVQAAAAAAAzJVAAAAAAAAYlUAAAAAAAAyVQAAAAAAABJVAAAAAAADolEAAAAAAABiVQAAAAAAA8JRAAAAAAAAslUAAAAAAAPiUQAAAAAAASJVAAAAAAAAYlUAAAAAAAIqVQAAAAAAA3JVAAAAAAAD4lkAAAAAAAHCXQAAAAAAAcJdAAAAAAADCmEAAAAAAADiYQAAAAAAATJhAAAAAAADUl0AAAAAAANiXQAAAAAAAJJhAAAAAAADWmEAAAAAAAIiYQAAAAAAA6JhAAAAAAAAAmUAAAAAAAMSYQAAAAAAAeJlAAAAAAAAAmUAAAAAAAJyYQAAAAAAAnJhAAAAAAAAAmUAAAAAAAOyYQAAAAAAABJpAAAAAAABYm0AAAAAAAFibQAAAAAAAmJpAAAAAAACQmkAAAAAAAHyaQAAAAAAAPJtAAAAAAAAgnEAAAAAAABycQAAAAAAAvJtAAAAAAABYm0AAAAAAACicQAAAAAAA+JtAAAAAAADAm0AAAAAAAKCaQAAAAAAALJtAAAAAAAC8m0AAAAAAAASaQAAAAAAAyJlAAAAAAADImUAAAAAAAACZQAAAAAAAkJpAAAAAAACKm0AAAAAAAAycQAAAAAAAIJxAAAAAAAAgnEAAAAAAAAycQAAAAAAAHJxAAAAAAAAKnEAAAAAAAASbQAAAAAAARJtAAAAAAABYm0AAAAAAACCcQAAAAAAAvJtA\",\"dtype\":\"float64\",\"shape\":[87]}}},\"id\":\"3ec0ff35-7403-4da6-9820-d3d10a7f4f7b\",\"type\":\"ColumnDataSource\"},{\"attributes\":{\"label\":{\"value\":\"Condo/Co\"},\"renderers\":[{\"id\":\"59b76018-2881-41e9-92b3-415fe3ed6be1\",\"type\":\"GlyphRenderer\"}]},\"id\":\"fcaf3f10-b717-441e-aba4-d13f2e5ceeec\",\"type\":\"LegendItem\"},{\"attributes\":{\"line_alpha\":0.1,\"line_color\":\"#1f77b4\",\"x\":{\"field\":\"x\"},\"y\":{\"field\":\"y\"}},\"id\":\"d086f8eb-c91e-4636-a5df-aa4748ac0f76\",\"type\":\"Line\"},{\"attributes\":{\"bottom_units\":\"screen\",\"fill_alpha\":{\"value\":0.5},\"fill_color\":{\"value\":\"lightgrey\"},\"left_units\":\"screen\",\"level\":\"overlay\",\"line_alpha\":{\"value\":1.0},\"line_color\":{\"value\":\"black\"},\"line_dash\":[4,4],\"line_width\":{\"value\":2},\"plot\":null,\"render_mode\":\"css\",\"right_units\":\"screen\",\"top_units\":\"screen\"},\"id\":\"8b4dde1f-cd86-46c2-a5f6-d99122bddb4c\",\"type\":\"BoxAnnotation\"},{\"attributes\":{\"days\":[1,2,3,4,5,6,7,8,9,10,11,12,13,14,15,16,17,18,19,20,21,22,23,24,25,26,27,28,29,30,31]},\"id\":\"af55512f-3c61-4f4f-b5fa-d880a259a219\",\"type\":\"DaysTicker\"},{\"attributes\":{\"days\":[1,15]},\"id\":\"fcf703e5-2ec5-40da-947e-460489742904\",\"type\":\"DaysTicker\"},{\"attributes\":{\"data_source\":{\"id\":\"c91f3d20-6891-4973-98b2-21acef511ba7\",\"type\":\"ColumnDataSource\"},\"glyph\":{\"id\":\"a11c7a7f-b0ae-4eea-bb21-6ef1b685d360\",\"type\":\"Line\"},\"hover_glyph\":null,\"muted_glyph\":null,\"nonselection_glyph\":{\"id\":\"51eb191e-39d7-46bb-8d41-460641fc6f67\",\"type\":\"Line\"},\"selection_glyph\":null,\"view\":{\"id\":\"5984a1a4-f803-43df-a5a2-11e30ec31c01\",\"type\":\"CDSView\"}},\"id\":\"59b76018-2881-41e9-92b3-415fe3ed6be1\",\"type\":\"GlyphRenderer\"},{\"attributes\":{},\"id\":\"142c2a59-7b2e-43aa-864f-976c875958c1\",\"type\":\"BasicTicker\"},{\"attributes\":{\"months\":[0,6]},\"id\":\"b6c84a06-544c-4b9e-9d96-74fbfcbb5cc9\",\"type\":\"MonthsTicker\"},{\"attributes\":{\"line_alpha\":0.1,\"line_color\":\"#1f77b4\",\"x\":{\"field\":\"x\"},\"y\":{\"field\":\"y\"}},\"id\":\"0b7ace12-7c65-4ae8-afd8-ac660be7e14d\",\"type\":\"Line\"},{\"attributes\":{\"data_source\":{\"id\":\"aaeecce5-5e40-4a08-bbf2-c3ce82771cc4\",\"type\":\"ColumnDataSource\"},\"glyph\":{\"id\":\"78f40836-fd31-478b-8bb2-d92f2e4e5a62\",\"type\":\"Line\"},\"hover_glyph\":null,\"muted_glyph\":null,\"nonselection_glyph\":{\"id\":\"8502ec7f-b078-4955-a7ec-5e61c2e2abf7\",\"type\":\"Line\"},\"selection_glyph\":null,\"view\":{\"id\":\"04323858-f557-4799-84bc-a6ec3b92f421\",\"type\":\"CDSView\"}},\"id\":\"0bc09237-b1fc-4af3-930c-b156e9ed450f\",\"type\":\"GlyphRenderer\"},{\"attributes\":{\"source\":{\"id\":\"948b4ce3-684b-4b03-8494-954f4afd8042\",\"type\":\"ColumnDataSource\"}},\"id\":\"3d9a376a-b109-4dab-bb14-c0de391a458a\",\"type\":\"CDSView\"},{\"attributes\":{\"label\":{\"value\":\"Studio\"},\"renderers\":[{\"id\":\"7feb52d4-43ae-4141-819e-eda2c43af5ac\",\"type\":\"GlyphRenderer\"}]},\"id\":\"9f3eba66-c684-4c14-99da-ba2dc6f8d55f\",\"type\":\"LegendItem\"},{\"attributes\":{},\"id\":\"4772d28b-4b7c-4598-95f7-121636df54a2\",\"type\":\"LinearScale\"},{\"attributes\":{\"label\":{\"value\":\"One Bedroom\"},\"renderers\":[{\"id\":\"3dc885af-573b-476b-869f-d25bb0d77792\",\"type\":\"GlyphRenderer\"}]},\"id\":\"84cf857a-d94b-4123-8e2d-58547d96620d\",\"type\":\"LegendItem\"},{\"attributes\":{\"callback\":null,\"end\":4050.0,\"start\":682.5},\"id\":\"5d8675f1-7776-4f23-9fb2-4434b4ec6b56\",\"type\":\"Range1d\"},{\"attributes\":{\"callback\":null,\"column_names\":[\"x\",\"y\"],\"data\":{\"x\":{\"__ndarray__\":\"AABAQqHJckIAAICUm9NyQgAAwOaV3XJCAADAB5nmckIAAABak/ByQgAAgEY7+nJCAADAmDUEc0IAAECF3Q1zQgAAgNfXF3NCAADAKdIhc0IAAEAWeitzQgAAgGh0NXNCAAAAVRw/c0IAAECnFklzQgAAgPkQU3NCAABAgGZcc0IAAIDSYGZzQgAAAL8IcHNCAABAEQN6c0IAAMD9qoNzQgAAAFCljXNCAABAop+Xc0IAAMCOR6FzQgAAAOFBq3NCAACAzem0c0IAAMAf5L5zQgAAAHLeyHNCAAAAk+HRc0IAAEDl29tzQgAAwNGD5XNCAAAAJH7vc0IAAIAQJvlzQgAAwGIgA3RCAAAAtRoNdEIAAIChwhZ0QgAAwPO8IHRCAABA4GQqdEIAAIAyXzR0QgAAwIRZPnRCAADApVxHdEIAAAD4VlF0QgAAgOT+WnRCAADANvlkdEIAAEAjoW50QgAAgHWbeHRCAADAx5WCdEIAAEC0PYx0QgAAgAY4lnRCAAAA89+fdEIAAEBF2ql0QgAAgJfUs3RCAACAuNe8dEIAAMAK0sZ0QgAAQPd50HRCAACASXTadEIAAAA2HOR0QgAAQIgW7nRCAACA2hD4dEIAAADHuAF1QgAAQBmzC3VCAADABVsVdUIAAABYVR91QgAAQKpPKXVCAAAAMaUydUIAAECDnzx1QgAAwG9HRnVCAAAAwkFQdUIAAICu6Vl1QgAAwADkY3VCAAAAU95tdUIAAIA/hnd1QgAAwJGAgXVCAABAfiiLdUIAAIDQIpV1QgAAwCIdn3VCAADAQyCodUIAAACWGrJ1QgAAgILCu3VCAADA1LzFdUIAAEDBZM91QgAAgBNf2XVCAADAZVnjdUIAAEBSAe11QgAAgKT79nVCAAAAkaMAdkIAAEDjnQp2QgAAgDWYFHZC\",\"dtype\":\"float64\",\"shape\":[87]},\"y\":{\"__ndarray__\":\"AAAAAAAqkEAAAAAAAGiPQAAAAAAAKItAAAAAAADojEAAAAAAACCMQAAAAAAA+ItAAAAAAACwjUAAAAAAAPiLQAAAAAAA4IpAAAAAAADwiUAAAAAAAFSKQAAAAAAALItAAAAAAADAjEAAAAAAAPiLQAAAAAAATIxAAAAAAAAQjUAAAAAAAGCNQAAAAAAA6IxAAAAAAACAjUAAAAAAAOiMQAAAAAAA+ItAAAAAAAAIi0AAAAAAAOiMQAAAAAAAmIxAAAAAAABkjEAAAAAAAKCLQAAAAAAA4IpAAAAAAACAi0AAAAAAANiKQAAAAAAAWItAAAAAAABQi0AAAAAAAGCLQAAAAAAA+ItAAAAAAAAgjEAAAAAAANCMQAAAAAAApI1AAAAAAAAYj0AAAAAAACiPQAAAAAAAOI9AAAAAAAB4jkAAAAAAAGiQQAAAAAAAQJFAAAAAAACQj0AAAAAAAECPQAAAAAAALJBAAAAAAAAckEAAAAAAAEKQQAAAAAAAMJBAAAAAAADMkEAAAAAAAJCPQAAAAAAAkI9AAAAAAABQkEAAAAAAAOyPQAAAAAAApJBAAAAAAADgj0AAAAAAAOiPQAAAAAAAVJBAAAAAAACokEAAAAAAAPSQQAAAAAAABJFAAAAAAADckEAAAAAAAAiRQAAAAAAACJFAAAAAAAAMkUAAAAAAAFSRQAAAAAAAMJFAAAAAAADckEAAAAAAACiRQAAAAAAAqJBAAAAAAADckEAAAAAAAPCQQAAAAAAAQJBAAAAAAADgj0AAAAAAAPyOQAAAAAAAuJBAAAAAAAAwkUAAAAAAADCRQAAAAAAApJFAAAAAAAAYkkAAAAAAAJSRQAAAAAAAdpFAAAAAAABskUAAAAAAADqRQAAAAAAAHJFAAAAAAAAwkUAAAAAAANCRQAAAAAAA9JFA\",\"dtype\":\"float64\",\"shape\":[87]}}},\"id\":\"948b4ce3-684b-4b03-8494-954f4afd8042\",\"type\":\"ColumnDataSource\"},{\"attributes\":{\"source\":{\"id\":\"8d9dcadb-823c-4c75-91cb-b3e8c94f6d57\",\"type\":\"ColumnDataSource\"}},\"id\":\"893a3b89-dfd0-4050-9c86-17566bb23a72\",\"type\":\"CDSView\"},{\"attributes\":{\"line_color\":\"#1f77b4\",\"x\":{\"field\":\"x\"},\"y\":{\"field\":\"y\"}},\"id\":\"551ffae6-f746-4e20-94ae-002b1400d08d\",\"type\":\"Line\"},{\"attributes\":{\"label\":{\"value\":\"Duplex/Triplex\"},\"renderers\":[{\"id\":\"d85ac5ac-0c97-4c3f-a4b7-f9c6fda309d1\",\"type\":\"GlyphRenderer\"}]},\"id\":\"f7b0f1c3-e462-4f2d-b3c2-842672dd16f1\",\"type\":\"LegendItem\"},{\"attributes\":{\"callback\":null,\"column_names\":[\"x\",\"y\"],\"data\":{\"x\":{\"__ndarray__\":\"AABAQqHJckIAAICUm9NyQgAAwOaV3XJCAADAB5nmckIAAABak/ByQgAAgEY7+nJCAADAmDUEc0IAAECF3Q1zQgAAgNfXF3NCAADAKdIhc0IAAEAWeitzQgAAgGh0NXNCAAAAVRw/c0IAAECnFklzQgAAgPkQU3NCAABAgGZcc0IAAIDSYGZzQgAAAL8IcHNCAABAEQN6c0IAAMD9qoNzQgAAAFCljXNCAABAop+Xc0IAAMCOR6FzQgAAAOFBq3NCAACAzem0c0IAAMAf5L5zQgAAAHLeyHNCAAAAk+HRc0IAAEDl29tzQgAAwNGD5XNCAAAAJH7vc0IAAIAQJvlzQgAAwGIgA3RCAAAAtRoNdEIAAIChwhZ0QgAAwPO8IHRCAABA4GQqdEIAAIAyXzR0QgAAwIRZPnRCAADApVxHdEIAAAD4VlF0QgAAgOT+WnRCAADANvlkdEIAAEAjoW50QgAAgHWbeHRCAADAx5WCdEIAAEC0PYx0QgAAgAY4lnRCAAAA89+fdEIAAEBF2ql0QgAAgJfUs3RCAACAuNe8dEIAAMAK0sZ0QgAAQPd50HRCAACASXTadEIAAAA2HOR0QgAAQIgW7nRCAACA2hD4dEIAAADHuAF1QgAAQBmzC3VCAADABVsVdUIAAABYVR91QgAAQKpPKXVCAAAAMaUydUIAAECDnzx1QgAAwG9HRnVCAAAAwkFQdUIAAICu6Vl1QgAAwADkY3VCAAAAU95tdUIAAIA/hnd1QgAAwJGAgXVCAABAfiiLdUIAAIDQIpV1QgAAwCIdn3VCAADAQyCodUIAAACWGrJ1QgAAgILCu3VCAADA1LzFdUIAAEDBZM91QgAAgBNf2XVCAADAZVnjdUIAAEBSAe11QgAAgKT79nVCAAAAkaMAdkIAAEDjnQp2QgAAgDWYFHZC\",\"dtype\":\"float64\",\"shape\":[87]},\"y\":{\"__ndarray__\":\"AAAAAAAA+H8AAAAAAAD4fwAAAAAAAPh/AAAAAAAA+H8AAAAAAAD4fwAAAAAAAPh/AAAAAAAA+H8AAAAAAAD4fwAAAAAAAPh/AAAAAAAA+H8AAAAAAAD4fwAAAAAAAPh/AAAAAAAA+H8AAAAAAAD4fwAAAAAAAPh/AAAAAAAA+H8AAAAAAAD4fwAAAAAAAPh/AAAAAAAA+H8AAAAAAAD4fwAAAAAAAPh/AAAAAAAA+H8AAAAAAAD4fwAAAAAAAPh/AAAAAAAA+H8AAAAAAAD4fwAAAAAAAPh/AAAAAADMkEAAAAAAAPCOQAAAAAAAQJBAAAAAAAAIkUAAAAAAAHyTQAAAAAAAiJFAAAAAAACEkkAAAAAAAIiTQAAAAAAAtJRAAAAAAAAYlUAAAAAAADyUQAAAAAAAPJRAAAAAAABQlEAAAAAAAHyVQAAAAAAA4JVAAAAAAAB8lUAAAAAAAMyVQAAAAAAA8JVAAAAAAADglUAAAAAAAMyVQAAAAAAAwJVAAAAAAADglEAAAAAAALSUQAAAAAAAGJVAAAAAAAAYlUAAAAAAABiVQAAAAAAA4JVAAAAAAABElkAAAAAAAHCXQAAAAAAAcJdAAAAAAABwl0AAAAAAAHCXQAAAAAAA1JdAAAAAAADWl0AAAAAAAFyXQAAAAAAAcJdAAAAAAABwl0AAAAAAAFyXQAAAAAAAzJVAAAAAAAAYlUAAAAAAAOCVQAAAAAAARJZAAAAAAADglUAAAAAAABiVQAAAAAAAUJRAAAAAAADIlEAAAAAAAMiUQAAAAAAAcJdAAAAAAAA4mEAAAAAAAOyYQAAAAAAAZJlAAAAAAADImUAAAAAAACyaQAAAAAAALJpAAAAAAADImUAAAAAAACiZQAAAAAAAAJlAAAAAAAD8mEAAAAAAAOyYQAAAAAAA7JhA\",\"dtype\":\"float64\",\"shape\":[87]}}},\"id\":\"a4c078d8-d00b-409a-9ad4-a20030e823d0\",\"type\":\"ColumnDataSource\"},{\"attributes\":{\"line_color\":\"#bcbd22\",\"x\":{\"field\":\"x\"},\"y\":{\"field\":\"y\"}},\"id\":\"c235c4ae-d02d-4ecc-9b53-423352656776\",\"type\":\"Line\"},{\"attributes\":{\"plot\":null,\"text\":\"Median Rental Price - Austin, TX\"},\"id\":\"72351d4e-0a79-495c-a302-af582b637191\",\"type\":\"Title\"},{\"attributes\":{\"num_minor_ticks\":5,\"tickers\":[{\"id\":\"7f17553d-4072-40c0-9925-9e4f6a7ebe8f\",\"type\":\"AdaptiveTicker\"},{\"id\":\"85812a8a-1304-4f3f-87a8-da6f88ac610f\",\"type\":\"AdaptiveTicker\"},{\"id\":\"202f5cb0-4c20-44d3-a5ea-d529226eae22\",\"type\":\"AdaptiveTicker\"},{\"id\":\"af55512f-3c61-4f4f-b5fa-d880a259a219\",\"type\":\"DaysTicker\"},{\"id\":\"6783ceca-f0bf-4edf-b5c4-3510bc9e88f1\",\"type\":\"DaysTicker\"},{\"id\":\"8f658d8d-f6b9-49ea-b7c2-ac062fabd23f\",\"type\":\"DaysTicker\"},{\"id\":\"fcf703e5-2ec5-40da-947e-460489742904\",\"type\":\"DaysTicker\"},{\"id\":\"7556c690-7ae3-48eb-ab9b-538bfefc382e\",\"type\":\"MonthsTicker\"},{\"id\":\"fa345f82-7528-4556-9586-83a08fc921e5\",\"type\":\"MonthsTicker\"},{\"id\":\"2512ef5d-3919-4cfc-b213-151126d1bcd1\",\"type\":\"MonthsTicker\"},{\"id\":\"b6c84a06-544c-4b9e-9d96-74fbfcbb5cc9\",\"type\":\"MonthsTicker\"},{\"id\":\"f8e1f41b-3c9c-44ed-9dfc-cf03947fa5de\",\"type\":\"YearsTicker\"}]},\"id\":\"80bba30c-5f12-4aab-a0fd-6bbc09d00329\",\"type\":\"DatetimeTicker\"},{\"attributes\":{\"dimension\":1,\"plot\":{\"id\":\"5cc87a23-0314-4ff0-aea4-e1989502e7e4\",\"subtype\":\"Figure\",\"type\":\"Plot\"},\"ticker\":{\"id\":\"142c2a59-7b2e-43aa-864f-976c875958c1\",\"type\":\"BasicTicker\"}},\"id\":\"1c71738a-f89d-474e-8f55-eb78c036fb3b\",\"type\":\"Grid\"},{\"attributes\":{},\"id\":\"02ca354a-c997-4aa3-897d-1c580ed3a677\",\"type\":\"PanTool\"},{\"attributes\":{},\"id\":\"7d04bce0-a155-431e-b145-90915a4750bb\",\"type\":\"DatetimeTickFormatter\"},{\"attributes\":{\"line_alpha\":0.1,\"line_color\":\"#1f77b4\",\"x\":{\"field\":\"x\"},\"y\":{\"field\":\"y\"}},\"id\":\"8502ec7f-b078-4955-a7ec-5e61c2e2abf7\",\"type\":\"Line\"},{\"attributes\":{\"line_color\":\"#2ca02c\",\"x\":{\"field\":\"x\"},\"y\":{\"field\":\"y\"}},\"id\":\"aaf83fb2-c24f-4ab1-9af8-d15dd29fbd4e\",\"type\":\"Line\"},{\"attributes\":{\"source\":{\"id\":\"c91f3d20-6891-4973-98b2-21acef511ba7\",\"type\":\"ColumnDataSource\"}},\"id\":\"5984a1a4-f803-43df-a5a2-11e30ec31c01\",\"type\":\"CDSView\"},{\"attributes\":{\"source\":{\"id\":\"aaeecce5-5e40-4a08-bbf2-c3ce82771cc4\",\"type\":\"ColumnDataSource\"}},\"id\":\"04323858-f557-4799-84bc-a6ec3b92f421\",\"type\":\"CDSView\"},{\"attributes\":{\"base\":24,\"mantissas\":[1,2,4,6,8,12],\"max_interval\":43200000.0,\"min_interval\":3600000.0,\"num_minor_ticks\":0},\"id\":\"202f5cb0-4c20-44d3-a5ea-d529226eae22\",\"type\":\"AdaptiveTicker\"},{\"attributes\":{\"callback\":null,\"column_names\":[\"x\",\"y\"],\"data\":{\"x\":{\"__ndarray__\":\"AABAQqHJckIAAICUm9NyQgAAwOaV3XJCAADAB5nmckIAAABak/ByQgAAgEY7+nJCAADAmDUEc0IAAECF3Q1zQgAAgNfXF3NCAADAKdIhc0IAAEAWeitzQgAAgGh0NXNCAAAAVRw/c0IAAECnFklzQgAAgPkQU3NCAABAgGZcc0IAAIDSYGZzQgAAAL8IcHNCAABAEQN6c0IAAMD9qoNzQgAAAFCljXNCAABAop+Xc0IAAMCOR6FzQgAAAOFBq3NCAACAzem0c0IAAMAf5L5zQgAAAHLeyHNCAAAAk+HRc0IAAEDl29tzQgAAwNGD5XNCAAAAJH7vc0IAAIAQJvlzQgAAwGIgA3RCAAAAtRoNdEIAAIChwhZ0QgAAwPO8IHRCAABA4GQqdEIAAIAyXzR0QgAAwIRZPnRCAADApVxHdEIAAAD4VlF0QgAAgOT+WnRCAADANvlkdEIAAEAjoW50QgAAgHWbeHRCAADAx5WCdEIAAEC0PYx0QgAAgAY4lnRCAAAA89+fdEIAAEBF2ql0QgAAgJfUs3RCAACAuNe8dEIAAMAK0sZ0QgAAQPd50HRCAACASXTadEIAAAA2HOR0QgAAQIgW7nRCAACA2hD4dEIAAADHuAF1QgAAQBmzC3VCAADABVsVdUIAAABYVR91QgAAQKpPKXVCAAAAMaUydUIAAECDnzx1QgAAwG9HRnVCAAAAwkFQdUIAAICu6Vl1QgAAwADkY3VCAAAAU95tdUIAAIA/hnd1QgAAwJGAgXVCAABAfiiLdUIAAIDQIpV1QgAAwCIdn3VCAADAQyCodUIAAACWGrJ1QgAAgILCu3VCAADA1LzFdUIAAEDBZM91QgAAgBNf2XVCAADAZVnjdUIAAEBSAe11QgAAgKT79nVCAAAAkaMAdkIAAEDjnQp2QgAAgDWYFHZC\",\"dtype\":\"float64\",\"shape\":[87]},\"y\":{\"__ndarray__\":\"AAAAAAD0ikAAAAAAABiKQAAAAAAAkIpAAAAAAACQikAAAAAAACSLQAAAAAAAlItAAAAAAAAgjEAAAAAAAPiLQAAAAAAAWItAAAAAAAB4iUAAAAAAAIiKQAAAAAAAeIlAAAAAAACwjUAAAAAAAEyNQAAAAAAAHJFAAAAAAADYkkAAAAAAADiUQAAAAAAAiJNAAAAAAAAkk0AAAAAAAByRQAAAAAAABJBAAAAAAADIj0AAAAAAAEqQQAAAAAAABJBAAAAAAACMkEAAAAAAAGiQQAAAAAAAHJFAAAAAAABAj0AAAAAAALCNQAAAAAAAnI5AAAAAAABokEAAAAAAAHyQQAAAAAAAwJBAAAAAAABokEAAAAAAAC6QQAAAAAAADJBAAAAAAAC4kEAAAAAAAPyPQAAAAAAAOpBAAAAAAAAwkUAAAAAAADiSQAAAAAAAaJJAAAAAAADAkkAAAAAAADCRQAAAAAAArJJAAAAAAADAkkAAAAAAAMCSQAAAAAAAJJNAAAAAAAD4kUAAAAAAAAySQAAAAAAAwJJAAAAAAAA4k0AAAAAAAEKTQAAAAAAATJRAAAAAAACIk0AAAAAAADKUQAAAAAAAiJNAAAAAAAD4k0AAAAAAABiVQAAAAAAAzJVAAAAAAADMlUAAAAAAABiVQAAAAAAAzJVAAAAAAAAAlUAAAAAAACyVQAAAAAAAGJVAAAAAAAAYlUAAAAAAAFCUQAAAAAAAPJRAAAAAAAA8lEAAAAAAAFCUQAAAAAAAPJRAAAAAAACIk0AAAAAAANiTQAAAAAAAPJRAAAAAAAA8lEAAAAAAAFCUQAAAAAAAGJVAAAAAAAAYlUAAAAAAAFCUQAAAAAAAGJVAAAAAAABQlEAAAAAAAFCUQAAAAAAA/pRAAAAAAAC0lEAAAAAAAOCVQAAAAAAA4JVA\",\"dtype\":\"float64\",\"shape\":[87]}}},\"id\":\"86f822f4-e1d3-4e5e-a9d3-2dce20598a30\",\"type\":\"ColumnDataSource\"},{\"attributes\":{\"data_source\":{\"id\":\"c5c3019d-8a45-4ddb-b1f7-e4d100122dd2\",\"type\":\"ColumnDataSource\"},\"glyph\":{\"id\":\"bf1d0ce4-3851-4928-b5a7-9f19282ec7a7\",\"type\":\"Line\"},\"hover_glyph\":null,\"muted_glyph\":null,\"nonselection_glyph\":{\"id\":\"48612e99-cc31-4250-a316-eb5821aa27cd\",\"type\":\"Line\"},\"selection_glyph\":null,\"view\":{\"id\":\"189030ee-4569-40f6-9732-285f2f9bb800\",\"type\":\"CDSView\"}},\"id\":\"02ab0398-e2db-469e-b22d-7801527805a1\",\"type\":\"GlyphRenderer\"},{\"attributes\":{\"label\":{\"value\":\"Two Bedrooms\"},\"renderers\":[{\"id\":\"0bc09237-b1fc-4af3-930c-b156e9ed450f\",\"type\":\"GlyphRenderer\"}]},\"id\":\"f5c33e31-2d71-4fd0-8b36-2d0c2e48ffc5\",\"type\":\"LegendItem\"},{\"attributes\":{\"months\":[0,4,8]},\"id\":\"2512ef5d-3919-4cfc-b213-151126d1bcd1\",\"type\":\"MonthsTicker\"},{\"attributes\":{\"label\":{\"value\":\"All Homes\"},\"renderers\":[{\"id\":\"18e16141-9e67-414b-8b93-6e7590f22cbc\",\"type\":\"GlyphRenderer\"}]},\"id\":\"1b5b12bf-afd8-4d41-9f88-8c8ab181f909\",\"type\":\"LegendItem\"},{\"attributes\":{\"callback\":null,\"column_names\":[\"x\",\"y\"],\"data\":{\"x\":{\"__ndarray__\":\"AABAQqHJckIAAICUm9NyQgAAwOaV3XJCAADAB5nmckIAAABak/ByQgAAgEY7+nJCAADAmDUEc0IAAECF3Q1zQgAAgNfXF3NCAADAKdIhc0IAAEAWeitzQgAAgGh0NXNCAAAAVRw/c0IAAECnFklzQgAAgPkQU3NCAABAgGZcc0IAAIDSYGZzQgAAAL8IcHNCAABAEQN6c0IAAMD9qoNzQgAAAFCljXNCAABAop+Xc0IAAMCOR6FzQgAAAOFBq3NCAACAzem0c0IAAMAf5L5zQgAAAHLeyHNCAAAAk+HRc0IAAEDl29tzQgAAwNGD5XNCAAAAJH7vc0IAAIAQJvlzQgAAwGIgA3RCAAAAtRoNdEIAAIChwhZ0QgAAwPO8IHRCAABA4GQqdEIAAIAyXzR0QgAAwIRZPnRCAADApVxHdEIAAAD4VlF0QgAAgOT+WnRCAADANvlkdEIAAEAjoW50QgAAgHWbeHRCAADAx5WCdEIAAEC0PYx0QgAAgAY4lnRCAAAA89+fdEIAAEBF2ql0QgAAgJfUs3RCAACAuNe8dEIAAMAK0sZ0QgAAQPd50HRCAACASXTadEIAAAA2HOR0QgAAQIgW7nRCAACA2hD4dEIAAADHuAF1QgAAQBmzC3VCAADABVsVdUIAAABYVR91QgAAQKpPKXVCAAAAMaUydUIAAECDnzx1QgAAwG9HRnVCAAAAwkFQdUIAAICu6Vl1QgAAwADkY3VCAAAAU95tdUIAAIA/hnd1QgAAwJGAgXVCAABAfiiLdUIAAIDQIpV1QgAAwCIdn3VCAADAQyCodUIAAACWGrJ1QgAAgILCu3VCAADA1LzFdUIAAEDBZM91QgAAgBNf2XVCAADAZVnjdUIAAEBSAe11QgAAgKT79nVCAAAAkaMAdkIAAEDjnQp2QgAAgDWYFHZC\",\"dtype\":\"float64\",\"shape\":[87]},\"y\":{\"__ndarray__\":\"AAAAAAAMnEAAAAAAAECfQAAAAAAAsJ1AAAAAAADonEAAAAAAAHieQAAAAAAAQJ9AAAAAAAB4nkAAAAAAAFibQAAAAAAAIJxAAAAAAACUm0AAAAAAAOicQAAAAAAAGp1AAAAAAAAgnEAAAAAAAAycQAAAAAAAIJxAAAAAAADonEAAAAAAAGigQAAAAAAAeJ5AAAAAAAB4nkAAAAAAADafQAAAAAAA6JxAAAAAAAA+nEAAAAAAALCdQAAAAAAAhJxAAAAAAAAgnEAAAAAAACCcQAAAAAAAfJpAAAAAAAA4nUAAAAAAABibQAAAAAAAkJpAAAAAAABQm0AAAAAAAMieQAAAAAAApp1AAAAAAADMnEAAAAAAACyfQAAAAAAALJ9AAAAAAACaoEAAAAAAAEKgQAAAAAAAQJ9AAAAAAABeoEAAAAAAAP6fQAAAAAAAY6BAAAAAAAAmoUAAAAAAACuhQAAAAAAAlKFAAAAAAACUoUAAAAAAAPihQAAAAAAAC6NAAAAAAACiokAAAAAAADChQAAAAAAAXqBAAAAAAABAn0AAAAAAADChQAAAAAAAwKJAAAAAAACIo0AAAAAAAMCiQAAAAAAAJKNAAAAAAACDo0AAAAAAAPikQAAAAAAAE6VAAAAAAAAOpUAAAAAAAA6lQAAAAAAAGKVAAAAAAABGpEAAAAAAAEekQAAAAAAARqRAAAAAAACIo0AAAAAAAGijQAAAAAAAuqNAAAAAAADEokAAAAAAALuiQAAAAAAASqFAAAAAAACPoUAAAAAAAMahQAAAAAAAeaJAAAAAAABioUAAAAAAAH6jQAAAAAAAfqNAAAAAAADso0AAAAAAAH6jQAAAAAAA+KFAAAAAAAAwoUAAAAAAAPihQAAAAAAAtqJAAAAAAADuoUAAAAAAAPihQAAAAAAAtqFA\",\"dtype\":\"float64\",\"shape\":[87]}}},\"id\":\"c29510e6-94b9-4695-9519-81a163394d2b\",\"type\":\"ColumnDataSource\"},{\"attributes\":{\"plot\":{\"id\":\"5cc87a23-0314-4ff0-aea4-e1989502e7e4\",\"subtype\":\"Figure\",\"type\":\"Plot\"},\"ticker\":{\"id\":\"80bba30c-5f12-4aab-a0fd-6bbc09d00329\",\"type\":\"DatetimeTicker\"}},\"id\":\"9398f100-12c6-4fb0-822f-9a27abb84788\",\"type\":\"Grid\"},{\"attributes\":{\"line_color\":\"#8c564b\",\"x\":{\"field\":\"x\"},\"y\":{\"field\":\"y\"}},\"id\":\"a11c7a7f-b0ae-4eea-bb21-6ef1b685d360\",\"type\":\"Line\"},{\"attributes\":{\"data_source\":{\"id\":\"948b4ce3-684b-4b03-8494-954f4afd8042\",\"type\":\"ColumnDataSource\"},\"glyph\":{\"id\":\"551ffae6-f746-4e20-94ae-002b1400d08d\",\"type\":\"Line\"},\"hover_glyph\":null,\"muted_glyph\":null,\"nonselection_glyph\":{\"id\":\"d84646f1-fa4d-4543-a2bd-b265f19b662c\",\"type\":\"Line\"},\"selection_glyph\":null,\"view\":{\"id\":\"3d9a376a-b109-4dab-bb14-c0de391a458a\",\"type\":\"CDSView\"}},\"id\":\"3dc885af-573b-476b-869f-d25bb0d77792\",\"type\":\"GlyphRenderer\"},{\"attributes\":{\"line_alpha\":0.1,\"line_color\":\"#1f77b4\",\"x\":{\"field\":\"x\"},\"y\":{\"field\":\"y\"}},\"id\":\"e3ab6a04-175a-47fd-963d-85d98d0bb816\",\"type\":\"Line\"},{\"attributes\":{\"line_alpha\":0.1,\"line_color\":\"#1f77b4\",\"x\":{\"field\":\"x\"},\"y\":{\"field\":\"y\"}},\"id\":\"e6a2fa98-c11b-485b-8ff3-e74cf5becbba\",\"type\":\"Line\"},{\"attributes\":{\"callback\":null},\"id\":\"21b5dce4-3fb2-4d7d-8492-e1abbe86bb37\",\"type\":\"DataRange1d\"},{\"attributes\":{\"callback\":null,\"column_names\":[\"x\",\"y\"],\"data\":{\"x\":{\"__ndarray__\":\"AABAQqHJckIAAICUm9NyQgAAwOaV3XJCAADAB5nmckIAAABak/ByQgAAgEY7+nJCAADAmDUEc0IAAECF3Q1zQgAAgNfXF3NCAADAKdIhc0IAAEAWeitzQgAAgGh0NXNCAAAAVRw/c0IAAECnFklzQgAAgPkQU3NCAABAgGZcc0IAAIDSYGZzQgAAAL8IcHNCAABAEQN6c0IAAMD9qoNzQgAAAFCljXNCAABAop+Xc0IAAMCOR6FzQgAAAOFBq3NCAACAzem0c0IAAMAf5L5zQgAAAHLeyHNCAAAAk+HRc0IAAEDl29tzQgAAwNGD5XNCAAAAJH7vc0IAAIAQJvlzQgAAwGIgA3RCAAAAtRoNdEIAAIChwhZ0QgAAwPO8IHRCAABA4GQqdEIAAIAyXzR0QgAAwIRZPnRCAADApVxHdEIAAAD4VlF0QgAAgOT+WnRCAADANvlkdEIAAEAjoW50QgAAgHWbeHRCAADAx5WCdEIAAEC0PYx0QgAAgAY4lnRCAAAA89+fdEIAAEBF2ql0QgAAgJfUs3RCAACAuNe8dEIAAMAK0sZ0QgAAQPd50HRCAACASXTadEIAAAA2HOR0QgAAQIgW7nRCAACA2hD4dEIAAADHuAF1QgAAQBmzC3VCAADABVsVdUIAAABYVR91QgAAQKpPKXVCAAAAMaUydUIAAECDnzx1QgAAwG9HRnVCAAAAwkFQdUIAAICu6Vl1QgAAwADkY3VCAAAAU95tdUIAAIA/hnd1QgAAwJGAgXVCAABAfiiLdUIAAIDQIpV1QgAAwCIdn3VCAADAQyCodUIAAACWGrJ1QgAAgILCu3VCAADA1LzFdUIAAEDBZM91QgAAgBNf2XVCAADAZVnjdUIAAEBSAe11QgAAgKT79nVCAAAAkaMAdkIAAEDjnQp2QgAAgDWYFHZC\",\"dtype\":\"float64\",\"shape\":[87]},\"y\":{\"__ndarray__\":\"AAAAAABAj0AAAAAAAHiOQAAAAAAAGI9AAAAAAAAYj0AAAAAAAECPQAAAAAAAHJFAAAAAAAAwkUAAAAAAAGiQQAAAAAAAaJBAAAAAAAD4i0AAAAAAAPSLQAAAAAAAsI1AAAAAAAC4kEAAAAAAAByQQAAAAAAAaJBAAAAAAADIkEAAAAAAAKyQQAAAAAAAFJBAAAAAAACgkEAAAAAAABCQQAAAAAAA0I9AAAAAAABAj0AAAAAAAAiQQAAAAAAAKpBAAAAAAAAYkEAAAAAAAPCPQAAAAAAA2I9AAAAAAAAEkEAAAAAAANiPQAAAAAAAGJBAAAAAAAAEkEAAAAAAAASQQAAAAAAAeJBAAAAAAAAIkUAAAAAAADCRQAAAAAAAgJFAAAAAAABckkAAAAAAAMCSQAAAAAAAhJNAAAAAAAAuk0AAAAAAAMCSQAAAAAAA+JJAAAAAAACIk0AAAAAAANyTQAAAAAAAUJRAAAAAAABQlEAAAAAAAFCUQAAAAAAAUJRAAAAAAAB8lUAAAAAAAF6UQAAAAAAAZJRAAAAAAAAYlUAAAAAAAOyUQAAAAAAALJVAAAAAAADulEAAAAAAAECVQAAAAAAAcJVAAAAAAAC4lUAAAAAAAPCVQAAAAAAAMJZAAAAAAADIlEAAAAAAAJyUQAAAAAAA1JRAAAAAAAAAlUAAAAAAABiVQAAAAAAAGJVAAAAAAAAYlUAAAAAAABiVQAAAAAAAdJRAAAAAAADclEAAAAAAAMiUQAAAAAAA3JRAAAAAAAAAlEAAAAAAAKSTQAAAAAAAcJRAAAAAAADAlEAAAAAAAJCUQAAAAAAA/JRAAAAAAAAYlUAAAAAAABSVQAAAAAAA9JRAAAAAAAC0lEAAAAAAAFCUQAAAAAAAPJRAAAAAAABclEAAAAAAAOyUQAAAAAAA/JRA\",\"dtype\":\"float64\",\"shape\":[87]}}},\"id\":\"c5c3019d-8a45-4ddb-b1f7-e4d100122dd2\",\"type\":\"ColumnDataSource\"},{\"attributes\":{\"axis_label\":\"Value\",\"formatter\":{\"id\":\"693dce2d-80ef-44af-ad3e-28f336f2db1d\",\"type\":\"NumeralTickFormatter\"},\"plot\":{\"id\":\"5cc87a23-0314-4ff0-aea4-e1989502e7e4\",\"subtype\":\"Figure\",\"type\":\"Plot\"},\"ticker\":{\"id\":\"142c2a59-7b2e-43aa-864f-976c875958c1\",\"type\":\"BasicTicker\"}},\"id\":\"520d4f01-0518-434e-b5d2-12929366635e\",\"type\":\"LinearAxis\"},{\"attributes\":{\"source\":{\"id\":\"8d8c722d-23f1-41b0-977c-d8dd88cb1f03\",\"type\":\"ColumnDataSource\"}},\"id\":\"23a8f364-d5e0-4d4d-8c94-020229a8cfa6\",\"type\":\"CDSView\"},{\"attributes\":{\"months\":[0,1,2,3,4,5,6,7,8,9,10,11]},\"id\":\"7556c690-7ae3-48eb-ab9b-538bfefc382e\",\"type\":\"MonthsTicker\"},{\"attributes\":{\"axis_label\":\"Date\",\"formatter\":{\"id\":\"7d04bce0-a155-431e-b145-90915a4750bb\",\"type\":\"DatetimeTickFormatter\"},\"plot\":{\"id\":\"5cc87a23-0314-4ff0-aea4-e1989502e7e4\",\"subtype\":\"Figure\",\"type\":\"Plot\"},\"ticker\":{\"id\":\"80bba30c-5f12-4aab-a0fd-6bbc09d00329\",\"type\":\"DatetimeTicker\"}},\"id\":\"16023dc9-4e11-45ba-80e7-faf8227d9a70\",\"type\":\"DatetimeAxis\"},{\"attributes\":{\"below\":[{\"id\":\"16023dc9-4e11-45ba-80e7-faf8227d9a70\",\"type\":\"DatetimeAxis\"}],\"left\":[{\"id\":\"520d4f01-0518-434e-b5d2-12929366635e\",\"type\":\"LinearAxis\"}],\"plot_height\":500,\"plot_width\":800,\"renderers\":[{\"id\":\"16023dc9-4e11-45ba-80e7-faf8227d9a70\",\"type\":\"DatetimeAxis\"},{\"id\":\"9398f100-12c6-4fb0-822f-9a27abb84788\",\"type\":\"Grid\"},{\"id\":\"520d4f01-0518-434e-b5d2-12929366635e\",\"type\":\"LinearAxis\"},{\"id\":\"1c71738a-f89d-474e-8f55-eb78c036fb3b\",\"type\":\"Grid\"},{\"id\":\"8b4dde1f-cd86-46c2-a5f6-d99122bddb4c\",\"type\":\"BoxAnnotation\"},{\"id\":\"21325ac7-3176-42dc-8e4f-cc8adab35858\",\"type\":\"Legend\"},{\"id\":\"3dc885af-573b-476b-869f-d25bb0d77792\",\"type\":\"GlyphRenderer\"},{\"id\":\"0bc09237-b1fc-4af3-930c-b156e9ed450f\",\"type\":\"GlyphRenderer\"},{\"id\":\"9d8b4291-ff55-48cc-af32-8dda2f2ce012\",\"type\":\"GlyphRenderer\"},{\"id\":\"5c4ac1c9-a87b-423e-ae70-a57140a96292\",\"type\":\"GlyphRenderer\"},{\"id\":\"18e16141-9e67-414b-8b93-6e7590f22cbc\",\"type\":\"GlyphRenderer\"},{\"id\":\"59b76018-2881-41e9-92b3-415fe3ed6be1\",\"type\":\"GlyphRenderer\"},{\"id\":\"d85ac5ac-0c97-4c3f-a4b7-f9c6fda309d1\",\"type\":\"GlyphRenderer\"},{\"id\":\"02ab0398-e2db-469e-b22d-7801527805a1\",\"type\":\"GlyphRenderer\"},{\"id\":\"001c196d-c839-4fa4-ac73-ab906a032ab0\",\"type\":\"GlyphRenderer\"},{\"id\":\"7feb52d4-43ae-4141-819e-eda2c43af5ac\",\"type\":\"GlyphRenderer\"}],\"title\":{\"id\":\"72351d4e-0a79-495c-a302-af582b637191\",\"type\":\"Title\"},\"toolbar\":{\"id\":\"56775b9f-b0e2-4733-aa14-0c517b61c4df\",\"type\":\"Toolbar\"},\"x_range\":{\"id\":\"21b5dce4-3fb2-4d7d-8492-e1abbe86bb37\",\"type\":\"DataRange1d\"},\"x_scale\":{\"id\":\"b4ce21cc-60e6-4065-acb2-59c6bc0d5c05\",\"type\":\"LinearScale\"},\"y_range\":{\"id\":\"5d8675f1-7776-4f23-9fb2-4434b4ec6b56\",\"type\":\"Range1d\"},\"y_scale\":{\"id\":\"4772d28b-4b7c-4598-95f7-121636df54a2\",\"type\":\"LinearScale\"}},\"id\":\"5cc87a23-0314-4ff0-aea4-e1989502e7e4\",\"subtype\":\"Figure\",\"type\":\"Plot\"},{\"attributes\":{\"source\":{\"id\":\"c5c3019d-8a45-4ddb-b1f7-e4d100122dd2\",\"type\":\"ColumnDataSource\"}},\"id\":\"189030ee-4569-40f6-9732-285f2f9bb800\",\"type\":\"CDSView\"},{\"attributes\":{\"data_source\":{\"id\":\"8d8c722d-23f1-41b0-977c-d8dd88cb1f03\",\"type\":\"ColumnDataSource\"},\"glyph\":{\"id\":\"70edcbc0-8762-46a0-96d0-fe5eca0bafc2\",\"type\":\"Line\"},\"hover_glyph\":null,\"muted_glyph\":null,\"nonselection_glyph\":{\"id\":\"514c8689-3107-49ef-b018-819733409f74\",\"type\":\"Line\"},\"selection_glyph\":null,\"view\":{\"id\":\"23a8f364-d5e0-4d4d-8c94-020229a8cfa6\",\"type\":\"CDSView\"}},\"id\":\"7feb52d4-43ae-4141-819e-eda2c43af5ac\",\"type\":\"GlyphRenderer\"},{\"attributes\":{},\"id\":\"bdf3970c-21c2-4180-8c4c-549d2080fdd3\",\"type\":\"WheelZoomTool\"},{\"attributes\":{\"line_color\":\"#9467bd\",\"x\":{\"field\":\"x\"},\"y\":{\"field\":\"y\"}},\"id\":\"5797d0a1-027b-473c-85f8-7005f81a84be\",\"type\":\"Line\"},{\"attributes\":{\"source\":{\"id\":\"86f822f4-e1d3-4e5e-a9d3-2dce20598a30\",\"type\":\"ColumnDataSource\"}},\"id\":\"8ff02e75-3b68-4c19-8b98-2265e6e79fe4\",\"type\":\"CDSView\"},{\"attributes\":{\"callback\":null,\"column_names\":[\"x\",\"y\"],\"data\":{\"x\":{\"__ndarray__\":\"AABAQqHJckIAAICUm9NyQgAAwOaV3XJCAADAB5nmckIAAABak/ByQgAAgEY7+nJCAADAmDUEc0IAAECF3Q1zQgAAgNfXF3NCAADAKdIhc0IAAEAWeitzQgAAgGh0NXNCAAAAVRw/c0IAAECnFklzQgAAgPkQU3NCAABAgGZcc0IAAIDSYGZzQgAAAL8IcHNCAABAEQN6c0IAAMD9qoNzQgAAAFCljXNCAABAop+Xc0IAAMCOR6FzQgAAAOFBq3NCAACAzem0c0IAAMAf5L5zQgAAAHLeyHNCAAAAk+HRc0IAAEDl29tzQgAAwNGD5XNCAAAAJH7vc0IAAIAQJvlzQgAAwGIgA3RCAAAAtRoNdEIAAIChwhZ0QgAAwPO8IHRCAABA4GQqdEIAAIAyXzR0QgAAwIRZPnRCAADApVxHdEIAAAD4VlF0QgAAgOT+WnRCAADANvlkdEIAAEAjoW50QgAAgHWbeHRCAADAx5WCdEIAAEC0PYx0QgAAgAY4lnRCAAAA89+fdEIAAEBF2ql0QgAAgJfUs3RCAACAuNe8dEIAAMAK0sZ0QgAAQPd50HRCAACASXTadEIAAAA2HOR0QgAAQIgW7nRCAACA2hD4dEIAAADHuAF1QgAAQBmzC3VCAADABVsVdUIAAABYVR91QgAAQKpPKXVCAAAAMaUydUIAAECDnzx1QgAAwG9HRnVCAAAAwkFQdUIAAICu6Vl1QgAAwADkY3VCAAAAU95tdUIAAIA/hnd1QgAAwJGAgXVCAABAfiiLdUIAAIDQIpV1QgAAwCIdn3VCAADAQyCodUIAAACWGrJ1QgAAgILCu3VCAADA1LzFdUIAAEDBZM91QgAAgBNf2XVCAADAZVnjdUIAAEBSAe11QgAAgKT79nVCAAAAkaMAdkIAAEDjnQp2QgAAgDWYFHZC\",\"dtype\":\"float64\",\"shape\":[87]},\"y\":{\"__ndarray__\":\"AAAAAAAA+H8AAAAAAAD4fwAAAAAAAPh/AAAAAAAA+H8AAAAAAAD4fwAAAAAAAPh/AAAAAAAA+H8AAAAAAAD4fwAAAAAAAPh/AAAAAAAA+H8AAAAAAAD4fwAAAAAAAPh/AAAAAAAA+H8AAAAAAAD4fwAAAAAAAPh/AAAAAAAA+H8AAAAAAAD4fwAAAAAAAPh/AAAAAAAA+H8AAAAAAAD4fwAAAAAAAPh/AAAAAAAA+H8AAAAAAAD4fwAAAAAAAPh/AAAAAAAA+H8AAAAAAAD4fwAAAAAAAPh/AAAAAAAA+H8AAAAAAAD4fwAAAAAAAPh/AAAAAAAA+H8AAAAAAAD4fwAAAAAA9JFAAAAAAAAYlUAAAAAAABCVQAAAAAAAbJRAAAAAAAC8lEAAAAAAAAyUQAAAAAAAnJNAAAAAAAA8lEAAAAAAAHiVQAAAAAAA4JVAAAAAAAD4lEAAAAAAABiVQAAAAAAA4JVAAAAAAADglUAAAAAAAMaVQAAAAAAALJVAAAAAAAC0lEAAAAAAAIyUQAAAAAAAtJRAAAAAAAC0lEAAAAAAAHyUQAAAAAAAxpVAAAAAAABslkAAAAAAAHCXQAAAAAAA1JdAAAAAAADUl0AAAAAAACSYQAAAAAAACphAAAAAAAAYmEAAAAAAAFyXQAAAAAAAXJdAAAAAAABkl0AAAAAAAAyXQAAAAAAAGJVAAAAAAAC0lEAAAAAAAOCVQAAAAAAA4JVAAAAAAAC6lUAAAAAAABiVQAAAAAAAPJRAAAAAAABQlEAAAAAAAFCUQAAAAAAAXJdAAAAAAAA4mEAAAAAAAACZQAAAAAAALJpAAAAAAACQmkAAAAAAAJCaQAAAAAAAkJpAAAAAAACQmkAAAAAAAHyaQAAAAAAAyJlAAAAAAABkmUAAAAAAAACZQAAAAAAAZJlA\",\"dtype\":\"float64\",\"shape\":[87]}}},\"id\":\"8d9dcadb-823c-4c75-91cb-b3e8c94f6d57\",\"type\":\"ColumnDataSource\"},{\"attributes\":{},\"id\":\"9815f6d3-f736-47d4-b2a0-bf924362ea6e\",\"type\":\"ResetTool\"},{\"attributes\":{\"mantissas\":[1,2,5],\"max_interval\":500.0,\"num_minor_ticks\":0},\"id\":\"7f17553d-4072-40c0-9925-9e4f6a7ebe8f\",\"type\":\"AdaptiveTicker\"},{\"attributes\":{\"data_source\":{\"id\":\"3ec0ff35-7403-4da6-9820-d3d10a7f4f7b\",\"type\":\"ColumnDataSource\"},\"glyph\":{\"id\":\"aaf83fb2-c24f-4ab1-9af8-d15dd29fbd4e\",\"type\":\"Line\"},\"hover_glyph\":null,\"muted_glyph\":null,\"nonselection_glyph\":{\"id\":\"d086f8eb-c91e-4636-a5df-aa4748ac0f76\",\"type\":\"Line\"},\"selection_glyph\":null,\"view\":{\"id\":\"d829f6d9-a37d-42cf-accf-ef30ca161102\",\"type\":\"CDSView\"}},\"id\":\"9d8b4291-ff55-48cc-af32-8dda2f2ce012\",\"type\":\"GlyphRenderer\"},{\"attributes\":{\"format\":\"$0,0\"},\"id\":\"693dce2d-80ef-44af-ad3e-28f336f2db1d\",\"type\":\"NumeralTickFormatter\"},{\"attributes\":{\"data_source\":{\"id\":\"8d9dcadb-823c-4c75-91cb-b3e8c94f6d57\",\"type\":\"ColumnDataSource\"},\"glyph\":{\"id\":\"c235c4ae-d02d-4ecc-9b53-423352656776\",\"type\":\"Line\"},\"hover_glyph\":null,\"muted_glyph\":null,\"nonselection_glyph\":{\"id\":\"e3ab6a04-175a-47fd-963d-85d98d0bb816\",\"type\":\"Line\"},\"selection_glyph\":null,\"view\":{\"id\":\"893a3b89-dfd0-4050-9c86-17566bb23a72\",\"type\":\"CDSView\"}},\"id\":\"001c196d-c839-4fa4-ac73-ab906a032ab0\",\"type\":\"GlyphRenderer\"},{\"attributes\":{\"overlay\":{\"id\":\"8b4dde1f-cd86-46c2-a5f6-d99122bddb4c\",\"type\":\"BoxAnnotation\"}},\"id\":\"f24bbde6-98f5-404c-b4be-c88a10032577\",\"type\":\"BoxZoomTool\"},{\"attributes\":{\"items\":[{\"id\":\"84cf857a-d94b-4123-8e2d-58547d96620d\",\"type\":\"LegendItem\"},{\"id\":\"f5c33e31-2d71-4fd0-8b36-2d0c2e48ffc5\",\"type\":\"LegendItem\"},{\"id\":\"b3d72dc1-042e-421d-b3cc-f8dfd997e2c9\",\"type\":\"LegendItem\"},{\"id\":\"256c63dd-75bb-4cff-ab1f-61d6f1582332\",\"type\":\"LegendItem\"},{\"id\":\"1b5b12bf-afd8-4d41-9f88-8c8ab181f909\",\"type\":\"LegendItem\"},{\"id\":\"fcaf3f10-b717-441e-aba4-d13f2e5ceeec\",\"type\":\"LegendItem\"},{\"id\":\"f7b0f1c3-e462-4f2d-b3c2-842672dd16f1\",\"type\":\"LegendItem\"},{\"id\":\"f3a2fddf-28d8-4ae3-84e7-fd322d38af7d\",\"type\":\"LegendItem\"},{\"id\":\"2b0555e8-72ac-4e6c-90c7-f319ce97aea0\",\"type\":\"LegendItem\"},{\"id\":\"9f3eba66-c684-4c14-99da-ba2dc6f8d55f\",\"type\":\"LegendItem\"}],\"location\":\"top_left\",\"plot\":{\"id\":\"5cc87a23-0314-4ff0-aea4-e1989502e7e4\",\"subtype\":\"Figure\",\"type\":\"Plot\"}},\"id\":\"21325ac7-3176-42dc-8e4f-cc8adab35858\",\"type\":\"Legend\"},{\"attributes\":{},\"id\":\"f8e1f41b-3c9c-44ed-9dfc-cf03947fa5de\",\"type\":\"YearsTicker\"},{\"attributes\":{\"active_drag\":\"auto\",\"active_inspect\":\"auto\",\"active_scroll\":\"auto\",\"active_tap\":\"auto\",\"tools\":[{\"id\":\"02ca354a-c997-4aa3-897d-1c580ed3a677\",\"type\":\"PanTool\"},{\"id\":\"bdf3970c-21c2-4180-8c4c-549d2080fdd3\",\"type\":\"WheelZoomTool\"},{\"id\":\"f24bbde6-98f5-404c-b4be-c88a10032577\",\"type\":\"BoxZoomTool\"},{\"id\":\"9815f6d3-f736-47d4-b2a0-bf924362ea6e\",\"type\":\"ResetTool\"}]},\"id\":\"56775b9f-b0e2-4733-aa14-0c517b61c4df\",\"type\":\"Toolbar\"},{\"attributes\":{\"line_color\":\"#ff7f0e\",\"x\":{\"field\":\"x\"},\"y\":{\"field\":\"y\"}},\"id\":\"78f40836-fd31-478b-8bb2-d92f2e4e5a62\",\"type\":\"Line\"},{\"attributes\":{\"label\":{\"value\":\"Single\"},\"renderers\":[{\"id\":\"001c196d-c839-4fa4-ac73-ab906a032ab0\",\"type\":\"GlyphRenderer\"}]},\"id\":\"2b0555e8-72ac-4e6c-90c7-f319ce97aea0\",\"type\":\"LegendItem\"},{\"attributes\":{},\"id\":\"b4ce21cc-60e6-4065-acb2-59c6bc0d5c05\",\"type\":\"LinearScale\"},{\"attributes\":{\"label\":{\"value\":\"Multi\"},\"renderers\":[{\"id\":\"02ab0398-e2db-469e-b22d-7801527805a1\",\"type\":\"GlyphRenderer\"}]},\"id\":\"f3a2fddf-28d8-4ae3-84e7-fd322d38af7d\",\"type\":\"LegendItem\"},{\"attributes\":{\"line_alpha\":0.1,\"line_color\":\"#1f77b4\",\"x\":{\"field\":\"x\"},\"y\":{\"field\":\"y\"}},\"id\":\"d84646f1-fa4d-4543-a2bd-b265f19b662c\",\"type\":\"Line\"},{\"attributes\":{\"line_alpha\":0.1,\"line_color\":\"#1f77b4\",\"x\":{\"field\":\"x\"},\"y\":{\"field\":\"y\"}},\"id\":\"514c8689-3107-49ef-b018-819733409f74\",\"type\":\"Line\"}],\"root_ids\":[\"5cc87a23-0314-4ff0-aea4-e1989502e7e4\"]},\"title\":\"Bokeh Application\",\"version\":\"0.12.13\"}};\n",
       "  var render_items = [{\"docid\":\"04bf73c2-1b5c-458e-a05f-bfcbf093e5e3\",\"elementid\":\"3b73cdd9-85cf-4139-8f30-371cab3e86c0\",\"modelid\":\"5cc87a23-0314-4ff0-aea4-e1989502e7e4\"}];\n",
       "  root.Bokeh.embed.embed_items_notebook(docs_json, render_items);\n",
       "\n",
       "  }\n",
       "  if (root.Bokeh !== undefined) {\n",
       "    embed_document(root);\n",
       "  } else {\n",
       "    var attempts = 0;\n",
       "    var timer = setInterval(function(root) {\n",
       "      if (root.Bokeh !== undefined) {\n",
       "        embed_document(root);\n",
       "        clearInterval(timer);\n",
       "      }\n",
       "      attempts++;\n",
       "      if (attempts > 100) {\n",
       "        console.log(\"Bokeh: ERROR: Unable to run BokehJS code because BokehJS library is missing\")\n",
       "        clearInterval(timer);\n",
       "      }\n",
       "    }, 10, root)\n",
       "  }\n",
       "})(window);"
      ],
      "application/vnd.bokehjs_exec.v0+json": ""
     },
     "metadata": {
      "application/vnd.bokehjs_exec.v0+json": {
       "id": "5cc87a23-0314-4ff0-aea4-e1989502e7e4"
      }
     },
     "output_type": "display_data"
    }
   ],
   "source": [
    "# get and visualize all MRP data for City of Austin City\n",
    "s_codes_info = filter_by_area_prefix(area_cat_code = \"C11734\", ind_prefix = \"MRP\", df = codes)\n",
    "s_codes_list = list(s_codes_info.index)\n",
    "p = create_plot(s_codes_info)\n",
    "show(p)"
   ]
  },
  {
   "cell_type": "markdown",
   "metadata": {},
   "source": [
    "As expected the prices have risen. Somewhat surprisingly, the city and metro area price seem to be rising at about the same rate. This seems to indicate prices are raising in the suburbs too. Also of note is the rapid growth of studio prices in Austin. However, this is probably because Zillow categorizes even luxury lofts as studios if they don't have a separate bedroom."
   ]
  }
 ],
 "metadata": {
  "anaconda-cloud": {},
  "kernelspec": {
   "display_name": "Python 3",
   "language": "python",
   "name": "python3"
  },
  "language_info": {
   "codemirror_mode": {
    "name": "ipython",
    "version": 3
   },
   "file_extension": ".py",
   "mimetype": "text/x-python",
   "name": "python",
   "nbconvert_exporter": "python",
   "pygments_lexer": "ipython3",
   "version": "3.6.4"
  }
 },
 "nbformat": 4,
 "nbformat_minor": 1
}
